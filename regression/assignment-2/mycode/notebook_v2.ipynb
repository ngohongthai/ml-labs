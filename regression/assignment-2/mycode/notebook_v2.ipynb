{
 "cells": [
  {
   "cell_type": "code",
   "execution_count": 3,
   "metadata": {},
   "outputs": [
    {
     "name": "stdout",
     "output_type": "stream",
     "text": [
      "The autoreload extension is already loaded. To reload it, use:\n",
      "  %reload_ext autoreload\n"
     ]
    }
   ],
   "source": [
    "%load_ext autoreload\n",
    "%autoreload 2\n",
    "\n",
    "import warnings\n",
    "warnings.filterwarnings('ignore')\n",
    "\n",
    "import numpy as np\n",
    "import pandas as pd\n",
    "import matplotlib.pyplot as plt\n",
    "import utils_v2 as utils"
   ]
  },
  {
   "cell_type": "code",
   "execution_count": 4,
   "metadata": {},
   "outputs": [
    {
     "data": {
      "text/plain": [
       "((1460, 81), (1459, 80))"
      ]
     },
     "execution_count": 4,
     "metadata": {},
     "output_type": "execute_result"
    }
   ],
   "source": [
    "train = pd.read_csv('../dataset/train.csv')\n",
    "test = pd.read_csv('../dataset/test.csv')\n",
    "train.shape, test.shape"
   ]
  },
  {
   "cell_type": "markdown",
   "metadata": {},
   "source": [
    "## 1. Data Cleaning"
   ]
  },
  {
   "cell_type": "markdown",
   "metadata": {},
   "source": [
    "### 1.1. Xoá dữ liệu bị khuyết nhiều (>50%)"
   ]
  },
  {
   "cell_type": "code",
   "execution_count": 5,
   "metadata": {},
   "outputs": [
    {
     "data": {
      "text/html": [
       "<div>\n",
       "<style scoped>\n",
       "    .dataframe tbody tr th:only-of-type {\n",
       "        vertical-align: middle;\n",
       "    }\n",
       "\n",
       "    .dataframe tbody tr th {\n",
       "        vertical-align: top;\n",
       "    }\n",
       "\n",
       "    .dataframe thead th {\n",
       "        text-align: right;\n",
       "    }\n",
       "</style>\n",
       "<table border=\"1\" class=\"dataframe\">\n",
       "  <thead>\n",
       "    <tr style=\"text-align: right;\">\n",
       "      <th></th>\n",
       "      <th>Count</th>\n",
       "      <th>Percent</th>\n",
       "    </tr>\n",
       "  </thead>\n",
       "  <tbody>\n",
       "    <tr>\n",
       "      <th>PoolQC</th>\n",
       "      <td>1453</td>\n",
       "      <td>0.995205</td>\n",
       "    </tr>\n",
       "    <tr>\n",
       "      <th>MiscFeature</th>\n",
       "      <td>1406</td>\n",
       "      <td>0.963014</td>\n",
       "    </tr>\n",
       "    <tr>\n",
       "      <th>Alley</th>\n",
       "      <td>1369</td>\n",
       "      <td>0.937671</td>\n",
       "    </tr>\n",
       "    <tr>\n",
       "      <th>Fence</th>\n",
       "      <td>1179</td>\n",
       "      <td>0.807534</td>\n",
       "    </tr>\n",
       "    <tr>\n",
       "      <th>FireplaceQu</th>\n",
       "      <td>690</td>\n",
       "      <td>0.472603</td>\n",
       "    </tr>\n",
       "  </tbody>\n",
       "</table>\n",
       "</div>"
      ],
      "text/plain": [
       "             Count   Percent\n",
       "PoolQC        1453  0.995205\n",
       "MiscFeature   1406  0.963014\n",
       "Alley         1369  0.937671\n",
       "Fence         1179  0.807534\n",
       "FireplaceQu    690  0.472603"
      ]
     },
     "execution_count": 5,
     "metadata": {},
     "output_type": "execute_result"
    }
   ],
   "source": [
    "train_missing_data = utils.find_missing_data(train)\n",
    "train_missing_data.head()"
   ]
  },
  {
   "cell_type": "code",
   "execution_count": 6,
   "metadata": {},
   "outputs": [
    {
     "data": {
      "text/html": [
       "<div>\n",
       "<style scoped>\n",
       "    .dataframe tbody tr th:only-of-type {\n",
       "        vertical-align: middle;\n",
       "    }\n",
       "\n",
       "    .dataframe tbody tr th {\n",
       "        vertical-align: top;\n",
       "    }\n",
       "\n",
       "    .dataframe thead th {\n",
       "        text-align: right;\n",
       "    }\n",
       "</style>\n",
       "<table border=\"1\" class=\"dataframe\">\n",
       "  <thead>\n",
       "    <tr style=\"text-align: right;\">\n",
       "      <th></th>\n",
       "      <th>Count</th>\n",
       "      <th>Percent</th>\n",
       "    </tr>\n",
       "  </thead>\n",
       "  <tbody>\n",
       "    <tr>\n",
       "      <th>FireplaceQu</th>\n",
       "      <td>690</td>\n",
       "      <td>0.472603</td>\n",
       "    </tr>\n",
       "    <tr>\n",
       "      <th>LotFrontage</th>\n",
       "      <td>259</td>\n",
       "      <td>0.177397</td>\n",
       "    </tr>\n",
       "    <tr>\n",
       "      <th>GarageYrBlt</th>\n",
       "      <td>81</td>\n",
       "      <td>0.055479</td>\n",
       "    </tr>\n",
       "    <tr>\n",
       "      <th>GarageCond</th>\n",
       "      <td>81</td>\n",
       "      <td>0.055479</td>\n",
       "    </tr>\n",
       "    <tr>\n",
       "      <th>GarageType</th>\n",
       "      <td>81</td>\n",
       "      <td>0.055479</td>\n",
       "    </tr>\n",
       "  </tbody>\n",
       "</table>\n",
       "</div>"
      ],
      "text/plain": [
       "             Count   Percent\n",
       "FireplaceQu    690  0.472603\n",
       "LotFrontage    259  0.177397\n",
       "GarageYrBlt     81  0.055479\n",
       "GarageCond      81  0.055479\n",
       "GarageType      81  0.055479"
      ]
     },
     "execution_count": 6,
     "metadata": {},
     "output_type": "execute_result"
    }
   ],
   "source": [
    "# Lấy dữ ra những cột mà có lượng dữ liệu thiếu quá 50%\n",
    "# Với những dữ liệu thiếu nhiều như PoolQC (>99%) hay  MiscFeature (>96%) \n",
    "# thì dù có fill bằng những giá trị khác NA đi nữa thì phần lớn data là giống nhau trên tất cả các quan sát\n",
    "# do đó rất dễ có khả năng bị loại bỏ trong giai đoạn \"Feature selection\"\n",
    "# => Bỏ trước đỡ mất công biến đổi ảnh hưởng performance\n",
    "large_missing_columns = train_missing_data[train_missing_data['Percent'] > 0.5].index.to_list() \n",
    "# Xoá dữ liệu bị thiếu trong training set và test set\n",
    "train.drop(large_missing_columns, axis=1, inplace=True)\n",
    "test.drop(large_missing_columns, axis=1, inplace=True)\n",
    "\n",
    "train_missing_data.drop(large_missing_columns, axis=0, inplace=True)\n",
    "train_missing_data.head()"
   ]
  },
  {
   "cell_type": "markdown",
   "metadata": {},
   "source": [
    "### 4.2 Điền các dữ liệu bị thiếu với MICE\n",
    "\n",
    "Đây là phương pháp sử dụng các thuật toán học máy để dự đoán các dữ liệu bị thiếu.\n",
    "\n",
    "**MICE Alogorithm cho number variable**\n",
    "\n",
    "- Bước 1: Khởi tạo dataset, điền các giá trị NA bằng giá trị mean.\n",
    "- Bước 2: Với một missing variable bất kỳ, sẽ được chọn làm **target**, các feature khác sẽ đóng vai trò làm \n",
    "  features để dự đoán missing variable đc chọn trên kia => train ra một model\n",
    "- Bước 3: Dùng model được train từ Bước 2 để dự đoán các giá trị còn thiếu của missing variable đó.\n",
    "- Bước 4: Lặp lại để điền các missing value khác theo cách tương tự.\n",
    "\n",
    "**MICE Alogorithm cho category variable**\n",
    "\n",
    "- Với category thì không thể dùng mean, mà phải dùng mode. \n",
    "- Gradient Boosting Classifier to impute the ordinal encoded data\n",
    "..."
   ]
  },
  {
   "cell_type": "code",
   "execution_count": 7,
   "metadata": {},
   "outputs": [],
   "source": [
    "impute_cols = train_missing_data[train_missing_data['Percent'] > 0].index.to_list()\n",
    "numeric_cols = train.select_dtypes(include=['int64', 'float64']).columns\n",
    "categoric_cols = train.select_dtypes(include=['object']).columns"
   ]
  },
  {
   "cell_type": "code",
   "execution_count": 8,
   "metadata": {},
   "outputs": [],
   "source": [
    "train_numeric = train[numeric_cols[:-1]] #ignore SalePrice\n",
    "train_categoric = train[categoric_cols]\n",
    "\n",
    "test_numeric = test[numeric_cols[:-1]]\n",
    "test_categoric = test[categoric_cols]"
   ]
  },
  {
   "cell_type": "code",
   "execution_count": 9,
   "metadata": {},
   "outputs": [],
   "source": [
    "train_numeric_imp, test_numeric_imp = utils.mice_imputation_numeric(train_numeric, test_numeric)\n",
    "train_categoric_imp, test_categoric_imp = utils.mice_imputation_categoric(train_categoric, test_categoric)\n",
    "'''Concatenate Numeric and Categoric Training and Test set data '''\n",
    "train = pd.concat([train_numeric_imp, train_categoric_imp, train['SalePrice']], axis = 1)\n",
    "test = pd.concat([test_numeric_imp, test_categoric_imp], axis =1)"
   ]
  }
 ],
 "metadata": {
  "kernelspec": {
   "display_name": "Python 3.7.11 ('tf')",
   "language": "python",
   "name": "python3"
  },
  "language_info": {
   "codemirror_mode": {
    "name": "ipython",
    "version": 3
   },
   "file_extension": ".py",
   "mimetype": "text/x-python",
   "name": "python",
   "nbconvert_exporter": "python",
   "pygments_lexer": "ipython3",
   "version": "3.7.11"
  },
  "orig_nbformat": 4,
  "vscode": {
   "interpreter": {
    "hash": "d4769b5f4808649e9f6efc2edf9fbe2018aef5c0a679de8e6bc3eb348403e35b"
   }
  }
 },
 "nbformat": 4,
 "nbformat_minor": 2
}
