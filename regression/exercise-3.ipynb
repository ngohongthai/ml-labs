{
 "cells": [
  {
   "cell_type": "markdown",
   "metadata": {
    "id": "5MdQmbilN1Az",
    "pycharm": {
     "name": "#%% md\n"
    }
   },
   "source": [
    "# LASSO (coordinate descent)"
   ]
  },
  {
   "cell_type": "markdown",
   "metadata": {
    "id": "Nib8YtjHN1A1",
    "pycharm": {
     "name": "#%% md\n"
    }
   },
   "source": [
    "Trong notebook này, chúng ta sẽ triển khai bộ giải LASSO qua coordinate descent. Chúng ta sẽ:\n",
    "* Viết một hàm chuẩn hóa các đặc trưng\n",
    "* Triển khai coordinate descent cho LASSO\n",
    "* Khám phán tác động của L1 penalty"
   ]
  },
  {
   "cell_type": "markdown",
   "metadata": {
    "id": "NdvQZPG8N1A5",
    "pycharm": {
     "name": "#%% md\n"
    }
   },
   "source": [
    "## Như thường lệ"
   ]
  },
  {
   "cell_type": "code",
   "execution_count": 34,
   "metadata": {
    "id": "8zYugIAXN1A7",
    "pycharm": {
     "name": "#%%\n"
    }
   },
   "outputs": [],
   "source": [
    "import sklearn\n",
    "import pandas\n",
    "import matplotlib.pyplot as plt\n",
    "%matplotlib inline\n",
    "\n",
    "import warnings\n",
    "warnings.filterwarnings('ignore')"
   ]
  },
  {
   "cell_type": "markdown",
   "metadata": {
    "id": "ZQwqSfliN1A-",
    "pycharm": {
     "name": "#%% md\n"
    }
   },
   "source": [
    "## Load dữ liệu doanh số bán nhà\n",
    "\n",
    "Tập dữ liệu doanh số bán nhà ở quận King, Seatle, WA. Nghe quen chứ?"
   ]
  },
  {
   "cell_type": "code",
   "execution_count": 35,
   "metadata": {
    "id": "9HSohLu5N1A_",
    "pycharm": {
     "name": "#%%\n"
    }
   },
   "outputs": [],
   "source": [
    "full_data = pandas.read_csv(\"house_data/kc_house_data.csv\", index_col=0)\n",
    "# Trong tập dữ liệu, 'floors' được xác định là kiểu string,\n",
    "# nên chúng ta sẽ chuyển đổi chúng thành int trước khi sử dụng dưới đây\n",
    "full_data['floors'] = full_data['floors'].astype(int) "
   ]
  },
  {
   "cell_type": "markdown",
   "metadata": {
    "id": "BP175k_YN1BA",
    "pycharm": {
     "name": "#%% md\n"
    }
   },
   "source": [
    "Nếu muốn thực hiện bất kỳ \"feature engineering\" nào như tạo các đặc trưng mới hoặc điều chỉnh đặc trưng sẵn có, chúng ta có thể sửa DataFrame của pandas như trong lab trước (Lab 2). Tuy nhiên, với notebook này, chúng ta sẽ làm việc với các đặc trưng có sẵn."
   ]
  },
  {
   "cell_type": "markdown",
   "metadata": {
    "id": "U1b_KaNoN1BB",
    "pycharm": {
     "name": "#%% md\n"
    }
   },
   "source": [
    "## Import các hàm hữu ích từ notebook trước"
   ]
  },
  {
   "cell_type": "markdown",
   "metadata": {
    "id": "6VV9sdXSN1BC",
    "pycharm": {
     "name": "#%% md\n"
    }
   },
   "source": [
    "Như trong Exercise 1, chúng ta chuyển đổi DataFrame thành ma trận Numpy 2D. Copy và paste `get_numpy_data()` từ exercise đó."
   ]
  },
  {
   "cell_type": "code",
   "execution_count": 36,
   "metadata": {
    "id": "cyzAEMJVN1BD",
    "pycharm": {
     "name": "#%%\n"
    }
   },
   "outputs": [],
   "source": [
    "import numpy as np # điều này cho phép gọi numpy as np "
   ]
  },
  {
   "cell_type": "code",
   "execution_count": 37,
   "metadata": {
    "id": "sgPkydiGN1BD",
    "pycharm": {
     "name": "#%%\n"
    }
   },
   "outputs": [],
   "source": [
    "def get_numpy_data(data, features_title, labels_title):\n",
    "    if('constant' not in data):\n",
    "        data['constant'] = 1 # đây là cách thêm cột constant. Chỉ thực hiện khi cần \n",
    "    # thêm cột 'constant' vào trước list các đặc trưng để chúng ta có thể trích xuất cùng với những thứ khác:\n",
    "    features_title = ['constant'] + features_title # đây là cách kết hợp 2 list\n",
    "    # chia dữ liệu thành sub-DataFrame chứa các đặc trưng đã chỉ định (gồm constant)\n",
    "    # gọi nó là features_columns.\n",
    "    features_columns = data[features_title]\n",
    "\n",
    "    # dòng tiếp theo sẽ trích xuất ma trận numpy từ biến features_columns:\n",
    "    feature_matrix = features_columns.values\n",
    "    # truy xuất dữ liệu được liên kết với đầu ra trong pandas Series\n",
    "    # gọi nó là output_column\n",
    "    output_column = data[labels_title]\n",
    "\n",
    "    # tiếp theo sẽ chuyển đổi Series đã nhắc thành một mảng numpy\n",
    "    output_array = output_column.values\n",
    "    return(feature_matrix, output_array)"
   ]
  },
  {
   "cell_type": "markdown",
   "metadata": {
    "id": "pznB8L7mN1BE",
    "pycharm": {
     "name": "#%% md\n"
    }
   },
   "source": [
    "Cũng copy và paste cả hàm `predict_output()` để tính các dự đoán cho toàn bộ ma trận đặc trưng với ma trận và trọng số đã cho:"
   ]
  },
  {
   "cell_type": "code",
   "execution_count": 38,
   "metadata": {
    "id": "OlEq3F0fN1BF",
    "pycharm": {
     "name": "#%%\n"
    }
   },
   "outputs": [],
   "source": [
    "def predict_output(features, weights):\n",
    "    # giả sử ma trận features chứa các đặc trưng ở dạng các cột và trọng số là mảng numpy tương ứng\n",
    "    # tạo vectơ dự đoán sử dụng np.dot()\n",
    "    predictions = np.dot(features, weights)\n",
    "    return(predictions)"
   ]
  },
  {
   "cell_type": "markdown",
   "metadata": {
    "id": "iOhG_MW8N1BF",
    "pycharm": {
     "name": "#%% md\n"
    }
   },
   "source": [
    "## Chuẩn hóa các đặc trưng\n",
    "Trong tập dữ liệu giá nhà, các đặc trưng thay đổi khá nhiều về độ lớn: ví dụ, `sqft_living` rất lớn so với `bedrooms`. Do đó, trọng số cho `sqft_living` sẽ nhỏ hơn rất nhiều so với trọng số cho `bedrooms`. Điều này khó giải quyết vì các trọng số \"nhỏ\" bị giảm đầu tiên khi `l1_penalty` tăng. \n",
    "\n",
    "Để công bằng với tất cả các đặc trưng, chúng ta cần **chuẩn hóa đặc trưng** như đã thảo luận trong các bài giảng: chia mỗi đặc trưng cho chuẩn 2 của nó để đặc trưng đã biến đổi có chuẩn 1.\n",
    "\n",
    "Hãy xem chúng ta có thể thực hiện chuẩn hóa này dễ dàng thế nào với Numpy: trước tiên chúng ta sẽ xem xét một ma trận nhỏ."
   ]
  },
  {
   "cell_type": "code",
   "execution_count": 39,
   "metadata": {
    "id": "9TkaelZlN1BG",
    "outputId": "30d1c5e2-0d8e-4237-bbe1-136af59b74f2",
    "pycharm": {
     "name": "#%%\n"
    }
   },
   "outputs": [
    {
     "name": "stdout",
     "output_type": "stream",
     "text": [
      "[[ 3.  5.  8.]\n",
      " [ 4. 12. 15.]]\n"
     ]
    }
   ],
   "source": [
    "X = np.array([[3.,5.,8.],[4.,12.,15.]])\n",
    "print(X)"
   ]
  },
  {
   "cell_type": "markdown",
   "metadata": {
    "id": "RmnDlMT6N1BH",
    "pycharm": {
     "name": "#%% md\n"
    }
   },
   "source": [
    "Numpy cung cấp cách viết tắt để tính toán chuẩn 2 của mỗi cột:"
   ]
  },
  {
   "cell_type": "code",
   "execution_count": 40,
   "metadata": {
    "id": "i0g3cgp_N1BI",
    "outputId": "217bb9ab-b5f4-41f0-b21b-2e5fe8a1927a",
    "pycharm": {
     "name": "#%%\n"
    }
   },
   "outputs": [
    {
     "name": "stdout",
     "output_type": "stream",
     "text": [
      "[ 5. 13. 17.]\n"
     ]
    }
   ],
   "source": [
    "norms = np.linalg.norm(X, axis=0) # cho [norm(X[:,0]), norm(X[:,1]), norm(X[:,2])]\n",
    "print(norms)"
   ]
  },
  {
   "cell_type": "markdown",
   "metadata": {
    "id": "DCZfkzGmN1BI",
    "pycharm": {
     "name": "#%% md\n"
    }
   },
   "source": [
    "Để chuẩn hóa, hãy áp dụng phép chia element-wise (thực hiện trên các phần tử tương ứng):"
   ]
  },
  {
   "cell_type": "code",
   "execution_count": 41,
   "metadata": {
    "id": "u22vfuSVN1BJ",
    "outputId": "f44110a2-62f9-49a1-dba3-4ea726061faa",
    "pycharm": {
     "name": "#%%\n"
    }
   },
   "outputs": [
    {
     "name": "stdout",
     "output_type": "stream",
     "text": [
      "[[0.6        0.38461538 0.47058824]\n",
      " [0.8        0.92307692 0.88235294]]\n"
     ]
    }
   ],
   "source": [
    "print(X / norms) # cho [X[:,0]/norm(X[:,0]), X[:,1]/norm(X[:,1]), X[:,2]/norm(X[:,2])]"
   ]
  },
  {
   "cell_type": "markdown",
   "metadata": {
    "id": "aB8xsWmQN1BK",
    "pycharm": {
     "name": "#%% md\n"
    }
   },
   "source": [
    "Với viết tắt mà chúng ta vừa đề cập, hãy viết một hàm ngắn là `normalize_features(feature_matrix)`, hàm này chuẩn hóa các cột của ma trận đặc trưng đã cho. Hàm phải sẽ về một cặp `(normalized_features, norms)`, trong đó mục thứ hai chứa chuẩn của các đặc trưng ban đầu. Như đã thảo luận trong các bài giảng, chúng ta sẽ sử dụng các chuẩn này để chuẩn hóa dữ liệu kiểm tra theo cách mà chúng ta chuẩn hóa dữ liệu huấn luyện."
   ]
  },
  {
   "cell_type": "code",
   "execution_count": 42,
   "metadata": {
    "id": "q5dH637MN1BL",
    "pycharm": {
     "name": "#%%\n"
    }
   },
   "outputs": [],
   "source": [
    "def normalize_features(feature_matrix):\n",
    "    norms = np.linalg.norm(feature_matrix, axis=0)\n",
    "    return (feature_matrix / norms, norms)"
   ]
  },
  {
   "cell_type": "markdown",
   "metadata": {
    "id": "FRyCTlqXN1BM",
    "pycharm": {
     "name": "#%% md\n"
    }
   },
   "source": [
    "Để kiểm tra đạo hàm, chạy cell sau:"
   ]
  },
  {
   "cell_type": "code",
   "execution_count": 43,
   "metadata": {
    "id": "YEBJAnhkN1BN",
    "outputId": "e54e3bf1-5f74-43a8-f52a-e4c4c2ee4389",
    "pycharm": {
     "name": "#%%\n"
    }
   },
   "outputs": [
    {
     "name": "stdout",
     "output_type": "stream",
     "text": [
      "[[0.6 0.6 0.6]\n",
      " [0.8 0.8 0.8]]\n",
      "[ 5. 10. 15.]\n"
     ]
    }
   ],
   "source": [
    "features, norms = normalize_features(np.array([[3.,6.,9.],[4.,8.,12.]]))\n",
    "print(features)\n",
    "# sẽ in ra\n",
    "# [[ 0.6  0.6  0.6]\n",
    "#  [ 0.8  0.8  0.8]]\n",
    "print(norms)\n",
    "# sẽ in ra\n",
    "# [5.  10.  15.]"
   ]
  },
  {
   "cell_type": "markdown",
   "metadata": {
    "id": "v33OSKiaN1BO",
    "pycharm": {
     "name": "#%% md\n"
    }
   },
   "source": [
    "## Triển khai Coordinate Descent với các đặc trưng được chuẩn hóa"
   ]
  },
  {
   "cell_type": "markdown",
   "metadata": {
    "id": "vda1_GtEN1BO",
    "pycharm": {
     "name": "#%% md\n"
    }
   },
   "source": [
    "Chúng ta tìm cách thu được một tập hợp trọng số thưa thớt bằng cách giảm thiểu hàm chi phí LASSO\n",
    "<!-- ``` SUM[ (prediction - output)^2 ] + lambda*( |w[1]| + ... + |w[k]|). ``` -->\n",
    "$cost = \\sum (prediction - output)^2 + \\lambda * \\sum_{i \\neq 0} |w_i|$\n",
    "\n",
    "(Theo quy ước, chúng ta không bao hàm $w_0$ (độ chệch) trong phần tử L1 penalty. Chúng ta không bao giờ đẩy intercept thành 0.)\n",
    "\n",
    "Dấu giá trị tuyệt đối làm cho hàm chi phí không thể phân biệt được, do đó gradient descent đơn giản không khả thi (bạn sẽ cần triển khai phương pháp subgradient descent). Thay vào đó, chúng ta sẽ sử dụng **coordinate descent**: ở mỗi lần lặp, chúng ta sẽ cố định tất cả các trọng số ngoại trừ trọng số `i` và tìm giá trị trọng số` i` thu nhỏ mục tiêu, tức là tìm: <br>\n",
    "<!-- ``` argmin_{w[i]} [ SUM[ (prediction - output)^2 ] + lambda*( |w[1]| + ... + |w[k]|) ] ``` -->\n",
    "$argmin_{w_i}(cost_i) = \\sum (prediction - output)^2 + \\lambda * \\sum_{i \\neq 0} |w_i| )$\n",
    "\n",
    "trong đó tất cả các trọng số khác $w_i$(`w[i]`) được coi là không đổi. Chúng ta sẽ tối ưu hóa $w_i$ lần lượt, tuần hoàn nhiều lần qua các trọng số.\n",
    "  1. Chọn tọa độ `i`\n",
    "  2. Tính $w_i$ giảm thiểu hàm chi phí $cost = (\\sum prediction - output) + \\lambda * \\sum_{i \\neq 0} |w_i|$\n",
    "  3. Lặp lại bước 1 và 2 cho tất cả các tọa độ nhiều lần. "
   ]
  },
  {
   "cell_type": "markdown",
   "metadata": {
    "id": "PnjPH4xiN1BP",
    "pycharm": {
     "name": "#%% md\n"
    }
   },
   "source": [
    "Với notebook này, chúng ta sử dụng **coordinate descent theo chu kỳ với các đặc trưng được chuẩn hóa**, trong đó chúng ta tuần hoàn qua các tọa độ theo thứ tự từ 0 đến (d-1) và giả sử các đặc trưng đã được chuẩn hóa như đã thảo luận ở trên. Công thức để tối ưu hóa từng tọa độ như sau:\n",
    "<!-- ```\n",
    "       ┌ (ro[i] + lambda/2)     if ro[i] < -lambda/2\n",
    "w[i] = ├ 0                      if -lambda/2 <= ro[i] <= lambda/2\n",
    "       └ (ro[i] - lambda/2)     if ro[i] > lambda/2\n",
    "``` -->\n",
    "$$w_i = \\left\\{\n",
    "\\begin{array}{ll}\n",
    "      \\rho_i + \\lambda / 2 & \\rho_i < -\\lambda/2 \\\\\n",
    "      0 & -\\lambda/2 \\leq \\rho_i \\leq \\lambda/2  \\\\\n",
    "      \\rho_i - \\lambda / 2 & \\rho_i > \\lambda/2 \\\\\n",
    "\\end{array} \n",
    "\\right. $$\n",
    "\n",
    "trong đó $\\rho_i$(`ro[i]`) được xác định như sau:\n",
    "<!-- ```ro[i] = SUM[ [feature_i]*(output - prediction + w[i]*[feature_i]) ]. ``` -->\n",
    "$\\rho_i = \\sum feature_i * (output - prediction + w_i*feature_i)$\n",
    "\n",
    "Lưu ý là chúng ta không điều chuẩn trọng số của đặc trưng không đổi (intercept|độ chệch) $w_0$(`w[0]`), nên với trọng số này cập nhật đơn giản là:\n",
    "<!-- ```w[0] = ro[i]``` -->\n",
    "$w_0 = \\rho_i$"
   ]
  },
  {
   "cell_type": "markdown",
   "metadata": {
    "id": "skAti6TvN1BS",
    "pycharm": {
     "name": "#%% md\n"
    }
   },
   "source": [
    "## Tác động của L1 penalty"
   ]
  },
  {
   "cell_type": "markdown",
   "metadata": {
    "id": "bTl8kwiVN1BT",
    "pycharm": {
     "name": "#%% md\n"
    }
   },
   "source": [
    "Xét mô hình đơn giản có 2 đặc trưng:"
   ]
  },
  {
   "cell_type": "code",
   "execution_count": 44,
   "metadata": {
    "id": "8KAkrEDnN1BT",
    "pycharm": {
     "name": "#%%\n"
    }
   },
   "outputs": [],
   "source": [
    "simple_features = ['sqft_living', 'bedrooms']\n",
    "my_output = 'price'\n",
    "(simple_feature_matrix, output) = get_numpy_data(full_data, simple_features, my_output)"
   ]
  },
  {
   "cell_type": "markdown",
   "metadata": {
    "id": "nmpyXA83N1BU",
    "pycharm": {
     "name": "#%% md\n"
    }
   },
   "source": [
    "Đừng quên chuẩn hóa các đặc trưng:"
   ]
  },
  {
   "cell_type": "code",
   "execution_count": 45,
   "metadata": {
    "id": "FJdk7zgrN1BU",
    "pycharm": {
     "name": "#%%\n"
    }
   },
   "outputs": [],
   "source": [
    "simple_feature_matrix, norms = normalize_features(simple_feature_matrix)"
   ]
  },
  {
   "cell_type": "markdown",
   "metadata": {
    "id": "ozwVirpIN1BV",
    "pycharm": {
     "name": "#%% md\n"
    }
   },
   "source": [
    "Chúng ta gán một số tập hợp các trọng số ban đầu ngẫu nhiên và kiểm tra các giá trị của `ro[i]`:"
   ]
  },
  {
   "cell_type": "code",
   "execution_count": 46,
   "metadata": {
    "id": "GTwEXPYGN1BV",
    "pycharm": {
     "name": "#%%\n"
    }
   },
   "outputs": [],
   "source": [
    "weights = np.array([1., 4., 1.])"
   ]
  },
  {
   "cell_type": "markdown",
   "metadata": {
    "id": "15PVSOZKN1BV",
    "pycharm": {
     "name": "#%% md\n"
    }
   },
   "source": [
    "Sử dụng `predict_output()` để đưa ra dự đoán trên dữ liệu này. "
   ]
  },
  {
   "cell_type": "code",
   "execution_count": 47,
   "metadata": {
    "id": "LuKaVGw-N1BW",
    "pycharm": {
     "name": "#%%\n"
    }
   },
   "outputs": [],
   "source": [
    "prediction = predict_output(simple_feature_matrix, weights)"
   ]
  },
  {
   "cell_type": "markdown",
   "metadata": {
    "id": "7w4npMcbN1BW",
    "pycharm": {
     "name": "#%% md\n"
    }
   },
   "source": [
    "Tính giá trị của `ro[i]` cho từng đặc trưng trong mô hình đơn giản này sử dụng công thức đã cho:\n",
    "<!-- ```ro[i] = SUM[ [feature_i]*(output - prediction + w[i]*[feature_i]) ]. ``` -->\n",
    "$\\rho_i = \\sum feature_i * (output - prediction + w_i*feature_i)$\n",
    "\n",
    "*Gợi ý: có thể sử dụng vectơ Numpy cho feature_i bằng:*\n",
    "```\n",
    "simple_feature_matrix[:,i]\n",
    "```"
   ]
  },
  {
   "cell_type": "code",
   "execution_count": 48,
   "metadata": {
    "id": "89pwp0rHN1BX",
    "pycharm": {
     "name": "#%%\n"
    }
   },
   "outputs": [
    {
     "name": "stdout",
     "output_type": "stream",
     "text": [
      "ro_0: 7.94E+07\n",
      "ro_1: 8.79E+07\n",
      "ro_2: 8.10E+07\n"
     ]
    }
   ],
   "source": [
    "ro = []\n",
    "for i in range(weights.size):\n",
    "    ro_i = sum(simple_feature_matrix[:,i] * (output - prediction + weights[i] * simple_feature_matrix[:,i]))\n",
    "    ro.append(ro_i)\n",
    "    print(\"ro_{}: \".format(i) + (\"%.2E\" % ro_i))\n"
   ]
  },
  {
   "cell_type": "markdown",
   "metadata": {
    "id": "o3mTWA6lN1BX",
    "pycharm": {
     "name": "#%% md\n"
    }
   },
   "source": [
    "***QUIZ***\n",
    "\n",
    "Nhớ lại rằng, bất cứ khi nào `ro[i]` nằm trong khoảng `-l1_penalty/2` và `l1_penalty/2` thì trọng số `w[i]` tương ứng sẽ về 0. Bây giờ, giả sử chúng ta thực hiện một bước coordinate descent ở đặc trưng 1 hoặc đặc trưng 2. Phạm vi giá trị nào của `l1_penalty`sẽ **không đặt** `w[1]` thành 0 mà **đặt** `w[2]` thành 0 nếu chúng ta lấy một bước trong tọa độ đó?\n",
    "\n",
    "*Answer:*\n",
    "\n",
    "$$\\Leftrightarrow \n",
    "\\left\\{\n",
    "\\begin{array}{ll}\n",
    "      \\rho_1 \\lt \\frac{-\\lambda}{2} & \\rho_1 \\gt \\frac{\\lambda}{2} \\\\\n",
    "      \\frac{-\\lambda}{2} \\leq \\rho_2 \\leq \\frac{\\lambda}{2} \\\\\n",
    "\\end{array} \n",
    "\\right.\n",
    "$$\n",
    "\n",
    "<br>\n",
    "\n",
    "$$\n",
    "\\Leftrightarrow \n",
    "\\left\\{\n",
    "\\begin{array}{ll}\n",
    "      \\lambda \\lt  2\\rho_1 \\\\\n",
    "      \\lambda \\ge  2\\rho_2 \\\\\n",
    "\\end{array} \n",
    "\\right.\n",
    "$$\n",
    "\n",
    "<br>\n",
    "\n",
    "$$\n",
    "\\Leftrightarrow \n",
    "2\\rho_2 \\le \\lambda \\lt 2\\rho_1\n",
    "$$\n",
    "\n",
    "\n",
    "\n",
    "\n",
    "\n"
   ]
  },
  {
   "cell_type": "code",
   "execution_count": 49,
   "metadata": {
    "id": "uddncnUHN1BY",
    "pycharm": {
     "name": "#%%\n"
    }
   },
   "outputs": [
    {
     "name": "stdout",
     "output_type": "stream",
     "text": [
      "Range of l1_penalty: [1.62E+08,1.76E+08)\n"
     ]
    }
   ],
   "source": [
    "# Tài liệu quiz, hãy cẩn thận hơn\n",
    "l1_penalty_low = 2 * ro[2]\n",
    "l1_penalty_high = 2 * ro[1]\n",
    "print(\"Range of l1_penalty: [\" + (\"%.2E\" % l1_penalty_low) + \",\" + (\"%.2E\" % l1_penalty_high) + \")\")\n"
   ]
  },
  {
   "cell_type": "markdown",
   "metadata": {
    "id": "BHorg9d4N1BY",
    "pycharm": {
     "name": "#%% md\n"
    }
   },
   "source": [
    "***QUIZ***\n",
    "\n",
    "Phạm vi giá trị nào của `l1_penalty` sẽ đặt **cả** `w[1]` và `w[2]` thành 0 nếu lấy một bước trong tọa độ đó?\n",
    "\n",
    "*Answer:*\n",
    "\n",
    "$$\n",
    "\\Leftrightarrow \n",
    "\\left\\{\n",
    "\\begin{array}{ll}\n",
    "      \\frac{-\\lambda}{2} \\leq \\rho_1 \\leq \\frac{\\lambda}{2} \\\\\n",
    "      \\frac{-\\lambda}{2} \\leq \\rho_2 \\leq \\frac{\\lambda}{2} \\\\\n",
    "\\end{array} \n",
    "\\right.\n",
    "$$\n",
    "\n",
    "<br>\n",
    "\n",
    "$$\n",
    "\\Leftrightarrow \n",
    "\\left\\{\n",
    "\\begin{array}{ll}\n",
    "      \\lambda \\ge 2\\rho_1 \\\\\n",
    "      \\lambda \\ge 2\\rho_2 \\\\\n",
    "\\end{array} \n",
    "\\right.\n",
    "$$\n",
    "\n",
    "Mà $\\rho_1 \\gt \\rho_2 \\Rightarrow \\lambda \\ge 2\\rho_1 $, "
   ]
  },
  {
   "cell_type": "code",
   "execution_count": 50,
   "metadata": {
    "id": "-PU68WTBN1BY",
    "pycharm": {
     "name": "#%%\n"
    }
   },
   "outputs": [
    {
     "name": "stdout",
     "output_type": "stream",
     "text": [
      "l1_penalty >=  1.76E+08\n"
     ]
    }
   ],
   "source": [
    "print('l1_penalty >=  ' + (\"%.2E\" % (2 * ro[1])))"
   ]
  },
  {
   "cell_type": "markdown",
   "metadata": {
    "id": "svXX4GntN1BZ",
    "pycharm": {
     "name": "#%% md\n"
    }
   },
   "source": [
    "Có thể nói rằng `ro[i]` định lượng tầm quan trọng của đặc trưng thứ i: `ro[i]` càng lớn thì đặc trưng thứ i càng có khả năng được giữ lại."
   ]
  },
  {
   "cell_type": "markdown",
   "metadata": {
    "id": "-ti4WBIqN1BZ",
    "pycharm": {
     "name": "#%% md\n"
    }
   },
   "source": [
    "## Bước Coordinate Descent đơn lẻ"
   ]
  },
  {
   "cell_type": "markdown",
   "metadata": {
    "id": "j_ptlpgxN1Ba",
    "pycharm": {
     "name": "#%% md\n"
    }
   },
   "source": [
    "Hãy sử dụng công thức trên để triển khai coordinate descent giảm thiểu hàm chi phí trên đặc trưng đơn lẻ i. Lưu ý rằng intercept (trọng số 0) không được điều chuẩn. Hàm phải chấp nhận ma trận đặc trưng, đầu ra, trọng số hiện tại, l1 penalty và chỉ số của đặc trưng để tối ưu hóa hơn. Hàm sẽ trả về trọng số mới cho đặc trưng i."
   ]
  },
  {
   "cell_type": "code",
   "execution_count": 51,
   "metadata": {
    "id": "U2TQaqzNN1Ba",
    "pycharm": {
     "name": "#%%\n"
    }
   },
   "outputs": [],
   "source": [
    "def lasso_coordinate_descent_step(i, feature_matrix, output, weights, l1_penalty):\n",
    "    # tính prediction\n",
    "    prediction = predict_output(feature_matrix, weights)\n",
    "    # tính ro[i] = SUM[ [feature_i]*(output - prediction + weight[i]*[feature_i]) ]\n",
    "    ro_i = sum(feature_matrix[:,i] * (output - prediction + weights[i] * feature_matrix[:,i]))\n",
    "\n",
    "    if i == 0: # intercept -- không điều chuẩn\n",
    "        new_weight_i = ro_i \n",
    "    elif ro_i < -l1_penalty/2.:\n",
    "        new_weight_i = ro_i + l1_penalty/2.\n",
    "    elif ro_i > l1_penalty/2.:\n",
    "        new_weight_i = ro_i - l1_penalty/2.\n",
    "    else:\n",
    "        new_weight_i = 0.\n",
    "    \n",
    "    return new_weight_i"
   ]
  },
  {
   "cell_type": "markdown",
   "metadata": {
    "id": "IOnn2nCON1Bb",
    "pycharm": {
     "name": "#%% md\n"
    }
   },
   "source": [
    "Hãy chạy cell sai để kiểm tra hàm:"
   ]
  },
  {
   "cell_type": "code",
   "execution_count": 52,
   "metadata": {
    "id": "Lj4dVMNRN1Bb",
    "outputId": "8eae0614-6ca4-4c3c-b344-63755a0f5375",
    "pycharm": {
     "name": "#%%\n"
    }
   },
   "outputs": [
    {
     "name": "stdout",
     "output_type": "stream",
     "text": [
      "0.4255588466910251\n"
     ]
    }
   ],
   "source": [
    "# sẽ in ra 0.425558846691\n",
    "import math\n",
    "print(lasso_coordinate_descent_step(1, np.array([[3./math.sqrt(13),1./math.sqrt(10)],[2./math.sqrt(13),3./math.sqrt(10)]]), \n",
    "                                   np.array([1., 1.]), np.array([1., 4.]), 0.1) )"
   ]
  },
  {
   "cell_type": "markdown",
   "metadata": {
    "collapsed": true,
    "id": "ZypEFnXhN1Bc",
    "pycharm": {
     "name": "#%% md\n"
    }
   },
   "source": [
    "## Coordinate descent theo chu kỳ "
   ]
  },
  {
   "cell_type": "markdown",
   "metadata": {
    "id": "MBG7nRE0N1Bc",
    "pycharm": {
     "name": "#%% md\n"
    }
   },
   "source": [
    "Bây giờ chúng ta có một hàm tối ưu hóa hàm chi phí trên một tọa độ duy nhất, hãy triển khai coordinate descent theo chu kỳ, trong đó tối ưu hóa tọa độ theo thứ tự 0, 1, ..., (d-1) và lặp lại.\n",
    "\n",
    "Làm sao để biết khi nào thì dừng lại? Mỗi khi quét tất cả các tọa độ (đặc trưng) một lần, chúng ta sẽ đo lường thay đổi trọng số cho từng tọa độ. Nếu không có tọa độ nào thay đổi nhiều hơn một ngưỡng đã chỉ định thì dừng lại. "
   ]
  },
  {
   "cell_type": "markdown",
   "metadata": {
    "id": "QuzrhWz8N1Bd",
    "pycharm": {
     "name": "#%% md\n"
    }
   },
   "source": [
    "Với mỗi lần lặp:\n",
    "1. Khi lặp lại các đặc trưng theo thứ tự và thực hiện coordinate descent, hãy đo mức độ thay đổi của mỗi tọa độ.\n",
    "2. Sau vòng lặp, nếu thay đổi lớn nhất trong tất cả các tọa độ nằm dưới dung sai thì hãy dừng lại. Nếu không, hãy quay lại bước 1.\n",
    "\n",
    "Trả về trọng số\n",
    "\n",
    "**QUAN TRỌNG: **khi tính trọng số mới cho tọa độ i, hãy đảm bảo tích hợp trọng số mới cho các tọa độ 0, 1, ..., i-1. Nên cập nhật biến trọng số tại chỗ. Xem minh họa với code giả sau.**\n",
    "```python\n",
    "với i trong range(len(weights)):\n",
    "    old_weights_i = weights[i] # nhớ rằng giá trị cũ của weight[i] sẽ bị ghi đè\n",
    "    # các dòng sau sử dụng giá trị mới cho weight[0], weight[1], ..., weight[i-1]\n",
    "    #     và giá trị cũ cho weight[i], ..., weight[d-1]\n",
    "    weights[i] = lasso_coordinate_descent_step(i, feature_matrix, output, weights, l1_penalty)\n",
    "    \n",
    "    # sử dụng old_weights_i để tính toán thay đổi về tọa độ\n",
    "    ...\n",
    "```"
   ]
  },
  {
   "cell_type": "code",
   "execution_count": 53,
   "metadata": {
    "id": "JWCzx6lxN1Bf",
    "pycharm": {
     "name": "#%%\n"
    }
   },
   "outputs": [],
   "source": [
    "def lasso_cyclical_coordinate_descent(feature_matrix, output, initial_weights, l1_penalty, tolerance):\n",
    "    current_weights = initial_weights\n",
    "    weight_changes = np.full(current_weights.size, tolerance)\n",
    "    while np.max(weight_changes) >= tolerance:\n",
    "        weight_changes = np.zeros(current_weights.size)\n",
    "        for i in range(initial_weights.size):\n",
    "            old_weight = current_weights[i]\n",
    "            current_weights[i] = lasso_coordinate_descent_step(i, feature_matrix, output, current_weights, l1_penalty)\n",
    "            weight_changes[i] = np.abs(current_weights[i] - old_weight)\n",
    "        \n",
    "        # print(\"Weights: \" + str(current_weights))\n",
    "        # print(\"Weight_changes: \" + str(weight_changes))\n",
    "    return current_weights"
   ]
  },
  {
   "cell_type": "markdown",
   "metadata": {
    "id": "h8ykbh6rN1Bg",
    "pycharm": {
     "name": "#%% md\n"
    }
   },
   "source": [
    "Sử dụng các tham số sau để tìm hiểu trọng số trong tập dữ liệu bán hàng. "
   ]
  },
  {
   "cell_type": "code",
   "execution_count": 54,
   "metadata": {
    "id": "BMviCcFFN1Bh",
    "pycharm": {
     "name": "#%%\n"
    }
   },
   "outputs": [],
   "source": [
    "simple_features = ['sqft_living', 'bedrooms']\n",
    "my_output = 'price'\n",
    "initial_weights = np.zeros(3)\n",
    "l1_penalty = 1e7\n",
    "tolerance = 1.0"
   ]
  },
  {
   "cell_type": "markdown",
   "metadata": {
    "id": "LGxqt_dWN1Bi",
    "pycharm": {
     "name": "#%% md\n"
    }
   },
   "source": [
    "Trước tiên, hãy tạo phiên bản chuẩn hóa của ma trận đặc trưng  `normalized_simple_feature_matrix`."
   ]
  },
  {
   "cell_type": "code",
   "execution_count": 55,
   "metadata": {
    "id": "1Z6c6lZbN1Bj",
    "pycharm": {
     "name": "#%%\n"
    }
   },
   "outputs": [],
   "source": [
    "(simple_feature_matrix, output) = get_numpy_data(full_data, simple_features, my_output)\n",
    "(normalized_simple_feature_matrix, simple_norms) = normalize_features(simple_feature_matrix) # normalize features"
   ]
  },
  {
   "cell_type": "markdown",
   "metadata": {
    "id": "wTMAvSB0N1Bk",
    "pycharm": {
     "name": "#%% md\n"
    }
   },
   "source": [
    "Sau đó chạy triển khai LASSO coordinate descent:"
   ]
  },
  {
   "cell_type": "code",
   "execution_count": 56,
   "metadata": {
    "id": "PXYzoC5GN1Bk",
    "outputId": "bb07db2f-9b0f-4693-8816-45380b23854c",
    "pycharm": {
     "name": "#%%\n"
    }
   },
   "outputs": [
    {
     "name": "stdout",
     "output_type": "stream",
     "text": [
      "1.63E+15\n",
      "['constant' 'sqft_living']\n"
     ]
    }
   ],
   "source": [
    "weights = lasso_cyclical_coordinate_descent(normalized_simple_feature_matrix, output,\n",
    "                                            initial_weights, l1_penalty, tolerance)\n",
    "prediction = predict_output(normalized_simple_feature_matrix, weights)\n",
    "rss = np.sum((output - prediction) ** 2)\n",
    "print(\"{:.2E}\".format(rss))\n",
    "print(np.array(['constant'] + simple_features)[weights != 0])"
   ]
  },
  {
   "cell_type": "markdown",
   "metadata": {
    "id": "vmJ6EOh1N1Bl",
    "pycharm": {
     "name": "#%% md\n"
    }
   },
   "source": [
    "***QUIZ***\n",
    "1. RSS của mô hình đã nghiên cứu trong tập dữ liệu chuẩn hóa là bao nhiêu? (Gợi ý: sử dụng ma trận đặc trưng chuẩn hóa khi đưa ra dự đoán.)\n",
    "   >> Answer: 1.63E+15\n",
    "2. Đặc trưng nào có trọng số 0 khi hội tụ?\n",
    "   >> Answer: 'bedrooms'"
   ]
  },
  {
   "cell_type": "markdown",
   "metadata": {
    "id": "NaBiktozN1Bl",
    "pycharm": {
     "name": "#%% md\n"
    }
   },
   "source": [
    "# Đánh giá khớp LASSO với nhiều đặc trưng hơn"
   ]
  },
  {
   "cell_type": "markdown",
   "metadata": {
    "id": "Inyx3rdQN1Bm",
    "pycharm": {
     "name": "#%% md\n"
    }
   },
   "source": [
    "Hãy chia dữ liệu thành tập huấn luyện và tập kiểm tra."
   ]
  },
  {
   "cell_type": "code",
   "execution_count": 57,
   "metadata": {
    "id": "YgOUVExKN1Bm",
    "pycharm": {
     "name": "#%%\n"
    }
   },
   "outputs": [],
   "source": [
    "from sklearn.model_selection import train_test_split\n",
    "train_data, test_data = train_test_split(full_data, train_size=0.8, test_size=0.2, random_state=0)"
   ]
  },
  {
   "cell_type": "markdown",
   "metadata": {
    "id": "4c6H7iDLN1Bn",
    "pycharm": {
     "name": "#%% md\n"
    }
   },
   "source": [
    "Hãy xem xét tập đặc trưng sau."
   ]
  },
  {
   "cell_type": "code",
   "execution_count": 58,
   "metadata": {
    "id": "mRPzri1UN1Bn",
    "pycharm": {
     "name": "#%%\n"
    }
   },
   "outputs": [],
   "source": [
    "all_features = ['bedrooms',\n",
    "                'bathrooms',\n",
    "                'sqft_living',\n",
    "                'sqft_lot',\n",
    "                'floors',\n",
    "                'waterfront', \n",
    "                'view', \n",
    "                'condition', \n",
    "                'grade',\n",
    "                'sqft_above',\n",
    "                'sqft_basement',\n",
    "                'yr_built', \n",
    "                'yr_renovated']"
   ]
  },
  {
   "cell_type": "markdown",
   "metadata": {
    "id": "D02hfdGQN1Bo",
    "pycharm": {
     "name": "#%% md\n"
    }
   },
   "source": [
    "Trước tiên, hãy tạo ma trận đặc trưng chuẩn hóa từ dữ liệu HUẤN LUYỆN với các đặc trưng này. (Lưu trữ các chuẩn cho việc chuẩn hóa vì chúng ta sẽ sử dụng chúng sau)"
   ]
  },
  {
   "cell_type": "code",
   "execution_count": 59,
   "metadata": {
    "id": "-To0uJtiN1Bo",
    "pycharm": {
     "name": "#%%\n"
    }
   },
   "outputs": [
    {
     "data": {
      "text/plain": [
       "array([[0.00760506, 0.00652347, 0.00337304, ..., 0.00715153, 0.00748474,\n",
       "        0.        ],\n",
       "       [0.00760506, 0.00652347, 0.0084326 , ..., 0.00815274, 0.00763907,\n",
       "        0.        ],\n",
       "       [0.00760506, 0.00652347, 0.00505956, ..., 0.        , 0.00766607,\n",
       "        0.        ],\n",
       "       ...,\n",
       "       [0.00760506, 0.00652347, 0.00758934, ..., 0.        , 0.00763135,\n",
       "        0.        ],\n",
       "       [0.00760506, 0.00869795, 0.00674608, ..., 0.        , 0.00763135,\n",
       "        0.        ],\n",
       "       [0.00760506, 0.00869795, 0.00758934, ..., 0.01201456, 0.00756576,\n",
       "        0.        ]])"
      ]
     },
     "execution_count": 59,
     "metadata": {},
     "output_type": "execute_result"
    }
   ],
   "source": [
    "# sử dụng normalize_features.\n",
    "features_matrix, output = get_numpy_data(train_data, all_features, 'price')\n",
    "normalize_features_matrix, norms = normalize_features(features_matrix)\n",
    "normalize_features_matrix"
   ]
  },
  {
   "cell_type": "markdown",
   "metadata": {
    "id": "UXTg5ux4N1Bp",
    "pycharm": {
     "name": "#%% md\n"
    }
   },
   "source": [
    "Trước tiên, hãy tìm hiểu trọng số với `l1_penalty=1e7` trong dữ liệu huấn luyện. Khởi tạo trọng số bằng 0, và đặt `tolerance=1`.  Gọi các trọng số kết quả `weights1e7`, chúng ta sẽ cần tới chúng sau."
   ]
  },
  {
   "cell_type": "code",
   "execution_count": 60,
   "metadata": {
    "id": "zIW5Z3WzN1Bp",
    "pycharm": {
     "name": "#%%\n"
    }
   },
   "outputs": [
    {
     "name": "stdout",
     "output_type": "stream",
     "text": [
      "['constant' 'sqft_living' 'waterfront' 'view']\n",
      "weights1e7: [24625317.01587677        0.                0.         48292264.5359226\n",
      "        0.                0.          3566000.33284842  7734349.09716171\n",
      "        0.                0.                0.                0.\n",
      "        0.                0.        ]\n"
     ]
    }
   ],
   "source": [
    "l1_penalty = 1e7\n",
    "tolerance = 1.0\n",
    "initial_weights = np.zeros(len(all_features)+1)\n",
    "\n",
    "weights1e7 = lasso_cyclical_coordinate_descent(normalize_features_matrix, output,\n",
    "                                            initial_weights, l1_penalty, tolerance)\n",
    "print(np.array(['constant'] + all_features)[weights1e7 != 0])\n",
    "print(\"weights1e7: \" + str(weights1e7))"
   ]
  },
  {
   "cell_type": "markdown",
   "metadata": {
    "id": "eWG_iyReN1Br",
    "pycharm": {
     "name": "#%% md\n"
    }
   },
   "source": [
    "***QUIZ***\n",
    "\n",
    "Trong trường hợp này, đặc trưng nào có trọng số khác 0?\n",
    "\n",
    ">> Answer: ['constant' 'sqft_living' 'waterfront' 'view']"
   ]
  },
  {
   "cell_type": "markdown",
   "metadata": {
    "collapsed": true,
    "id": "FoMM_S49N1Br",
    "pycharm": {
     "name": "#%% md\n"
    }
   },
   "source": [
    "Tiếp theo, tìm hiểu trọng số với `l1_penalty=1e8` trong dữ liệu huấn luyện. Khởi tạo trọng số bằng 0 và đặt `tolerance=1`.  Gọi các trọng số kết quả `weights1e8`, chúng ta sẽ cần chúng sau."
   ]
  },
  {
   "cell_type": "code",
   "execution_count": 61,
   "metadata": {
    "id": "2_3NMvVeN1Br",
    "pycharm": {
     "name": "#%%\n"
    }
   },
   "outputs": [
    {
     "name": "stdout",
     "output_type": "stream",
     "text": [
      "['constant']\n",
      "weights1e8: [71373534.790512        0.              0.              0.\n",
      "        0.              0.              0.              0.\n",
      "        0.              0.              0.              0.\n",
      "        0.              0.      ]\n"
     ]
    }
   ],
   "source": [
    "weights1e8 = lasso_cyclical_coordinate_descent(normalize_features_matrix, output,\n",
    "                                            initial_weights, 1e8, tolerance)\n",
    "print(np.array(['constant'] + all_features)[weights1e8 != 0])\n",
    "print(\"weights1e8: \" + str(weights1e8))"
   ]
  },
  {
   "cell_type": "markdown",
   "metadata": {
    "id": "nml3-n9oN1Bs",
    "pycharm": {
     "name": "#%% md\n"
    }
   },
   "source": [
    "***QUIZ***\n",
    "\n",
    "Trong trường hợp này, đặc trưng nào có trọng số khác 0?\n",
    "\n",
    ">> Answer: ['constant']"
   ]
  },
  {
   "cell_type": "markdown",
   "metadata": {
    "id": "Wa0PSzafN1Bs",
    "pycharm": {
     "name": "#%% md\n"
    }
   },
   "source": [
    "Cuối cùng, tìm hiểu trọng số với `l1_penalty=1e4` trong dữ liệu huấn luyện. Khởi tạo trọng số bằng 0 và đặt `tolerance=5e5`.  Gọi các trọng số kết quả `weights1e4`, chúng ta sẽ cần chúng sau..  (Trường hợp này sẽ cần thời gian [khá lâu](https://xkcd.com/303/) để hội tụ so với các trường hợp khác ở trên.)"
   ]
  },
  {
   "cell_type": "code",
   "execution_count": 62,
   "metadata": {
    "id": "YpXqYDw7N1Bt",
    "pycharm": {
     "name": "#%%\n"
    }
   },
   "outputs": [],
   "source": [
    "# weights1e4 = lasso_cyclical_coordinate_descent(normalize_features_matrix, output,\n",
    "#                                             initial_weights, 1e4, tolerance)\n",
    "# print(np.array(['constant'] + all_features)[weights1e4 != 0])\n",
    "# print(\"weights1e4: \" + str(weights1e4))"
   ]
  },
  {
   "cell_type": "code",
   "execution_count": 70,
   "metadata": {},
   "outputs": [],
   "source": [
    "# Chép lại chứ thời gian build lại là hơi đầu lâu\n",
    "weights1e7 = [24625317.01587677, 0., 0., 48292264.5359226, 0., 0., 3566000.33284842, 7734349.09716171, 0. , 0. ,0., 0., 0., 0.]\n",
    "weights1e8 = [71373534.790512, 0., 0., 0., 0., 0., 0., 0., 0., 0., 0., 0., 0, 0.]\n",
    "weights1e4 = [ 7.85539094e8, -1.67305993e7, 1.21699331e7, 5.25772449e7,-1.55699801e6, 4.91561288e6, \n",
    "              7.06846132e6, 4.89218766e6, 9.14020688e6, 1.23627056e8, 0., 5.89185945e4, -8.95125701e8, 6.02507234e5]\n"
   ]
  },
  {
   "cell_type": "markdown",
   "metadata": {
    "id": "xsYGeWJDN1Bt",
    "pycharm": {
     "name": "#%% md\n"
    }
   },
   "source": [
    "***QUIZ***\n",
    "\n",
    "Trong trường hợp này, đặc trưng nào có trọng số khác 0?\n",
    "\n",
    ">> Answer: 'constant' 'bedrooms' 'bathrooms' 'sqft_living' 'sqft_lot' 'floors' 'waterfront' 'view' 'condition' 'grade' 'sqft_basement' 'yr_built' 'yr_renovated'"
   ]
  },
  {
   "cell_type": "markdown",
   "metadata": {
    "id": "sXinzirsN1Bt",
    "pycharm": {
     "name": "#%% md\n"
    }
   },
   "source": [
    "## Tái tỷ lệ các trọng số đã nghiên cứu"
   ]
  },
  {
   "cell_type": "markdown",
   "metadata": {
    "id": "dJgeR200N1Bu",
    "pycharm": {
     "name": "#%% md\n"
    }
   },
   "source": [
    "Nhắc lại là chúng ta đã chuẩn hóa ma trận đặc trưng trước khi tìm hiểu các trọng số. Để sử dụng các trọng số này trên tập kiểm tra, cần chuẩn hóa dữ liệu kiểm tra theo cách tương tự.\n",
    "\n",
    "Ngoài ra, chúng ta có thể tái tỷ lệ các trọng số đã học để đưa vào quá trình chuẩn hóa, do đó chúng ta không cần lo lắng về việc chuẩn hóa dữ liệu kiểm tra:\n",
    "\n",
    "Trong trường hợp này, chúng ta cần tái tỷ lệ các trọng số kết quả để đưa ra các dự đoán với những đặc trưng *ban đầu*:\n",
    " 1. Lưu chuẩn của các đặc trưng ban đầu vào vectơ `norms`:\n",
    "```\n",
    "features, norms = normalize_features(features)\n",
    "```\n",
    " 2. Chạy Lasso trên đặc trưng đã chuẩn hóa và thu được vectơ `weights` \n",
    " 3. Tính các trọng số cho các đặc trưng ban đầu bằng phép chia element-wise\n",
    "```\n",
    "weights_normalized = weights / norms\n",
    "```\n",
    "Giờ chúng ta có thể áp dụng `weights_normalized` cho dữ liệu kiểm tra mà không cần chuẩn hóa nó!"
   ]
  },
  {
   "cell_type": "markdown",
   "metadata": {
    "id": "zgUN_lAcN1Bv",
    "pycharm": {
     "name": "#%% md\n"
    }
   },
   "source": [
    "Tạo phiên bản chuẩn hóa của từng trọng số đã tìm hiểu ở trên. (`weights1e4`, `weights1e7`, `weights1e8`)."
   ]
  },
  {
   "cell_type": "code",
   "execution_count": 71,
   "metadata": {
    "id": "hWFYjyXsN1Bw",
    "pycharm": {
     "name": "#%%\n"
    }
   },
   "outputs": [],
   "source": [
    "# Bạn đã lưu trữ các trọng số rồi chứ?\n",
    "weights1e4_normalized = weights1e4 / norms\n",
    "weights1e7_normalized = weights1e7 / norms\n",
    "weights1e8_normalized = weights1e8 / norms"
   ]
  },
  {
   "cell_type": "code",
   "execution_count": 72,
   "metadata": {},
   "outputs": [
    {
     "name": "stdout",
     "output_type": "stream",
     "text": [
      "161.2952\n"
     ]
    }
   ],
   "source": [
    "print(\"{:.4f}\".format(weights1e7_normalized[3]))"
   ]
  },
  {
   "cell_type": "markdown",
   "metadata": {
    "id": "c3y3mgPNN1Bw",
    "pycharm": {
     "name": "#%% md\n"
    }
   },
   "source": [
    "Để kiểm tra kết quả, nếu gọi `normalized_weights1e7` - phiên bản chuẩn hóa của `weights1e7` thì:\n",
    "```\n",
    "print(\"{:.4f}\".format(normalized_weights1e7[3]))\n",
    "```\n",
    "sẽ trả về 161.2952"
   ]
  },
  {
   "cell_type": "markdown",
   "metadata": {
    "id": "pbKDd653N1Bx",
    "pycharm": {
     "name": "#%% md\n"
    }
   },
   "source": [
    "## Đánh giá từng mô hình đã nghiên cứu trên dữ liệu kiểm tra"
   ]
  },
  {
   "cell_type": "markdown",
   "metadata": {
    "id": "S6SYsB7EN1B0",
    "pycharm": {
     "name": "#%% md\n"
    }
   },
   "source": [
    "Giờ chúng ta hãy đánh giá 3 mô hình trên dữ liệu kiểm tra: "
   ]
  },
  {
   "cell_type": "code",
   "execution_count": 65,
   "metadata": {
    "id": "9vPQvggCN1B0",
    "pycharm": {
     "name": "#%%\n"
    }
   },
   "outputs": [],
   "source": [
    "(test_feature_matrix, test_output) = get_numpy_data(test_data, all_features, 'price')"
   ]
  },
  {
   "cell_type": "markdown",
   "metadata": {
    "id": "U4VgvjCrN1B0",
    "pycharm": {
     "name": "#%% md\n"
    }
   },
   "source": [
    "Tính RSS của từng trọng số đã chuẩn hóa trong `test_feature_matrix`:"
   ]
  },
  {
   "cell_type": "code",
   "execution_count": 73,
   "metadata": {
    "id": "n6rKuSmXN1B1",
    "pycharm": {
     "name": "#%%\n"
    }
   },
   "outputs": [
    {
     "name": "stdout",
     "output_type": "stream",
     "text": [
      "RSS with weights1e4_normalized: 1.83E+14\n"
     ]
    }
   ],
   "source": [
    "# Nếu cần nhiều cell hơn, Insert -> Insert Cell Below.\n",
    "prediction = predict_output(test_feature_matrix, weights1e4_normalized)\n",
    "rss = np.sum((test_output - prediction) ** 2)\n",
    "print(\"RSS with weights1e4_normalized: {:.2E}\".format(rss))"
   ]
  },
  {
   "cell_type": "code",
   "execution_count": 74,
   "metadata": {},
   "outputs": [
    {
     "name": "stdout",
     "output_type": "stream",
     "text": [
      "RSS with weights1e7_normalized: 2.72E+14\n"
     ]
    }
   ],
   "source": [
    "prediction = predict_output(test_feature_matrix, weights1e7_normalized)\n",
    "rss = np.sum((test_output - prediction) ** 2)\n",
    "print(\"RSS with weights1e7_normalized: {:.2E}\".format(rss))"
   ]
  },
  {
   "cell_type": "code",
   "execution_count": 75,
   "metadata": {},
   "outputs": [
    {
     "name": "stdout",
     "output_type": "stream",
     "text": [
      "RSS with weights1e8_normalized: 5.15E+14\n"
     ]
    }
   ],
   "source": [
    "prediction = predict_output(test_feature_matrix, weights1e8_normalized)\n",
    "rss = np.sum((test_output - prediction) ** 2)\n",
    "print(\"RSS with weights1e8_normalized: {:.2E}\".format(rss))"
   ]
  },
  {
   "cell_type": "markdown",
   "metadata": {
    "id": "hzrk0bTDN1B1",
    "pycharm": {
     "name": "#%% md\n"
    }
   },
   "source": [
    "***QUIZ***\n",
    "\n",
    "Mô hình nào thực hiện tốt nhất trên dữ liệu kiểm tra?\n",
    "\n",
    ">> Answer: Mô hình với weights1e4 (l1_penalty=1e4) cho kết quả tốt nhất trên tập kiểm tra."
   ]
  },
  {
   "cell_type": "markdown",
   "metadata": {},
   "source": []
  }
 ],
 "metadata": {
  "colab": {
   "collapsed_sections": [],
   "name": "[VN]exercise-3.ipynb",
   "provenance": []
  },
  "interpreter": {
   "hash": "7636056f1e4d8fdf67bea993a39219552fd16254f6bf1d4cfd5ce8af047e9af1"
  },
  "kernelspec": {
   "display_name": "Python 3.8.13",
   "language": "python",
   "name": "python3"
  },
  "language_info": {
   "codemirror_mode": {
    "name": "ipython",
    "version": 3
   },
   "file_extension": ".py",
   "mimetype": "text/x-python",
   "name": "python",
   "nbconvert_exporter": "python",
   "pygments_lexer": "ipython3",
   "version": "3.8.13"
  }
 },
 "nbformat": 4,
 "nbformat_minor": 0
}
