{
 "cells": [
  {
   "cell_type": "markdown",
   "metadata": {},
   "source": [
    "## 🛠 Bài tập thực hành \n",
    "> **Lưu ý:** Các bạn cần làm phần bài tập này để chuẩn bị cho phiên review lab.\n",
    "\n",
    "1. Tạo một vector, scalar, matrix và tensor với các giá trị tùy chọn, sử dụng `tf.constant()`.\n",
    "2. Tìm shape, rank và size của tensor mà bạn vừa tạo ở 1.\n",
    "3. Tạo hai tensor chứa các giá trị ngẫu nhiên trong khoảng từ 0 đến 1 có shape `[5, 300]`.\n",
    "4. Nhân hai tensor mà bạn tạo ở 3, sử dụng phép nhân ma trận.\n",
    "5. Nhân hai tensor mà bạn tạo ở 3, sử dụng tích vô hướng.\n",
    "6. Tạo một tensor với giá trị ngẫu nhiên trong khoảng từ 0 đến 1 có shape `[224, 224, 3]`.\n",
    "7. Tìm min và max của tensor bạn đã tạo ở 6.\n",
    "8. Tạo một tensor với các giá trị tuyệt đối có shape `[1, 224, 224, 3]` rồi nén nó để thay đổi shape thành `[224, 224, 3]`.\n",
    "9. Tạo một tensor có shape `[10]` sử dụng các giá trị tùy chọn rồi tìm ra chỉ mục nào có giá trị lớn nhất.\n",
    "10. Mã hóa one-hot tensor bạn vừa tạo ở 9."
   ]
  },
  {
   "cell_type": "code",
   "execution_count": 15,
   "metadata": {},
   "outputs": [
    {
     "name": "stdout",
     "output_type": "stream",
     "text": [
      "2.10.0\n"
     ]
    }
   ],
   "source": [
    "import warnings\n",
    "warnings.filterwarnings('ignore')\n",
    "%matplotlib inline\n",
    "\n",
    "# Import TensorFlow\n",
    "import tensorflow as tf\n",
    "import numpy as np\n",
    "print(tf.__version__) # tìm số phiên bản (nên là 2.x+)"
   ]
  },
  {
   "cell_type": "markdown",
   "metadata": {},
   "source": [
    "1. Tạo một vector, scalar, matrix và tensor với các giá trị tùy chọn, sử dụng `tf.constant()`."
   ]
  },
  {
   "cell_type": "code",
   "execution_count": 5,
   "metadata": {},
   "outputs": [
    {
     "data": {
      "text/plain": [
       "<tf.Tensor: shape=(), dtype=int32, numpy=1>"
      ]
     },
     "execution_count": 5,
     "metadata": {},
     "output_type": "execute_result"
    }
   ],
   "source": [
    "scalar = tf.constant(1)\n",
    "scalar"
   ]
  },
  {
   "cell_type": "code",
   "execution_count": 6,
   "metadata": {},
   "outputs": [
    {
     "data": {
      "text/plain": [
       "<tf.Tensor: shape=(2,), dtype=int32, numpy=array([1, 2], dtype=int32)>"
      ]
     },
     "execution_count": 6,
     "metadata": {},
     "output_type": "execute_result"
    }
   ],
   "source": [
    "vector = tf.constant([1,2])\n",
    "vector"
   ]
  },
  {
   "cell_type": "code",
   "execution_count": 7,
   "metadata": {},
   "outputs": [
    {
     "data": {
      "text/plain": [
       "<tf.Tensor: shape=(2, 2), dtype=int32, numpy=\n",
       "array([[1, 2],\n",
       "       [3, 4]], dtype=int32)>"
      ]
     },
     "execution_count": 7,
     "metadata": {},
     "output_type": "execute_result"
    }
   ],
   "source": [
    "matrix = tf.constant([[1,2],[3,4]])\n",
    "matrix"
   ]
  },
  {
   "cell_type": "code",
   "execution_count": 9,
   "metadata": {},
   "outputs": [
    {
     "data": {
      "text/plain": [
       "<tf.Tensor: shape=(2, 2, 2), dtype=int32, numpy=\n",
       "array([[[1, 2],\n",
       "        [3, 4]],\n",
       "\n",
       "       [[5, 6],\n",
       "        [7, 8]]], dtype=int32)>"
      ]
     },
     "execution_count": 9,
     "metadata": {},
     "output_type": "execute_result"
    }
   ],
   "source": [
    "tensor = tf.constant([[[1,2],[3,4]],[[5,6],[7,8]]])\n",
    "tensor"
   ]
  },
  {
   "cell_type": "markdown",
   "metadata": {},
   "source": [
    "2. Tìm shape, rank và size của tensor mà bạn vừa tạo ở 1."
   ]
  },
  {
   "cell_type": "code",
   "execution_count": 12,
   "metadata": {},
   "outputs": [
    {
     "name": "stdout",
     "output_type": "stream",
     "text": [
      "tensor shape:  (2, 2, 2)\n",
      "tensor rank:  3\n",
      "tensor type:  <dtype: 'int32'>\n",
      "tensor size:  8\n"
     ]
    }
   ],
   "source": [
    "print('tensor shape: ', tensor.shape)\n",
    "print('tensor rank: ', tensor.ndim)\n",
    "print('tensor type: ', tensor.dtype)\n",
    "print('tensor size: ', tf.size(tensor).numpy())"
   ]
  },
  {
   "cell_type": "markdown",
   "metadata": {},
   "source": [
    "3. Tạo hai tensor chứa các giá trị ngẫu nhiên trong khoảng từ 0 đến 1 có shape `[5, 300]`."
   ]
  },
  {
   "cell_type": "code",
   "execution_count": 17,
   "metadata": {},
   "outputs": [
    {
     "data": {
      "text/plain": [
       "(<tf.Tensor: shape=(5, 300), dtype=float64, numpy=\n",
       " array([[0.34237583, 0.22762803, 0.84454308, ..., 0.69040081, 0.26343534,\n",
       "         0.67969121],\n",
       "        [0.65214511, 0.22637858, 0.78069602, ..., 0.46175364, 0.14513786,\n",
       "         0.85883575],\n",
       "        [0.73884934, 0.88473346, 0.77342049, ..., 0.81083004, 0.29239321,\n",
       "         0.35270257],\n",
       "        [0.89170317, 0.24723833, 0.72178372, ..., 0.35890997, 0.45871117,\n",
       "         0.07545373],\n",
       "        [0.1865081 , 0.03305636, 0.2110954 , ..., 0.30924957, 0.27908222,\n",
       "         0.02459416]])>,\n",
       " <tf.Tensor: shape=(5, 300), dtype=float64, numpy=\n",
       " array([[0.98475896, 0.28827036, 0.21003334, ..., 0.43686811, 0.77117868,\n",
       "         0.95924216],\n",
       "        [0.59899846, 0.41766288, 0.05613102, ..., 0.49692327, 0.02617343,\n",
       "         0.8603274 ],\n",
       "        [0.64527248, 0.77303529, 0.43133607, ..., 0.29193822, 0.10262372,\n",
       "         0.76601909],\n",
       "        [0.01755694, 0.10225621, 0.47520007, ..., 0.98738937, 0.65931311,\n",
       "         0.89780377],\n",
       "        [0.59818168, 0.14501394, 0.6885269 , ..., 0.24549331, 0.19856085,\n",
       "         0.8473547 ]])>)"
      ]
     },
     "execution_count": 17,
     "metadata": {},
     "output_type": "execute_result"
    }
   ],
   "source": [
    "random1 = tf.constant(np.random.random((5,300)))\n",
    "random2 = tf.constant(np.random.random((5,300)))\n",
    "random1, random2"
   ]
  },
  {
   "cell_type": "markdown",
   "metadata": {},
   "source": [
    "4. Nhân hai tensor mà bạn tạo ở 3, sử dụng phép nhân ma trận."
   ]
  },
  {
   "cell_type": "code",
   "execution_count": 18,
   "metadata": {},
   "outputs": [
    {
     "data": {
      "text/plain": [
       "<tf.Tensor: shape=(5, 5), dtype=float64, numpy=\n",
       "array([[82.02172645, 74.22673379, 72.76685346, 76.56439588, 76.70994497],\n",
       "       [79.88250586, 70.65302013, 72.90975519, 73.55443484, 74.18679269],\n",
       "       [80.82115148, 75.10063693, 73.6899241 , 78.03075179, 73.62588445],\n",
       "       [70.55024542, 63.30535336, 67.93442905, 70.63431441, 70.08575335],\n",
       "       [78.31661493, 73.33302568, 74.81501202, 78.60971711, 78.03334019]])>"
      ]
     },
     "execution_count": 18,
     "metadata": {},
     "output_type": "execute_result"
    }
   ],
   "source": [
    "random1@tf.transpose(random2)"
   ]
  },
  {
   "cell_type": "code",
   "execution_count": 19,
   "metadata": {},
   "outputs": [
    {
     "data": {
      "text/plain": [
       "<tf.Tensor: shape=(5, 5), dtype=float64, numpy=\n",
       "array([[82.02172645, 74.22673379, 72.76685346, 76.56439588, 76.70994497],\n",
       "       [79.88250586, 70.65302013, 72.90975519, 73.55443484, 74.18679269],\n",
       "       [80.82115148, 75.10063693, 73.6899241 , 78.03075179, 73.62588445],\n",
       "       [70.55024542, 63.30535336, 67.93442905, 70.63431441, 70.08575335],\n",
       "       [78.31661493, 73.33302568, 74.81501202, 78.60971711, 78.03334019]])>"
      ]
     },
     "execution_count": 19,
     "metadata": {},
     "output_type": "execute_result"
    }
   ],
   "source": [
    "tf.matmul(random1, tf.transpose(random2))"
   ]
  },
  {
   "cell_type": "code",
   "execution_count": 21,
   "metadata": {},
   "outputs": [
    {
     "data": {
      "text/plain": [
       "<tf.Tensor: shape=(5, 5), dtype=float64, numpy=\n",
       "array([[80.8635025 , 73.52165185, 77.5062303 , 74.20473438, 73.04654797],\n",
       "       [78.78889864, 74.35577718, 75.3440015 , 71.25746712, 75.67865135],\n",
       "       [79.20707848, 76.17367123, 77.05455728, 76.17511844, 73.3063277 ],\n",
       "       [74.05027741, 67.2186703 , 68.94158121, 68.62097775, 65.26688152],\n",
       "       [81.66862016, 71.75921711, 76.67268815, 75.04057341, 75.92280277]])>"
      ]
     },
     "execution_count": 21,
     "metadata": {},
     "output_type": "execute_result"
    }
   ],
   "source": [
    "tf.matmul(random1, tf.reshape(random2, (300,5)))"
   ]
  },
  {
   "cell_type": "markdown",
   "metadata": {},
   "source": [
    "5. Nhân hai tensor mà bạn tạo ở 3, sử dụng tích vô hướng."
   ]
  },
  {
   "cell_type": "code",
   "execution_count": 23,
   "metadata": {},
   "outputs": [
    {
     "data": {
      "text/plain": [
       "<tf.Tensor: shape=(5, 5), dtype=float64, numpy=\n",
       "array([[82.02172645, 74.22673379, 72.76685346, 76.56439588, 76.70994497],\n",
       "       [79.88250586, 70.65302013, 72.90975519, 73.55443484, 74.18679269],\n",
       "       [80.82115148, 75.10063693, 73.6899241 , 78.03075179, 73.62588445],\n",
       "       [70.55024542, 63.30535336, 67.93442905, 70.63431441, 70.08575335],\n",
       "       [78.31661493, 73.33302568, 74.81501202, 78.60971711, 78.03334019]])>"
      ]
     },
     "execution_count": 23,
     "metadata": {},
     "output_type": "execute_result"
    }
   ],
   "source": [
    "tf.tensordot(random1, tf.transpose(random2), axes=1)"
   ]
  },
  {
   "cell_type": "markdown",
   "metadata": {},
   "source": [
    "6. Tạo một tensor với giá trị ngẫu nhiên trong khoảng từ 0 đến 1 có shape `[224, 224, 3]`."
   ]
  },
  {
   "cell_type": "code",
   "execution_count": 24,
   "metadata": {},
   "outputs": [
    {
     "data": {
      "text/plain": [
       "<tf.Tensor: shape=(224, 224, 3), dtype=float64, numpy=\n",
       "array([[[0.16591269, 0.22062545, 0.13270991],\n",
       "        [0.35038312, 0.25160932, 0.75313081],\n",
       "        [0.67318826, 0.8141603 , 0.80376691],\n",
       "        ...,\n",
       "        [0.28872402, 0.28559611, 0.90519908],\n",
       "        [0.98757508, 0.81623778, 0.09972744],\n",
       "        [0.09989545, 0.92834289, 0.37647818]],\n",
       "\n",
       "       [[0.55325276, 0.36929516, 0.79993097],\n",
       "        [0.88519218, 0.31625412, 0.75723139],\n",
       "        [0.23961615, 0.01926325, 0.94268643],\n",
       "        ...,\n",
       "        [0.1893758 , 0.92671013, 0.44899214],\n",
       "        [0.85548271, 0.31221469, 0.13050106],\n",
       "        [0.65709903, 0.43132221, 0.22683817]],\n",
       "\n",
       "       [[0.86088648, 0.71369745, 0.78185513],\n",
       "        [0.05088491, 0.34436386, 0.42442177],\n",
       "        [0.47202826, 0.87857838, 0.70072725],\n",
       "        ...,\n",
       "        [0.27180033, 0.31772668, 0.94345534],\n",
       "        [0.06860687, 0.93352827, 0.95956925],\n",
       "        [0.38432203, 0.66610274, 0.26876755]],\n",
       "\n",
       "       ...,\n",
       "\n",
       "       [[0.14950513, 0.96251974, 0.28476071],\n",
       "        [0.77931098, 0.60373856, 0.66222231],\n",
       "        [0.53956417, 0.74741021, 0.9940879 ],\n",
       "        ...,\n",
       "        [0.18889764, 0.61530455, 0.47424294],\n",
       "        [0.45628967, 0.31626056, 0.59846896],\n",
       "        [0.04229765, 0.07929955, 0.45691923]],\n",
       "\n",
       "       [[0.77641258, 0.78760817, 0.88992241],\n",
       "        [0.77225318, 0.59677554, 0.45446146],\n",
       "        [0.0397729 , 0.11811099, 0.82073845],\n",
       "        ...,\n",
       "        [0.37800945, 0.27791015, 0.28080396],\n",
       "        [0.49857553, 0.83752699, 0.07642182],\n",
       "        [0.76952754, 0.06387338, 0.98539766]],\n",
       "\n",
       "       [[0.57223181, 0.65771671, 0.3189035 ],\n",
       "        [0.71217939, 0.97861281, 0.71270926],\n",
       "        [0.70780863, 0.06265358, 0.40477952],\n",
       "        ...,\n",
       "        [0.76437112, 0.70631026, 0.28881686],\n",
       "        [0.45554754, 0.58118323, 0.76610386],\n",
       "        [0.67700071, 0.68576111, 0.53821062]]])>"
      ]
     },
     "execution_count": 24,
     "metadata": {},
     "output_type": "execute_result"
    }
   ],
   "source": [
    "random3 = tf.constant(np.random.random((224,224,3)))\n",
    "random3"
   ]
  },
  {
   "cell_type": "markdown",
   "metadata": {},
   "source": [
    "7. Tìm min và max của tensor bạn đã tạo ở 6."
   ]
  },
  {
   "cell_type": "code",
   "execution_count": 26,
   "metadata": {},
   "outputs": [
    {
     "data": {
      "text/plain": [
       "(<tf.Tensor: shape=(), dtype=float64, numpy=1.3804983953424887e-05>,\n",
       " <tf.Tensor: shape=(), dtype=float64, numpy=0.9999973421282846>)"
      ]
     },
     "execution_count": 26,
     "metadata": {},
     "output_type": "execute_result"
    }
   ],
   "source": [
    "tf.reduce_min(random3), tf.reduce_max(random3)"
   ]
  },
  {
   "cell_type": "markdown",
   "metadata": {},
   "source": [
    "8. Tạo một tensor với các giá trị tuyệt đối có shape `[1, 224, 224, 3]` rồi nén nó để thay đổi shape thành `[224, 224, 3]`."
   ]
  },
  {
   "cell_type": "code",
   "execution_count": 28,
   "metadata": {},
   "outputs": [
    {
     "data": {
      "text/plain": [
       "<tf.Tensor: shape=(1, 224, 224, 3), dtype=float32, numpy=\n",
       "array([[[[-0.7565803 , -0.06854702,  0.07595026],\n",
       "         [-1.2573844 , -0.23193763, -1.8107855 ],\n",
       "         [ 0.09988727, -0.50998646, -0.7535805 ],\n",
       "         ...,\n",
       "         [ 0.07099114, -0.5095768 ,  0.3482001 ],\n",
       "         [ 0.15985982, -1.9042184 ,  0.9690504 ],\n",
       "         [ 0.16251186, -0.07330752, -0.360591  ]],\n",
       "\n",
       "        [[ 0.18739441, -0.73353654,  1.2104433 ],\n",
       "         [ 1.5603006 , -0.48115277,  0.6335167 ],\n",
       "         [-0.5612103 ,  0.06994031,  1.6807095 ],\n",
       "         ...,\n",
       "         [-1.9460293 , -0.7977275 ,  0.03092833],\n",
       "         [ 0.8297488 ,  0.12179119,  1.0506107 ],\n",
       "         [-1.3097638 ,  0.92536974, -1.1787732 ]],\n",
       "\n",
       "        [[-0.21711822, -0.73974085, -1.3077081 ],\n",
       "         [-0.7502274 , -0.37715855, -0.30130875],\n",
       "         [ 1.0943383 ,  0.255803  ,  0.8011465 ],\n",
       "         ...,\n",
       "         [-0.32833767, -0.7794747 ,  0.20049338],\n",
       "         [-0.09002841,  0.07243238, -0.81940895],\n",
       "         [ 0.3171264 , -1.6143695 , -1.6824651 ]],\n",
       "\n",
       "        ...,\n",
       "\n",
       "        [[-0.4106899 , -0.3995463 ,  0.16299413],\n",
       "         [-0.82463205,  1.1320542 ,  0.43792692],\n",
       "         [-0.7639474 , -1.12663   , -0.7207727 ],\n",
       "         ...,\n",
       "         [-0.8531011 , -0.53761154, -0.32857296],\n",
       "         [ 0.9262249 , -1.2425404 , -0.69937414],\n",
       "         [ 1.7450827 ,  1.2275221 ,  0.7955962 ]],\n",
       "\n",
       "        [[-1.0337651 , -2.0142937 ,  0.20993443],\n",
       "         [-0.54768926, -0.4617833 ,  0.15565316],\n",
       "         [-0.83341664, -0.24888954, -1.045123  ],\n",
       "         ...,\n",
       "         [ 2.1425858 ,  1.0908573 ,  0.5777537 ],\n",
       "         [ 0.1725258 , -0.93706477, -0.5235085 ],\n",
       "         [-1.6538908 ,  0.10763748,  0.1024353 ]],\n",
       "\n",
       "        [[-0.82148445, -0.04988056,  0.5157987 ],\n",
       "         [ 0.328913  ,  0.25311732,  1.7136203 ],\n",
       "         [-0.7098217 ,  0.40330094, -1.3882406 ],\n",
       "         ...,\n",
       "         [ 0.14991115,  1.8622528 , -0.7413897 ],\n",
       "         [-0.07112624, -0.7579811 , -0.9618234 ],\n",
       "         [-1.3569822 , -1.5307596 , -0.91243464]]]], dtype=float32)>"
      ]
     },
     "execution_count": 28,
     "metadata": {},
     "output_type": "execute_result"
    }
   ],
   "source": [
    "random4 = tf.random.Generator.from_seed(42)\n",
    "random4 = random4.normal(shape=(1, 224, 224, 3))\n",
    "random4"
   ]
  },
  {
   "cell_type": "code",
   "execution_count": 29,
   "metadata": {},
   "outputs": [
    {
     "data": {
      "text/plain": [
       "<tf.Tensor: shape=(1, 224, 224, 3), dtype=float32, numpy=\n",
       "array([[[[0.7565803 , 0.06854702, 0.07595026],\n",
       "         [1.2573844 , 0.23193763, 1.8107855 ],\n",
       "         [0.09988727, 0.50998646, 0.7535805 ],\n",
       "         ...,\n",
       "         [0.07099114, 0.5095768 , 0.3482001 ],\n",
       "         [0.15985982, 1.9042184 , 0.9690504 ],\n",
       "         [0.16251186, 0.07330752, 0.360591  ]],\n",
       "\n",
       "        [[0.18739441, 0.73353654, 1.2104433 ],\n",
       "         [1.5603006 , 0.48115277, 0.6335167 ],\n",
       "         [0.5612103 , 0.06994031, 1.6807095 ],\n",
       "         ...,\n",
       "         [1.9460293 , 0.7977275 , 0.03092833],\n",
       "         [0.8297488 , 0.12179119, 1.0506107 ],\n",
       "         [1.3097638 , 0.92536974, 1.1787732 ]],\n",
       "\n",
       "        [[0.21711822, 0.73974085, 1.3077081 ],\n",
       "         [0.7502274 , 0.37715855, 0.30130875],\n",
       "         [1.0943383 , 0.255803  , 0.8011465 ],\n",
       "         ...,\n",
       "         [0.32833767, 0.7794747 , 0.20049338],\n",
       "         [0.09002841, 0.07243238, 0.81940895],\n",
       "         [0.3171264 , 1.6143695 , 1.6824651 ]],\n",
       "\n",
       "        ...,\n",
       "\n",
       "        [[0.4106899 , 0.3995463 , 0.16299413],\n",
       "         [0.82463205, 1.1320542 , 0.43792692],\n",
       "         [0.7639474 , 1.12663   , 0.7207727 ],\n",
       "         ...,\n",
       "         [0.8531011 , 0.53761154, 0.32857296],\n",
       "         [0.9262249 , 1.2425404 , 0.69937414],\n",
       "         [1.7450827 , 1.2275221 , 0.7955962 ]],\n",
       "\n",
       "        [[1.0337651 , 2.0142937 , 0.20993443],\n",
       "         [0.54768926, 0.4617833 , 0.15565316],\n",
       "         [0.83341664, 0.24888954, 1.045123  ],\n",
       "         ...,\n",
       "         [2.1425858 , 1.0908573 , 0.5777537 ],\n",
       "         [0.1725258 , 0.93706477, 0.5235085 ],\n",
       "         [1.6538908 , 0.10763748, 0.1024353 ]],\n",
       "\n",
       "        [[0.82148445, 0.04988056, 0.5157987 ],\n",
       "         [0.328913  , 0.25311732, 1.7136203 ],\n",
       "         [0.7098217 , 0.40330094, 1.3882406 ],\n",
       "         ...,\n",
       "         [0.14991115, 1.8622528 , 0.7413897 ],\n",
       "         [0.07112624, 0.7579811 , 0.9618234 ],\n",
       "         [1.3569822 , 1.5307596 , 0.91243464]]]], dtype=float32)>"
      ]
     },
     "execution_count": 29,
     "metadata": {},
     "output_type": "execute_result"
    }
   ],
   "source": [
    "random4 = tf.abs(random4)\n",
    "random4"
   ]
  },
  {
   "cell_type": "code",
   "execution_count": 30,
   "metadata": {},
   "outputs": [
    {
     "data": {
      "text/plain": [
       "TensorShape([224, 224, 3])"
      ]
     },
     "execution_count": 30,
     "metadata": {},
     "output_type": "execute_result"
    }
   ],
   "source": [
    "random4 = tf.squeeze(random4)\n",
    "random4.shape"
   ]
  },
  {
   "cell_type": "markdown",
   "metadata": {},
   "source": [
    "9. Tạo một tensor có shape `[10]` sử dụng các giá trị tùy chọn rồi tìm ra chỉ mục nào có giá trị lớn nhất."
   ]
  },
  {
   "cell_type": "code",
   "execution_count": 32,
   "metadata": {},
   "outputs": [
    {
     "data": {
      "text/plain": [
       "<tf.Tensor: shape=(10,), dtype=int64, numpy=array([2, 8, 3, 5, 0, 3, 3, 0, 7, 4])>"
      ]
     },
     "execution_count": 32,
     "metadata": {},
     "output_type": "execute_result"
    }
   ],
   "source": [
    "tensor9 = tf.constant(np.random.randint(10, size=(10)))\n",
    "tensor9"
   ]
  },
  {
   "cell_type": "code",
   "execution_count": 33,
   "metadata": {},
   "outputs": [
    {
     "name": "stdout",
     "output_type": "stream",
     "text": [
      "index of max value:  1\n"
     ]
    }
   ],
   "source": [
    "print('index of max value: ', tf.argmax(tensor9).numpy())"
   ]
  },
  {
   "cell_type": "markdown",
   "metadata": {},
   "source": [
    "10. Mã hóa one-hot tensor bạn vừa tạo ở 9."
   ]
  },
  {
   "cell_type": "code",
   "execution_count": 34,
   "metadata": {},
   "outputs": [
    {
     "data": {
      "text/plain": [
       "<tf.Tensor: shape=(10, 10), dtype=float32, numpy=\n",
       "array([[0., 0., 1., 0., 0., 0., 0., 0., 0., 0.],\n",
       "       [0., 0., 0., 0., 0., 0., 0., 0., 1., 0.],\n",
       "       [0., 0., 0., 1., 0., 0., 0., 0., 0., 0.],\n",
       "       [0., 0., 0., 0., 0., 1., 0., 0., 0., 0.],\n",
       "       [1., 0., 0., 0., 0., 0., 0., 0., 0., 0.],\n",
       "       [0., 0., 0., 1., 0., 0., 0., 0., 0., 0.],\n",
       "       [0., 0., 0., 1., 0., 0., 0., 0., 0., 0.],\n",
       "       [1., 0., 0., 0., 0., 0., 0., 0., 0., 0.],\n",
       "       [0., 0., 0., 0., 0., 0., 0., 1., 0., 0.],\n",
       "       [0., 0., 0., 0., 1., 0., 0., 0., 0., 0.]], dtype=float32)>"
      ]
     },
     "execution_count": 34,
     "metadata": {},
     "output_type": "execute_result"
    }
   ],
   "source": [
    "tf.one_hot(tensor9, depth=10)"
   ]
  },
  {
   "cell_type": "code",
   "execution_count": null,
   "metadata": {},
   "outputs": [],
   "source": []
  }
 ],
 "metadata": {
  "kernelspec": {
   "display_name": "Python 3",
   "language": "python",
   "name": "python3"
  },
  "language_info": {
   "codemirror_mode": {
    "name": "ipython",
    "version": 3
   },
   "file_extension": ".py",
   "mimetype": "text/x-python",
   "name": "python",
   "nbconvert_exporter": "python",
   "pygments_lexer": "ipython3",
   "version": "3.10.7 (v3.10.7:6cc6b13308, Sep  5 2022, 14:02:52) [Clang 13.0.0 (clang-1300.0.29.30)]"
  },
  "orig_nbformat": 4,
  "vscode": {
   "interpreter": {
    "hash": "aee8b7b246df8f9039afb4144a1f6fd8d2ca17a180786b69acc140d282b71a49"
   }
  }
 },
 "nbformat": 4,
 "nbformat_minor": 2
}
