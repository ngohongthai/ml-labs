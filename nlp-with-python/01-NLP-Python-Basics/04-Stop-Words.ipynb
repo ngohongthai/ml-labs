{
 "cells": [
  {
   "cell_type": "markdown",
   "metadata": {},
   "source": [
    "___\n",
    "\n",
    "<a href='http://www.pieriandata.com'> <img src='../Pierian_Data_Logo.png' /></a>\n",
    "___"
   ]
  },
  {
   "cell_type": "markdown",
   "metadata": {},
   "source": [
    "# Stop Words\n",
    "Words like \"a\" and \"the\" appear so frequently that they don't require tagging as thoroughly as nouns, verbs and modifiers. We call these *stop words*, and they can be filtered from the text to be processed. spaCy holds a built-in list of some 305 English stop words."
   ]
  },
  {
   "cell_type": "code",
   "execution_count": 12,
   "metadata": {},
   "outputs": [],
   "source": [
    "# Perform standard imports:\n",
    "import spacy\n",
    "nlp = spacy.load('en_core_web_sm')"
   ]
  },
  {
   "cell_type": "code",
   "execution_count": 13,
   "metadata": {},
   "outputs": [
    {
     "name": "stdout",
     "output_type": "stream",
     "text": [
      "{'btw', 'whereas', 'after', 'themselves', 'everything', 'get', 'had', 'very', 'did', '’d', 'throughout', 'and', 'front', 'yourself', 'or', 'that', 'whence', 'do', 'wherein', '‘ve', 'others', 'also', 'afterwards', 'nowhere', 'whither', 'may', 'where', 'does', 'here', 'still', 'whereupon', 'sometimes', 'anyone', 'bottom', 'than', 'those', \"'ll\", 'anyhow', 'the', 'herself', 'next', 'further', 'latterly', 'into', 'hence', '‘s', '‘d', 'from', 'seem', 'cannot', 'how', 'thru', '‘re', 'fifteen', 'his', 'many', 'hereafter', 'out', \"'re\", 'amongst', 'anything', 'often', \"'m\", 'go', 'down', 'him', 'toward', 'us', 'ourselves', 'in', 'now', 'enough', 'thereby', 'formerly', 'just', 'was', 'but', 'noone', 'against', 'you', 'various', 'seemed', \"n't\", 'therein', 'put', 'anywhere', 'third', 'anyway', 'six', 'same', 'give', 'during', 'take', 'nine', 'used', 'whether', 'would', 'a', 'meanwhile', 'being', '’ve', 'something', 'either', 'have', 'within', 'three', 'by', 'whatever', 'has', 'twenty', 'indeed', 'what', 'five', 'them', 'n‘t', 'everywhere', 'former', 'can', 'becomes', 'moreover', \"'ve\", 'n’t', 'four', 'else', 'upon', 'so', 'were', 'why', 'besides', 'everyone', 'however', 'beforehand', 'around', 'who', 'together', 'among', 'whenever', 'therefore', 'once', 'full', 'though', 'empty', 'been', 'two', 'using', 'at', 'he', 'below', 'might', 'through', 'any', 'under', 'hereby', 'am', 'my', 'first', 'will', 'yourselves', 'except', 'on', 'rather', 'seems', 'please', 'neither', 'least', 'must', 'eight', 'we', 'quite', 'really', 'whereby', 'become', 'seeming', 'hers', 'for', 'alone', 'ours', 'make', 'before', 'thus', 'already', 'own', 'along', 'part', 'thence', 'per', 'whole', 'doing', 'up', 'its', 'which', 'see', 'be', 'across', 'these', '‘ll', 'without', 'not', 'an', 'namely', 'while', 'myself', 'twelve', 'again', 'almost', 'hundred', 'yours', 'ten', 'made', 'sometime', 'few', 'somehow', 'sixty', \"'d\", 'keep', 'nobody', 'such', 'none', 'since', 'eleven', 'hereupon', 'towards', 'onto', 'other', 'fifty', 'wherever', 'ever', 'about', 'otherwise', 'back', 'every', 'it', 'beside', 'name', 'someone', 'herein', 'latter', 'of', 'only', 'whoever', 'could', 'as', 'her', '‘m', 'nothing', 'somewhere', 'behind', 'always', 'whose', 'even', 'whereafter', 'between', 'perhaps', 'several', 'some', 'nor', 'regarding', 'me', 'less', 'mostly', 'forty', 'if', 'is', 'both', 'i', 'each', 'say', 'amount', 'call', 'no', 'over', 'mine', 'side', 'serious', 'himself', 'thereupon', 'off', 'unless', 'above', 'due', 'move', '’re', \"'s\", 'becoming', 'via', 'whom', 'well', 'are', 'another', 'then', 're', 'top', 'never', 'became', 'more', 'ca', 'to', 'when', 'there', 'nevertheless', 'too', 'much', '’ll', '’m', 'one', 'our', 'should', 'until', 'with', '’s', 'itself', 'although', 'thereafter', 'she', 'because', 'all', 'their', 'show', 'most', 'this', 'elsewhere', 'your', 'they', 'yet', 'done', 'last'}\n"
     ]
    }
   ],
   "source": [
    "# Print the set of spaCy's default stop words (remember that sets are unordered):\n",
    "print(nlp.Defaults.stop_words)"
   ]
  },
  {
   "cell_type": "code",
   "execution_count": 14,
   "metadata": {},
   "outputs": [
    {
     "data": {
      "text/plain": [
       "326"
      ]
     },
     "execution_count": 14,
     "metadata": {},
     "output_type": "execute_result"
    }
   ],
   "source": [
    "len(nlp.Defaults.stop_words)"
   ]
  },
  {
   "cell_type": "markdown",
   "metadata": {},
   "source": [
    "## To see if a word is a stop word"
   ]
  },
  {
   "cell_type": "code",
   "execution_count": 15,
   "metadata": {},
   "outputs": [
    {
     "data": {
      "text/plain": [
       "True"
      ]
     },
     "execution_count": 15,
     "metadata": {},
     "output_type": "execute_result"
    }
   ],
   "source": [
    "nlp.vocab['myself'].is_stop"
   ]
  },
  {
   "cell_type": "code",
   "execution_count": 16,
   "metadata": {},
   "outputs": [
    {
     "data": {
      "text/plain": [
       "False"
      ]
     },
     "execution_count": 16,
     "metadata": {},
     "output_type": "execute_result"
    }
   ],
   "source": [
    "nlp.vocab['mystery'].is_stop"
   ]
  },
  {
   "cell_type": "markdown",
   "metadata": {},
   "source": [
    "## To add a stop word\n",
    "There may be times when you wish to add a stop word to the default set. Perhaps you decide that `'btw'` (common shorthand for \"by the way\") should be considered a stop word."
   ]
  },
  {
   "cell_type": "code",
   "execution_count": 6,
   "metadata": {},
   "outputs": [],
   "source": [
    "# Add the word to the set of stop words. Use lowercase!\n",
    "nlp.Defaults.stop_words.add('btw')\n",
    "\n",
    "# Set the stop_word tag on the lexeme\n",
    "nlp.vocab['btw'].is_stop = True"
   ]
  },
  {
   "cell_type": "code",
   "execution_count": 7,
   "metadata": {},
   "outputs": [
    {
     "data": {
      "text/plain": [
       "327"
      ]
     },
     "execution_count": 7,
     "metadata": {},
     "output_type": "execute_result"
    }
   ],
   "source": [
    "len(nlp.Defaults.stop_words)"
   ]
  },
  {
   "cell_type": "code",
   "execution_count": 8,
   "metadata": {},
   "outputs": [
    {
     "data": {
      "text/plain": [
       "True"
      ]
     },
     "execution_count": 8,
     "metadata": {},
     "output_type": "execute_result"
    }
   ],
   "source": [
    "nlp.vocab['btw'].is_stop"
   ]
  },
  {
   "cell_type": "markdown",
   "metadata": {},
   "source": [
    "<font color=green>When adding stop words, always use lowercase. Lexemes are converted to lowercase before being added to **vocab**.</font>"
   ]
  },
  {
   "cell_type": "markdown",
   "metadata": {},
   "source": [
    "## To remove a stop word\n",
    "Alternatively, you may decide that `'beyond'` should not be considered a stop word."
   ]
  },
  {
   "cell_type": "code",
   "execution_count": 9,
   "metadata": {},
   "outputs": [],
   "source": [
    "# Remove the word from the set of stop words\n",
    "nlp.Defaults.stop_words.remove('beyond')\n",
    "\n",
    "# Remove the stop_word tag from the lexeme\n",
    "nlp.vocab['beyond'].is_stop = False"
   ]
  },
  {
   "cell_type": "code",
   "execution_count": 10,
   "metadata": {},
   "outputs": [
    {
     "data": {
      "text/plain": [
       "326"
      ]
     },
     "execution_count": 10,
     "metadata": {},
     "output_type": "execute_result"
    }
   ],
   "source": [
    "len(nlp.Defaults.stop_words)"
   ]
  },
  {
   "cell_type": "code",
   "execution_count": 11,
   "metadata": {},
   "outputs": [
    {
     "data": {
      "text/plain": [
       "False"
      ]
     },
     "execution_count": 11,
     "metadata": {},
     "output_type": "execute_result"
    }
   ],
   "source": [
    "nlp.vocab['beyond'].is_stop"
   ]
  },
  {
   "cell_type": "markdown",
   "metadata": {},
   "source": [
    "Great! Now you should be able to access spaCy's default set of stop words, and add or remove stop words as needed.\n",
    "## Next up: Vocabulary and Matching"
   ]
  }
 ],
 "metadata": {
  "kernelspec": {
   "display_name": "Python 3.10.6 ('nlp')",
   "language": "python",
   "name": "python3"
  },
  "language_info": {
   "codemirror_mode": {
    "name": "ipython",
    "version": 3
   },
   "file_extension": ".py",
   "mimetype": "text/x-python",
   "name": "python",
   "nbconvert_exporter": "python",
   "pygments_lexer": "ipython3",
   "version": "3.10.4"
  },
  "vscode": {
   "interpreter": {
    "hash": "eab2befb62af694730c981c1dc2e0805f7b79e7dc0c91b58059a91d3c19df925"
   }
  }
 },
 "nbformat": 4,
 "nbformat_minor": 2
}
