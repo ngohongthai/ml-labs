{
 "cells": [
  {
   "cell_type": "markdown",
   "metadata": {},
   "source": [
    "# Assignment 1"
   ]
  },
  {
   "cell_type": "markdown",
   "metadata": {},
   "source": [
    "Import the necessary libraries"
   ]
  },
  {
   "cell_type": "code",
   "execution_count": 104,
   "metadata": {},
   "outputs": [],
   "source": [
    "import numpy as np\n",
    "import pandas as pd"
   ]
  },
  {
   "cell_type": "markdown",
   "metadata": {},
   "source": [
    "Helper functions"
   ]
  },
  {
   "cell_type": "code",
   "execution_count": 105,
   "metadata": {},
   "outputs": [],
   "source": [
    "ANSWER_COL = 'Answer'\n",
    "IS_VALID_COL = 'IsValid'\n",
    "SCORE_COL = 'Score'\n",
    "\n",
    "def is_file_name_with_txt_extension(file_name):\n",
    "    \"\"\" Check if file name has .txt extension\n",
    "    \n",
    "    Args:\n",
    "        file_name (str): file name to check\n",
    "        \n",
    "    Returns:\n",
    "        bool: True if file name has .txt extension, False otherwise\n",
    "    \"\"\"\n",
    "\n",
    "    if file_name.endswith('.txt'):\n",
    "        return True\n",
    "    else:\n",
    "        return False\n",
    "\n",
    "\n",
    "def add_txt_extension(file_name):\n",
    "    \"\"\" Add .txt extension to file name if it does not have .txt extension\n",
    "\n",
    "    Args:\n",
    "        file_name (str): file name\n",
    "\n",
    "    Returns:\n",
    "        str: file name with .txt extension\n",
    "    \"\"\"\n",
    "\n",
    "    if is_file_name_with_txt_extension(file_name):\n",
    "        return file_name\n",
    "    else:\n",
    "        return file_name + '.txt'\n",
    "    \n",
    "def is_digit(string):\n",
    "    \"\"\" Check if string is digit\n",
    "    \n",
    "    Args:\n",
    "        string (str): string to check\n",
    "        \n",
    "    Returns:\n",
    "        bool: True if string is digit, False otherwise\n",
    "    \"\"\"\n",
    "    try:\n",
    "        int(string)\n",
    "        return True\n",
    "    except ValueError:\n",
    "        return False\n",
    "\n",
    "\n",
    "def is_row_valid(row):\n",
    "    \"\"\" Check if row is valid\n",
    "\n",
    "    Args:\n",
    "        row (str): row to check\n",
    "\n",
    "    Returns:\n",
    "        bool: True if row is valid, False otherwise\n",
    "    \"\"\"\n",
    "    data = row[ANSWER_COL].split(',')\n",
    "    if len(data) != 26:\n",
    "        print('Invalid line of data: does not contain exactly 26 values:')\n",
    "        print(row[ANSWER_COL] + '\\n')\n",
    "        return False\n",
    "    student_id = data[0]\n",
    "    if len(student_id) != 9 or student_id[0] != 'N' or (not is_digit(student_id[1:])):\n",
    "        print('Invalid line of data: N# is invalid')\n",
    "        print(row[ANSWER_COL] + '\\n')\n",
    "        return False\n",
    "    return True \n",
    "\n",
    "def grade_the_exams(row):\n",
    "    \"\"\" Grade the exams of student\n",
    "\n",
    "    Args:\n",
    "        student_info (str): list of student info\n",
    "\n",
    "    Returns:\n",
    "        str: student id\n",
    "        int: point of student\n",
    "    \"\"\"\n",
    "\n",
    "    correct_answer_key = \"B,A,D,D,C,B,D,A,C,C,D,B,A,B,A,C,B,D,A,C,A,A,B,D,D\"\n",
    "    correct_answer_array = correct_answer_key.split(',')\n",
    "    data = row[ANSWER_COL].split(',')\n",
    "    student_answer = data[1:]\n",
    "    point = 0\n",
    "    for index, answer in enumerate(student_answer):\n",
    "        if len(answer.strip()) == 0:\n",
    "            continue\n",
    "        if answer.strip() == correct_answer_array[index]:\n",
    "            point += 4\n",
    "        else:\n",
    "            point -= 1\n",
    "    return data[0], point\n"
   ]
  },
  {
   "cell_type": "markdown",
   "metadata": {},
   "source": [
    "open file with pandas"
   ]
  },
  {
   "cell_type": "code",
   "execution_count": 106,
   "metadata": {},
   "outputs": [
    {
     "name": "stdout",
     "output_type": "stream",
     "text": [
      "\n",
      " Successfully opened class1.txt\n",
      "\n"
     ]
    }
   ],
   "source": [
    "input_file_name = input('Enter a class file to grade (i.e. class1 for class1.txt): ')\n",
    "valid_file_name = add_txt_extension(input_file_name)\n",
    "try:\n",
    "    '''read file and convert to dataframe with two columns'''\n",
    "    df = pd.read_csv(valid_file_name, sep=' ' ,header=None) # Don't want to split anything in each line\n",
    "    print('\\n Successfully opened ' + valid_file_name + '\\n')\n",
    "except FileNotFoundError:\n",
    "    print('\\n File cannot be found. \\n')\n",
    "    exit()"
   ]
  },
  {
   "cell_type": "code",
   "execution_count": 107,
   "metadata": {},
   "outputs": [
    {
     "name": "stdout",
     "output_type": "stream",
     "text": [
      "**** ANALYZING **** \n",
      "\n",
      "No errors found!\n",
      "\n"
     ]
    }
   ],
   "source": [
    "print('**** ANALYZING **** \\n')\n",
    "# Rename column\n",
    "df.columns = [ANSWER_COL] \n",
    "# Add a new column containing boolean value of valid/invalid line\n",
    "df[IS_VALID_COL] = df.apply(lambda row: is_row_valid(row), axis=1)\n",
    "# move valid data to a new dataframe\n",
    "df_valid = df[df[IS_VALID_COL]]\n",
    "\n",
    "# count number of valid and invalid lines\n",
    "valid_line = df_valid.shape[0]\n",
    "invalid_line = df.shape[0] - valid_line\n",
    "\n",
    "if invalid_line == 0:\n",
    "    print('No errors found!\\n')\n"
   ]
  },
  {
   "cell_type": "markdown",
   "metadata": {},
   "source": [
    "Create a dataframe of scores and make student id as index"
   ]
  },
  {
   "cell_type": "code",
   "execution_count": 108,
   "metadata": {},
   "outputs": [
    {
     "data": {
      "text/html": [
       "<div>\n",
       "<style scoped>\n",
       "    .dataframe tbody tr th:only-of-type {\n",
       "        vertical-align: middle;\n",
       "    }\n",
       "\n",
       "    .dataframe tbody tr th {\n",
       "        vertical-align: top;\n",
       "    }\n",
       "\n",
       "    .dataframe thead th {\n",
       "        text-align: right;\n",
       "    }\n",
       "</style>\n",
       "<table border=\"1\" class=\"dataframe\">\n",
       "  <thead>\n",
       "    <tr style=\"text-align: right;\">\n",
       "      <th></th>\n",
       "      <th>Score</th>\n",
       "    </tr>\n",
       "  </thead>\n",
       "  <tbody>\n",
       "    <tr>\n",
       "      <th>N00000001</th>\n",
       "      <td>59</td>\n",
       "    </tr>\n",
       "    <tr>\n",
       "      <th>N00000002</th>\n",
       "      <td>70</td>\n",
       "    </tr>\n",
       "    <tr>\n",
       "      <th>N00000003</th>\n",
       "      <td>84</td>\n",
       "    </tr>\n",
       "    <tr>\n",
       "      <th>N00000004</th>\n",
       "      <td>73</td>\n",
       "    </tr>\n",
       "    <tr>\n",
       "      <th>N00000005</th>\n",
       "      <td>83</td>\n",
       "    </tr>\n",
       "  </tbody>\n",
       "</table>\n",
       "</div>"
      ],
      "text/plain": [
       "           Score\n",
       "N00000001     59\n",
       "N00000002     70\n",
       "N00000003     84\n",
       "N00000004     73\n",
       "N00000005     83"
      ]
     },
     "execution_count": 108,
     "metadata": {},
     "output_type": "execute_result"
    }
   ],
   "source": [
    "# grade the exams, creat new dataframe with student id and score\n",
    "df_score = df_valid.apply(lambda row: grade_the_exams(row), axis=1, result_type='expand') \n",
    "# set sutdent id as index\n",
    "df_score.set_index(0, inplace=True)\n",
    "# remove name of index column\n",
    "df_score.index.name = None\n",
    "# rename column 1 to Score\n",
    "df_score.rename(columns={1: SCORE_COL}, inplace=True)\n",
    "df_score.head()"
   ]
  },
  {
   "cell_type": "markdown",
   "metadata": {},
   "source": [
    "Report"
   ]
  },
  {
   "cell_type": "code",
   "execution_count": 109,
   "metadata": {},
   "outputs": [
    {
     "name": "stdout",
     "output_type": "stream",
     "text": [
      "**** REPORT **** \n",
      "\n",
      "Total valid lines of data: 20\n",
      "Total invalid lines of data: 0\n",
      "Mean (average) score: 75.6\n",
      "Highest score: 91\n",
      "Lowest score: 59\n",
      "Range of scores: 32\n",
      "Median score: 73.0\n"
     ]
    }
   ],
   "source": [
    "mean_score = df_score[SCORE_COL].mean()\n",
    "highest_score = df_score[SCORE_COL].max()\n",
    "lowest_score = df_score[SCORE_COL].min()\n",
    "range_score = highest_score - lowest_score\n",
    "median_score = df_score[SCORE_COL].median()\n",
    "print('**** REPORT **** \\n')\n",
    "print('Total valid lines of data: ' + str(valid_line))\n",
    "print('Total invalid lines of data: ' + str(invalid_line))\n",
    "print('Mean (average) score: ' + str(mean_score))\n",
    "print('Highest score: ' + str(highest_score))\n",
    "print('Lowest score: ' + str(lowest_score))\n",
    "print('Range of scores: ' + str(range_score))\n",
    "print('Median score: ' + str(median_score))\n"
   ]
  }
 ],
 "metadata": {
  "interpreter": {
   "hash": "c1bcb329fc666a29bd647ab5f731eda18fd18511409ff8d016e109c58957a965"
  },
  "kernelspec": {
   "display_name": "Python 3.9.10 ('base')",
   "language": "python",
   "name": "python3"
  },
  "language_info": {
   "codemirror_mode": {
    "name": "ipython",
    "version": 3
   },
   "file_extension": ".py",
   "mimetype": "text/x-python",
   "name": "python",
   "nbconvert_exporter": "python",
   "pygments_lexer": "ipython3",
   "version": "3.7.13"
  },
  "orig_nbformat": 4
 },
 "nbformat": 4,
 "nbformat_minor": 2
}
