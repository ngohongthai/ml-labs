{
  "cells": [
    {
      "cell_type": "markdown",
      "metadata": {
        "id": "L45RETjkxxw1"
      },
      "source": [
        "# Tạo một hệ thống đề xuất bài hát"
      ]
    },
    {
      "cell_type": "code",
      "execution_count": 1,
      "metadata": {
        "id": "RSV5XFqZxxw4"
      },
      "outputs": [],
      "source": [
        "import sklearn, pandas\n",
        "import numpy as np"
      ]
    },
    {
      "cell_type": "markdown",
      "metadata": {
        "id": "8MR_kxU5xxxA"
      },
      "source": [
        "# Load dữ liệu âm nhạc"
      ]
    },
    {
      "cell_type": "code",
      "execution_count": 2,
      "metadata": {
        "id": "mRCtKYj4xxxB"
      },
      "outputs": [],
      "source": [
        "# song_data: https://1drv.ms/u/s!AibrDR5609kdj2Spn4DrlcfD0haM?e=ddhXU8\n",
        "song_data = pandas.read_csv('song_data.csv')"
      ]
    },
    {
      "cell_type": "markdown",
      "metadata": {
        "id": "xf-uTKOmxxxI"
      },
      "source": [
        "# Khám phá dữ liệu\n",
        "\n",
        "Dữ liệu âm nhạc cho thấy số lượt nghe một bài hát của một người dùng cũng như những thông tin chi tiết về bài hát đó."
      ]
    },
    {
      "cell_type": "code",
      "execution_count": 3,
      "metadata": {
        "id": "O8VVC4WxxxxJ",
        "outputId": "a2017291-f308-42ee-a797-aec1cc6f7ec0"
      },
      "outputs": [
        {
          "data": {
            "text/html": [
              "<div>\n",
              "<style scoped>\n",
              "    .dataframe tbody tr th:only-of-type {\n",
              "        vertical-align: middle;\n",
              "    }\n",
              "\n",
              "    .dataframe tbody tr th {\n",
              "        vertical-align: top;\n",
              "    }\n",
              "\n",
              "    .dataframe thead th {\n",
              "        text-align: right;\n",
              "    }\n",
              "</style>\n",
              "<table border=\"1\" class=\"dataframe\">\n",
              "  <thead>\n",
              "    <tr style=\"text-align: right;\">\n",
              "      <th></th>\n",
              "      <th>user_id</th>\n",
              "      <th>song_id</th>\n",
              "      <th>listen_count</th>\n",
              "      <th>title</th>\n",
              "      <th>artist</th>\n",
              "      <th>song</th>\n",
              "    </tr>\n",
              "  </thead>\n",
              "  <tbody>\n",
              "    <tr>\n",
              "      <th>0</th>\n",
              "      <td>b80344d063b5ccb3212f76538f3d9e43d87dca9e</td>\n",
              "      <td>SOAKIMP12A8C130995</td>\n",
              "      <td>1</td>\n",
              "      <td>The Cove</td>\n",
              "      <td>Jack Johnson</td>\n",
              "      <td>The Cove - Jack Johnson</td>\n",
              "    </tr>\n",
              "    <tr>\n",
              "      <th>1</th>\n",
              "      <td>b80344d063b5ccb3212f76538f3d9e43d87dca9e</td>\n",
              "      <td>SOBBMDR12A8C13253B</td>\n",
              "      <td>2</td>\n",
              "      <td>Entre Dos Aguas</td>\n",
              "      <td>Paco De Lucia</td>\n",
              "      <td>Entre Dos Aguas - Paco De Lucia</td>\n",
              "    </tr>\n",
              "    <tr>\n",
              "      <th>2</th>\n",
              "      <td>b80344d063b5ccb3212f76538f3d9e43d87dca9e</td>\n",
              "      <td>SOBXHDL12A81C204C0</td>\n",
              "      <td>1</td>\n",
              "      <td>Stronger</td>\n",
              "      <td>Kanye West</td>\n",
              "      <td>Stronger - Kanye West</td>\n",
              "    </tr>\n",
              "    <tr>\n",
              "      <th>3</th>\n",
              "      <td>b80344d063b5ccb3212f76538f3d9e43d87dca9e</td>\n",
              "      <td>SOBYHAJ12A6701BF1D</td>\n",
              "      <td>1</td>\n",
              "      <td>Constellations</td>\n",
              "      <td>Jack Johnson</td>\n",
              "      <td>Constellations - Jack Johnson</td>\n",
              "    </tr>\n",
              "    <tr>\n",
              "      <th>4</th>\n",
              "      <td>b80344d063b5ccb3212f76538f3d9e43d87dca9e</td>\n",
              "      <td>SODACBL12A8C13C273</td>\n",
              "      <td>1</td>\n",
              "      <td>Learn To Fly</td>\n",
              "      <td>Foo Fighters</td>\n",
              "      <td>Learn To Fly - Foo Fighters</td>\n",
              "    </tr>\n",
              "  </tbody>\n",
              "</table>\n",
              "</div>"
            ],
            "text/plain": [
              "                                    user_id             song_id  listen_count  \\\n",
              "0  b80344d063b5ccb3212f76538f3d9e43d87dca9e  SOAKIMP12A8C130995             1   \n",
              "1  b80344d063b5ccb3212f76538f3d9e43d87dca9e  SOBBMDR12A8C13253B             2   \n",
              "2  b80344d063b5ccb3212f76538f3d9e43d87dca9e  SOBXHDL12A81C204C0             1   \n",
              "3  b80344d063b5ccb3212f76538f3d9e43d87dca9e  SOBYHAJ12A6701BF1D             1   \n",
              "4  b80344d063b5ccb3212f76538f3d9e43d87dca9e  SODACBL12A8C13C273             1   \n",
              "\n",
              "             title         artist                             song  \n",
              "0         The Cove   Jack Johnson          The Cove - Jack Johnson  \n",
              "1  Entre Dos Aguas  Paco De Lucia  Entre Dos Aguas - Paco De Lucia  \n",
              "2         Stronger     Kanye West            Stronger - Kanye West  \n",
              "3   Constellations   Jack Johnson    Constellations - Jack Johnson  \n",
              "4     Learn To Fly   Foo Fighters      Learn To Fly - Foo Fighters  "
            ]
          },
          "execution_count": 3,
          "metadata": {},
          "output_type": "execute_result"
        }
      ],
      "source": [
        "song_data.head()"
      ]
    },
    {
      "cell_type": "code",
      "execution_count": 4,
      "metadata": {},
      "outputs": [
        {
          "name": "stdout",
          "output_type": "stream",
          "text": [
            "<class 'pandas.core.frame.DataFrame'>\n",
            "RangeIndex: 1116609 entries, 0 to 1116608\n",
            "Data columns (total 6 columns):\n",
            " #   Column        Non-Null Count    Dtype \n",
            "---  ------        --------------    ----- \n",
            " 0   user_id       1116609 non-null  object\n",
            " 1   song_id       1116609 non-null  object\n",
            " 2   listen_count  1116609 non-null  int64 \n",
            " 3   title         1116609 non-null  object\n",
            " 4   artist        1116609 non-null  object\n",
            " 5   song          1116609 non-null  object\n",
            "dtypes: int64(1), object(5)\n",
            "memory usage: 51.1+ MB\n"
          ]
        }
      ],
      "source": [
        "song_data.info()"
      ]
    },
    {
      "cell_type": "markdown",
      "metadata": {
        "id": "OO6hPtO8xxxQ"
      },
      "source": [
        "## Hiển thị các bài hát phổ biến nhất trong tập dữ liệu"
      ]
    },
    {
      "cell_type": "code",
      "execution_count": 5,
      "metadata": {
        "id": "amkF8U9rxxxR"
      },
      "outputs": [],
      "source": [
        "import matplotlib.pyplot as plt\n",
        "%matplotlib inline"
      ]
    },
    {
      "cell_type": "code",
      "execution_count": 6,
      "metadata": {
        "id": "iSb2XkKYxxxX",
        "outputId": "c7d0e736-f012-4634-cffe-f78070bab536"
      },
      "outputs": [
        {
          "data": {
            "image/png": "[encoded data removed]",
            "text/plain": [
              "<Figure size 432x288 with 1 Axes>"
            ]
          },
          "metadata": {
            "needs_background": "light"
          },
          "output_type": "display_data"
        }
      ],
      "source": [
        "#song_data['song'].show()\n",
        "# most listened time on ONE user\n",
        "best_songs = song_data.sort_values('listen_count', ascending=False).head(20)\n",
        "counter_labels = best_songs['title']\n",
        "counts = best_songs['listen_count']\n",
        "counter_pos = np.arange(20)\n",
        "plt.barh(counter_pos, counts)\n",
        "plt.yticks(counter_pos, counter_labels)\n",
        "plt.show()"
      ]
    },
    {
      "cell_type": "code",
      "execution_count": 7,
      "metadata": {
        "id": "FFl3d-fExxxd",
        "outputId": "471ec57a-bcf4-4cdf-fb26-51a54cd52b8b"
      },
      "outputs": [
        {
          "data": {
            "text/plain": [
              "1116609"
            ]
          },
          "execution_count": 7,
          "metadata": {},
          "output_type": "execute_result"
        }
      ],
      "source": [
        "len(song_data)"
      ]
    },
    {
      "cell_type": "markdown",
      "metadata": {
        "id": "qAAYn0dUxxxj"
      },
      "source": [
        "## Đếm số lượng người dùng duy nhất trong tập dữ liệu"
      ]
    },
    {
      "cell_type": "code",
      "execution_count": 8,
      "metadata": {
        "id": "HRWDJ-9Ixxxk"
      },
      "outputs": [],
      "source": [
        "users = song_data['user_id'].unique()"
      ]
    },
    {
      "cell_type": "code",
      "execution_count": 9,
      "metadata": {
        "id": "ztlvLdPPxxxp",
        "outputId": "8d174a6e-2e1e-4a53-90a3-421962a80720"
      },
      "outputs": [
        {
          "data": {
            "text/plain": [
              "66346"
            ]
          },
          "execution_count": 9,
          "metadata": {},
          "output_type": "execute_result"
        }
      ],
      "source": [
        "len(users)"
      ]
    },
    {
      "cell_type": "markdown",
      "metadata": {
        "id": "TSNKCg4Jxxxu"
      },
      "source": [
        "<b>Quiz: Bài hát nào có nhiều người nghe nhất? Nhiều lượt nghe nhất? Ít lượt nghe nhất?<b>"
      ]
    },
    {
      "cell_type": "code",
      "execution_count": 13,
      "metadata": {
        "id": "CWUJLhLhxxxv"
      },
      "outputs": [
        {
          "data": {
            "text/plain": [
              "'SOFRQTD12A81C233C0'"
            ]
          },
          "execution_count": 13,
          "metadata": {},
          "output_type": "execute_result"
        }
      ],
      "source": [
        "song_count = {}\n",
        "all_songs_id = list(song_data['song_id'])\n",
        "for songid in all_songs_id:\n",
        "    song_count[songid] = song_count.get(songid, 0) + 1\n",
        "\n",
        "popular_song_id = max(song_count, key=song_count.get)\n",
        "popular_song_id"
      ]
    },
    {
      "cell_type": "code",
      "execution_count": 19,
      "metadata": {},
      "outputs": [
        {
          "name": "stdout",
          "output_type": "stream",
          "text": [
            "Most popular song: Sehr kosmisch\n",
            "Number of people was played: 5970\n"
          ]
        }
      ],
      "source": [
        "popular_song_name = song_data[song_data['song_id'] == popular_song_id]['title'].values[0]\n",
        "print(\"Most popular song:\", popular_song_name)\n",
        "print(\"Number of people was played:\", song_count[popular_song_id])"
      ]
    },
    {
      "cell_type": "code",
      "execution_count": 22,
      "metadata": {},
      "outputs": [
        {
          "name": "stdout",
          "output_type": "stream",
          "text": [
            "Most listened song: Crack Under Pressure\n",
            "Less listened song: ..Come Around\n"
          ]
        }
      ],
      "source": [
        "print(\"Most listened song:\", best_songs.head(1)['title'].values[0])\n",
        "print(\"Less listened song:\", best_songs.tail(1)['title'].values[0])"
      ]
    },
    {
      "cell_type": "markdown",
      "metadata": {
        "id": "ydK43DIWxxx0"
      },
      "source": [
        "# Tạo đề xuất bài hát"
      ]
    },
    {
      "cell_type": "code",
      "execution_count": 23,
      "metadata": {
        "id": "hsHXzvfBxxx1",
        "outputId": "ab1a6a9a-8c12-47c1-d070-6236cccc1749"
      },
      "outputs": [
        {
          "name": "stdout",
          "output_type": "stream",
          "text": [
            "893287 223322\n"
          ]
        }
      ],
      "source": [
        "from sklearn.model_selection import train_test_split\n",
        "train_data, test_data = train_test_split(song_data, train_size=0.8, test_size=0.2, random_state=0)\n",
        "print(len(train_data), len(test_data))\n",
        "#train_data,test_data = song_data.random_split(.8,seed=0)"
      ]
    },
    {
      "cell_type": "markdown",
      "metadata": {
        "id": "30tYJbWBxxx7"
      },
      "source": [
        "## Đề xuất đơn giản dựa trên độ phổ biến"
      ]
    },
    {
      "cell_type": "code",
      "execution_count": 24,
      "metadata": {
        "id": "WzYHnwoSxxx8"
      },
      "outputs": [],
      "source": [
        "popularity = pandas.DataFrame(song_data).groupby('song')['listen_count'].agg('sum').to_frame('total_listen_count') \n",
        "popularity = popularity.sort_values('total_listen_count', ascending=False)"
      ]
    },
    {
      "cell_type": "markdown",
      "metadata": {
        "id": "yea-4P7cxxyB"
      },
      "source": [
        "### Sử dụng mô hình popularity để đưa ra các dự đoán\n",
        "\n",
        "Mô hình popularity (phổ biến) đưa ra các dự đoán như nhau cho mọi người dùng, do đó cung cấp sự cá nhân hóa."
      ]
    },
    {
      "cell_type": "code",
      "execution_count": 25,
      "metadata": {
        "id": "IZKIwvTdxxyC",
        "outputId": "777ca4e2-a883-49cd-a263-206294b5abef"
      },
      "outputs": [
        {
          "data": {
            "text/html": [
              "<div>\n",
              "<style scoped>\n",
              "    .dataframe tbody tr th:only-of-type {\n",
              "        vertical-align: middle;\n",
              "    }\n",
              "\n",
              "    .dataframe tbody tr th {\n",
              "        vertical-align: top;\n",
              "    }\n",
              "\n",
              "    .dataframe thead th {\n",
              "        text-align: right;\n",
              "    }\n",
              "</style>\n",
              "<table border=\"1\" class=\"dataframe\">\n",
              "  <thead>\n",
              "    <tr style=\"text-align: right;\">\n",
              "      <th></th>\n",
              "      <th>total_listen_count</th>\n",
              "    </tr>\n",
              "    <tr>\n",
              "      <th>song</th>\n",
              "      <th></th>\n",
              "    </tr>\n",
              "  </thead>\n",
              "  <tbody>\n",
              "    <tr>\n",
              "      <th>You\\'re The One - Dwight Yoakam</th>\n",
              "      <td>40619</td>\n",
              "    </tr>\n",
              "    <tr>\n",
              "      <th>Undo - Björk</th>\n",
              "      <td>36059</td>\n",
              "    </tr>\n",
              "    <tr>\n",
              "      <th>Revelry - Kings Of Leon</th>\n",
              "      <td>30391</td>\n",
              "    </tr>\n",
              "    <tr>\n",
              "      <th>Horn Concerto No. 4 in E flat K495: II. Romance (Andante cantabile) - Barry Tuckwell/Academy of St Martin-in-the-Fields/Sir Neville Marriner</th>\n",
              "      <td>21953</td>\n",
              "    </tr>\n",
              "    <tr>\n",
              "      <th>Sehr kosmisch - Harmonia</th>\n",
              "      <td>21646</td>\n",
              "    </tr>\n",
              "    <tr>\n",
              "      <th>Dog Days Are Over (Radio Edit) - Florence + The Machine</th>\n",
              "      <td>15889</td>\n",
              "    </tr>\n",
              "    <tr>\n",
              "      <th>Secrets - OneRepublic</th>\n",
              "      <td>14149</td>\n",
              "    </tr>\n",
              "    <tr>\n",
              "      <th>Ain\\'t Misbehavin - Sam Cooke</th>\n",
              "      <td>14029</td>\n",
              "    </tr>\n",
              "    <tr>\n",
              "      <th>Invalid - Tub Ring</th>\n",
              "      <td>13701</td>\n",
              "    </tr>\n",
              "    <tr>\n",
              "      <th>Catch You Baby (Steve Pitron &amp; Max Sanna Radio Edit) - Lonnie Gordon</th>\n",
              "      <td>12506</td>\n",
              "    </tr>\n",
              "  </tbody>\n",
              "</table>\n",
              "</div>"
            ],
            "text/plain": [
              "                                                    total_listen_count\n",
              "song                                                                  \n",
              "You\\'re The One - Dwight Yoakam                                  40619\n",
              "Undo - Björk                                                     36059\n",
              "Revelry - Kings Of Leon                                          30391\n",
              "Horn Concerto No. 4 in E flat K495: II. Romance...               21953\n",
              "Sehr kosmisch - Harmonia                                         21646\n",
              "Dog Days Are Over (Radio Edit) - Florence + The...               15889\n",
              "Secrets - OneRepublic                                            14149\n",
              "Ain\\'t Misbehavin - Sam Cooke                                    14029\n",
              "Invalid - Tub Ring                                               13701\n",
              "Catch You Baby (Steve Pitron & Max Sanna Radio ...               12506"
            ]
          },
          "execution_count": 25,
          "metadata": {},
          "output_type": "execute_result"
        }
      ],
      "source": [
        "popularity.head(10)\n",
        "#popularity_model.recommend(users=[users[0]])"
      ]
    },
    {
      "cell_type": "code",
      "execution_count": null,
      "metadata": {
        "id": "c40AkPLfxxyH"
      },
      "outputs": [],
      "source": [
        "#popularity_model.recommend(users=[users[1]])"
      ]
    },
    {
      "cell_type": "markdown",
      "metadata": {
        "id": "FTd857CgxxyL"
      },
      "source": [
        "## Tạo đề xuất bài hát có tính cá nhân hóa\n",
        "\n",
        "Bây giờ chúng ta sẽ tạo một mô hình giúp đưa ra các đề xuất mang tính cá nhân cho từng người dùng.\n",
        "\n",
        "Các bạn cần bình tĩnh, ánh xạ song-to-user (bài hát tới người dùng) rất lớn nên việc tính độ tương tự rất tốn kém."
      ]
    },
    {
      "cell_type": "code",
      "execution_count": 27,
      "metadata": {
        "id": "Bt-77wJ9xxyM",
        "outputId": "9b0caf76-e415-4ab5-ec75-49c39b236b45"
      },
      "outputs": [],
      "source": [
        "# Trước tiên, hãy tạo dữ liệu người nghe bài hát. Chúng ta có thể sử dụng đếm từ tùy chỉnh cho nhiệm vụ này. Đầu tiên, hãy nhóm dữ liệu theo bài hát\n",
        "song_data_grouped = song_data.groupby(\"song\")[\"user_id\"].agg(lambda val: \" \".join(val.values))"
      ]
    },
    {
      "cell_type": "code",
      "execution_count": 28,
      "metadata": {},
      "outputs": [
        {
          "data": {
            "text/plain": [
              "song\n",
              "#!*@ You Tonight [Featuring R. Kelly] (Explicit Album Version) - The Notorious B.I.G.    9236fe7fcb3905ea0daf49408f15a3c8b085b094 83ec2...\n",
              "#40 - DAVE MATTHEWS BAND                                                                 b55d68f1a8759157038eb6688e5d6bb1b6336567 caa19...\n",
              "& Down - Boys Noize                                                                      bab8d135cf88852063ed4a084dd24c783d7ff841 e22fc...\n",
              "(Anaesthesia) Pulling Teath - Metallica                                                  8ee90038724c4957eb4df16f3e9c6ed2b570a3ec b963b...\n",
              "(Antichrist Television Blues) - Arcade Fire                                              a7c4e5316026288c499a59ff03d8732d58206c92 ba230...\n",
              "                                                                                                               ...                        \n",
              "the Love Song - K-OS                                                                     ddd4fe98c55187b75bbcc3488cd485a27cb26099 da409...\n",
              "you were there with me - Four Tet                                                        7162448db92030a7701252815a4fa2d0aa43de03 17f98...\n",
              "¡Viva La Gloria! (Album Version) - Green Day                                             c0a0c88eb9b193cc601212778fab4b0b58086e88 2a32c...\n",
              "¿Lo Ves? [Piano Y Voz] - Alejandro Sanz                                                  78450a06d791ad49831d29e41e16e0e1f53c948a 63a79...\n",
              "Época - Gotan Project                                                                    7ef2a3b074b34984f3f677bddde0f1813486cc10 62c9c...\n",
              "Name: user_id, Length: 9952, dtype: object"
            ]
          },
          "execution_count": 28,
          "metadata": {},
          "output_type": "execute_result"
        }
      ],
      "source": [
        "song_data_grouped"
      ]
    },
    {
      "cell_type": "code",
      "execution_count": 29,
      "metadata": {},
      "outputs": [
        {
          "name": "stdout",
          "output_type": "stream",
          "text": [
            "(9952, 1000)\n",
            "(9952, 9952)\n"
          ]
        }
      ],
      "source": [
        "# Giờ chúng ta sẽ chuyển các id bằng CountVectorizer\n",
        "from sklearn.feature_extraction.text import CountVectorizer\n",
        "values = CountVectorizer(max_features=1000).fit_transform(song_data_grouped.values)\n",
        "dense_values = values.todense()\n",
        "print(dense_values.shape)\n",
        "# Tính độ tương tự sử dụng Jaccard \n",
        "from scipy.spatial.distance import cdist\n",
        "similarity = cdist(dense_values, dense_values, 'jaccard')\n",
        "print(similarity.shape)"
      ]
    },
    {
      "cell_type": "code",
      "execution_count": 30,
      "metadata": {
        "id": "N7V_uAbHxxyR",
        "outputId": "66087cfe-7808-4272-9045-17c98e13393a"
      },
      "outputs": [
        {
          "name": "stdout",
          "output_type": "stream",
          "text": [
            "Random song name: Disco Heaven - Lady GaGa\n",
            "List of 10 similar songs:\n",
            "Hope For The Hopeless - A Fine Frenzy\n",
            "The Medallion Calls - Klaus Badelt\n",
            "They Do_ They Don\\'t - Jack Johnson\n",
            "Anything But Ordinary - Avril Lavigne\n",
            "City Of The Dead - The Clash\n",
            "FANTASY - Mariah Carey\n",
            "That\\'s How You Like It - Beyoncé feat. Jay-Z\n",
            "Ain\\'t Talkin\\'  \\'Bout Love (Remastered Version) - Van Halen\n",
            "Amsterdam - Coldplay\n",
            "Mediocre Bad Guys - Jack Johnson\n"
          ]
        }
      ],
      "source": [
        "# độ tương tự ở trên là 0 cho đối sánh tuyệt đối và 1 cho không đối sánh. Hãy sử dụng một bài hát ngẫu nhiên:\n",
        "random_song = 2010\n",
        "print(\"Random song name: {:s}\".format(song_data_grouped.index[random_song]))\n",
        "# nhận được bài hát tương tự nhất, ngoại trừ bài hát đầu tiên (vì rõ ràng nó là bài hát đầu tiên)\n",
        "def retrieve_similar_items(song_id, values_kept=20):\n",
        "    return np.argsort(similarity[song_id])[1:1+values_kept]\n",
        "similar_10 = retrieve_similar_items(random_song, values_kept=10)\n",
        "print(\"List of 10 similar songs:\\n{}\".format(\"\\n\".join((song_data_grouped.index[similar_10]))))"
      ]
    },
    {
      "cell_type": "code",
      "execution_count": 31,
      "metadata": {
        "id": "SxoQSGrexxyW"
      },
      "outputs": [],
      "source": [
        "# Bây giờ, chúng ta sẽ xây dựng đề xuất dựa trên độ tương tự của bài hát và lịch sử nghe của người dùng\n",
        "song_lookup_dict = {name: i for i, name in enumerate(song_data_grouped.index)}\n",
        "def congregate_song(row, values_kept=20):\n",
        "    songs_data = similarity[row[\"song\"]]\n",
        "    song_and_listen = songs_data * np.expand_dims(row[\"listen_count\"], axis=1)\n",
        "    song_and_listen = np.argsort(np.sum(song_and_listen, axis=0))\n",
        "    #print(song_and_listen.shape)\n",
        "    if(values_kept is not None and values_kept != 0):\n",
        "        return song_and_listen[:values_kept]\n",
        "    else:\n",
        "        return song_and_listen\n",
        "\n",
        "def recommend(users, song_number=20):\n",
        "    # filter the data\n",
        "    users_data_id = song_data[\"user_id\"].isin(users)\n",
        "    users_data = song_data.loc[users_data_id].groupby(\"user_id\")[\"song\", \"listen_count\"].agg({\n",
        "        \"song\": lambda x: np.vectorize(song_lookup_dict.get)(x.values).tolist(),\n",
        "        \"listen_count\": lambda x: x.values.tolist()\n",
        "    })\n",
        "    users_data[\"recommend\"] = users_data.apply(lambda x: congregate_song(x, values_kept=song_number), axis=1)\n",
        "    return users_data\n",
        "\n",
        "def show_songs_list(users_data):\n",
        "    #users_data.reindex(columns=[\"song\", \"listen_count\"])\n",
        "    for row in users_data.iterrows():\n",
        "        print(\"User {:s}'s recommended songs:'\\n{:s}\".format(\n",
        "            row[0], \n",
        "            \"\\n\".join( (song_data_grouped.index[song_id] for song_id in row[-1][\"recommend\"]))\n",
        "        ))\n",
        "#recommend(users[:2])"
      ]
    },
    {
      "cell_type": "markdown",
      "metadata": {
        "id": "tD9PjPULxxyb"
      },
      "source": [
        "### Áp dụng mô hình được cá nhân hóa để đề xuất bài hát\n",
        "\n",
        "Như bạn thấy, người dùng khác nhau sẽ nhận được những đề xuất khác nhau."
      ]
    },
    {
      "cell_type": "code",
      "execution_count": 32,
      "metadata": {
        "id": "LokJYfrpxxyc",
        "outputId": "b1a3ca28-b794-4aa0-9fd2-eb5b533f24e7"
      },
      "outputs": [
        {
          "name": "stdout",
          "output_type": "stream",
          "text": [
            "User b80344d063b5ccb3212f76538f3d9e43d87dca9e's recommended songs:'\n",
            "Moonshine - Jack Johnson\n",
            "Behind The Sea [Live In Chicago] - Panic At The Disco\n",
            "I\\'ll Be Missing You (Featuring Faith Evans & 112)(Album Version) - Puff Daddy\n",
            "I?\\'m A Steady Rollin? Man - Robert Johnson\n",
            "Por La Noche - Mala Rodriguez\n",
            "Apuesta Por El Rock \\'N\\' Roll - Héroes del Silencio\n",
            "Ya No Sos Igual - 2 Minutos\n",
            "Bigger Isn\\'t Better - The String Cheese Incident\n",
            "The Cove - Jack Johnson\n",
            "Constellations - Jack Johnson\n",
            "Holes To Heaven - Jack Johnson\n",
            "Héroe De Leyenda - Héroes del Silencio\n",
            "Love Song For No One - John Mayer\n",
            "People Watching - Jack Johnson\n",
            "Ghost Dream - Hymie\\'s Basement\n",
            "Neon - John Mayer\n",
            "Danse Pour Moi - M. Pokora\n",
            "Flashdance... What A Feeling - Irene Cara\n",
            "B.I.G. (Interlude)(Amended Version) - The Notorious B.I.G.\n",
            "The Message/ Outro - Dr. Dre / Thomas Chong / Mary J. Blige / Rell\n"
          ]
        },
        {
          "name": "stderr",
          "output_type": "stream",
          "text": [
            "/Users/ngothai/opt/miniconda3/lib/python3.7/site-packages/ipykernel_launcher.py:16: FutureWarning: Indexing with multiple keys (implicitly converted to a tuple of keys) will be deprecated, use a list instead.\n",
            "  app.launch_new_instance()\n"
          ]
        }
      ],
      "source": [
        "show_songs_list(recommend(users=[users[0]]))"
      ]
    },
    {
      "cell_type": "code",
      "execution_count": 33,
      "metadata": {
        "id": "Y_ZiNgo3xxyh",
        "outputId": "012fff77-f2d5-40ad-986e-833969c3d47d"
      },
      "outputs": [
        {
          "name": "stdout",
          "output_type": "stream",
          "text": [
            "User 85c1f87fea955d09b4bec2e36aee110927aedf9a's recommended songs:'\n",
            "The Best of Times - Sage Francis\n",
            "Side To Side (Featuring Lateef & Pigeon John) (Album Version) - Blackalicious\n",
            "Big Munny - Swizz Beatz\n",
            "Southside - Common / Kanye West\n",
            "It\\'s Me B*#@hes - Swizz Beatz\n",
            "You Know Your Boy Did That - Swizz Beatz\n",
            "Work (Explicit) - Gang Starr\n",
            "Diamonds From Sierra Leone - Kanye West / Jay-Z\n",
            "Never Let Me Down - Kanye West / Jay-Z / J. Ivy\n",
            "The Food - Common\n",
            "Ringing Bells - Masta Killa\n",
            "Bring The Noize - DMX\n",
            "In Between The Years - Ulrich Schnauss\n",
            "Down And Out (Album Version) - The Academy Is...\n",
            "Mutha\\'uckas (Album Version) - Flight Of The Conchords\n",
            "The Choice Is Yours - Black Sheep\n",
            "Maxine - Traveling Wilburys\n",
            "Is She Weird - Pixies\n",
            "Kick In The Door (Soundtrack Version) (Explicit) - Notorious B.I.G.\n",
            "Beloved Kitty and the Piercing Bolts of Amor - Ordo Rosarius Equilibrio\n"
          ]
        },
        {
          "name": "stderr",
          "output_type": "stream",
          "text": [
            "/Users/ngothai/opt/miniconda3/lib/python3.7/site-packages/ipykernel_launcher.py:16: FutureWarning: Indexing with multiple keys (implicitly converted to a tuple of keys) will be deprecated, use a list instead.\n",
            "  app.launch_new_instance()\n"
          ]
        }
      ],
      "source": [
        "show_songs_list(recommend(users=[users[1]]))"
      ]
    },
    {
      "cell_type": "markdown",
      "metadata": {
        "id": "JkeGo8Qfxxym"
      },
      "source": [
        "### Chúng ta có thể áp dụng mô hình để tìm bài hát tương tự với bất kỳ bài nào trong tập dữ liệu"
      ]
    },
    {
      "cell_type": "code",
      "execution_count": 34,
      "metadata": {
        "id": "uqaX3poMxxyn",
        "outputId": "ea633bb8-24ea-4583-ac42-acc1bc629e53"
      },
      "outputs": [
        {
          "name": "stdout",
          "output_type": "stream",
          "text": [
            "List of 5 similar songs:\n",
            "Decisiones - Ruben Blades\n",
            "What I Want - Dead Or Alive\n",
            "You Are A Knife - Veto\n",
            "Dead Man (Carry Me) - Jars Of Clay\n",
            "A Kind Of Hope - Pilot Speed\n"
          ]
        }
      ],
      "source": [
        "u2_similar_index = retrieve_similar_items(song_lookup_dict['With Or Without You - U2'], values_kept=5)\n",
        "print(\"List of 5 similar songs:\\n{}\".format(\"\\n\".join(song_data_grouped.index[u2_similar_index])))"
      ]
    },
    {
      "cell_type": "code",
      "execution_count": 35,
      "metadata": {
        "id": "vQ85s-fwxxyr",
        "outputId": "9a5b6e44-85d7-4e99-cafe-78a96d22d68a"
      },
      "outputs": [
        {
          "name": "stdout",
          "output_type": "stream",
          "text": [
            "List of 20 similar songs:\n",
            "Amor de Loca Juventud - Buena Vista Social Club\n",
            "Murmullo - Buena Vista Social Club\n",
            "Shaman\\'s Blues ( LP Version ) - The Doors\n",
            "Until The Morning - Thievery Corporation\n",
            "La Bayamesa - Buena Vista Social Club\n"
          ]
        }
      ],
      "source": [
        "bvsc_similar_index = retrieve_similar_items(song_lookup_dict['Chan Chan (Live) - Buena Vista Social Club'], values_kept=5)\n",
        "print(\"List of 20 similar songs:\\n{}\".format(\"\\n\".join(song_data_grouped.index[bvsc_similar_index])))"
      ]
    },
    {
      "cell_type": "markdown",
      "metadata": {
        "id": "vXybeI-Jxxyw"
      },
      "source": [
        "# So sánh định lượng giữa các mô hình\n",
        "\n",
        "Bây giờ chúng ta sẽ chính thức so sánh các mô hình phổ biến và mô hình được cá nhân hóa bằng cách sử dụng các đường cong precision-recall. Điều này có thể tốn một chút thời gian. Trước hết, chúng ta cắt dữ liệu kiểm tra và tạo các hàm để kiểm tra xem liệu có thể sử dụng các mô hình của chúng ta để dự đoán các bài hát mà bất kỳ người dùng nào đã nghe không. "
      ]
    },
    {
      "cell_type": "code",
      "execution_count": 36,
      "metadata": {
        "id": "xFPublU4xxyx"
      },
      "outputs": [],
      "source": [
        "# loại bỏ tất cả người dùng không có dữ liệu trong training set để đảm bảo\n",
        "sample_test_data = test_data.loc[test_data[\"user_id\"].isin(train_data[\"user_id\"])]\n",
        "sample_test_data = sample_test_data.groupby(\"user_id\")[\"song\"].agg(\n",
        "        lambda x: np.vectorize(song_lookup_dict.get)(x.values).tolist() #x.values.tolist() \n",
        "    )\n",
        "#print(sample_test_data.iloc[0])\n",
        "def recommend_popularity(user):\n",
        "    return np.vectorize(song_lookup_dict.get)(popularity.index.values).to_list()\n",
        "\n",
        "def recommend_personalized(user, song_number=1000):\n",
        "    return recommend([user], song_number=song_number)[\"recommend\"].to_list()[0]"
      ]
    },
    {
      "cell_type": "markdown",
      "metadata": {
        "id": "rGGF99I_xxy3"
      },
      "source": [
        "Bây giờ chúng ta hãy tính toán các giá trị Precision/Recall cho một mẫu gồm 1000 người dùng đầu tiên. Các bạn hãy kiên nhẫn khi thực hiện."
      ]
    },
    {
      "cell_type": "code",
      "execution_count": 37,
      "metadata": {
        "id": "N3Vh5IkNxxy4",
        "outputId": "4e8ec9d2-cc83-433c-c510-31f988fdbcf8"
      },
      "outputs": [
        {
          "name": "stderr",
          "output_type": "stream",
          "text": [
            "/Users/ngothai/opt/miniconda3/lib/python3.7/site-packages/ipykernel_launcher.py:16: FutureWarning: Indexing with multiple keys (implicitly converted to a tuple of keys) will be deprecated, use a list instead.\n",
            "  app.launch_new_instance()\n"
          ]
        },
        {
          "name": "stdout",
          "output_type": "stream",
          "text": [
            "Done calculation for general recommendation.\n"
          ]
        },
        {
          "data": {
            "text/html": [
              "<div>\n",
              "<style scoped>\n",
              "    .dataframe tbody tr th:only-of-type {\n",
              "        vertical-align: middle;\n",
              "    }\n",
              "\n",
              "    .dataframe tbody tr th {\n",
              "        vertical-align: top;\n",
              "    }\n",
              "\n",
              "    .dataframe thead th {\n",
              "        text-align: right;\n",
              "    }\n",
              "</style>\n",
              "<table border=\"1\" class=\"dataframe\">\n",
              "  <thead>\n",
              "    <tr style=\"text-align: right;\">\n",
              "      <th></th>\n",
              "      <th>song</th>\n",
              "      <th>rec_personalized</th>\n",
              "    </tr>\n",
              "    <tr>\n",
              "      <th>user_id</th>\n",
              "      <th></th>\n",
              "      <th></th>\n",
              "    </tr>\n",
              "  </thead>\n",
              "  <tbody>\n",
              "    <tr>\n",
              "      <th>00003a4459f33b92906be11abe0e93efc423c0ff</th>\n",
              "      <td>[4831, 6139]</td>\n",
              "      <td>[2051, 9201, 5948, 9862, 7718, 4831, 4, 769, 2...</td>\n",
              "    </tr>\n",
              "    <tr>\n",
              "      <th>00030033e3a2f904a48ec1dd53019c9969b6ef1f</th>\n",
              "      <td>[1139]</td>\n",
              "      <td>[7110, 1436, 9873, 4402, 47, 7122, 2062, 9077,...</td>\n",
              "    </tr>\n",
              "    <tr>\n",
              "      <th>0007235c769e610e3d339a17818a5708e41008d9</th>\n",
              "      <td>[3006]</td>\n",
              "      <td>[3006, 7858, 5469, 183, 1998, 9829, 9338, 3308...</td>\n",
              "    </tr>\n",
              "    <tr>\n",
              "      <th>0007c0e74728ca9ef0fe4eb7f75732e8026a278b</th>\n",
              "      <td>[8159]</td>\n",
              "      <td>[8170, 9825, 3256, 4225, 3340, 8159, 2087, 522...</td>\n",
              "    </tr>\n",
              "    <tr>\n",
              "      <th>000a5c8b4d8b2c98f7a205219181d039edcd4506</th>\n",
              "      <td>[7743, 309, 8374]</td>\n",
              "      <td>[8374, 1996, 959, 7743, 9345, 309, 5779, 4568,...</td>\n",
              "    </tr>\n",
              "  </tbody>\n",
              "</table>\n",
              "</div>"
            ],
            "text/plain": [
              "                                                       song  \\\n",
              "user_id                                                       \n",
              "00003a4459f33b92906be11abe0e93efc423c0ff       [4831, 6139]   \n",
              "00030033e3a2f904a48ec1dd53019c9969b6ef1f             [1139]   \n",
              "0007235c769e610e3d339a17818a5708e41008d9             [3006]   \n",
              "0007c0e74728ca9ef0fe4eb7f75732e8026a278b             [8159]   \n",
              "000a5c8b4d8b2c98f7a205219181d039edcd4506  [7743, 309, 8374]   \n",
              "\n",
              "                                                                           rec_personalized  \n",
              "user_id                                                                                      \n",
              "00003a4459f33b92906be11abe0e93efc423c0ff  [2051, 9201, 5948, 9862, 7718, 4831, 4, 769, 2...  \n",
              "00030033e3a2f904a48ec1dd53019c9969b6ef1f  [7110, 1436, 9873, 4402, 47, 7122, 2062, 9077,...  \n",
              "0007235c769e610e3d339a17818a5708e41008d9  [3006, 7858, 5469, 183, 1998, 9829, 9338, 3308...  \n",
              "0007c0e74728ca9ef0fe4eb7f75732e8026a278b  [8170, 9825, 3256, 4225, 3340, 8159, 2087, 522...  \n",
              "000a5c8b4d8b2c98f7a205219181d039edcd4506  [8374, 1996, 959, 7743, 9345, 309, 5779, 4568,...  "
            ]
          },
          "execution_count": 37,
          "metadata": {},
          "output_type": "execute_result"
        }
      ],
      "source": [
        "sample_test_data_frame = pandas.DataFrame(data=sample_test_data[:1000])\n",
        "sample_test_data_frame[\"rec_personalized\"] = sample_test_data_frame.index.to_series().apply(recommend_personalized)\n",
        "print(\"Done calculation for general recommendation.\")\n",
        "#print(type(sample_test_data))\n",
        "sample_test_data_frame.head()"
      ]
    },
    {
      "cell_type": "markdown",
      "metadata": {
        "id": "SX0Z4_0Bxxy8"
      },
      "source": [
        "<b>Tùy chọn: Chúng ta có thể tối ưu hóa quy trình này không?<b>\n",
        "Hãy nhớ lại rằng hàm recommend() có thể nhận (danh sách/chuỗi) người dùng có thể lặp lại. Chúng ta có thể sử dụng ánh xạ tốt hơn cho rec_personalized không? Và nó có nhanh hơn không?"
      ]
    },
    {
      "cell_type": "code",
      "execution_count": 38,
      "metadata": {
        "id": "IjXy5bHZxxy9",
        "outputId": "ff710a52-14cb-43be-b368-2027c19bf52f"
      },
      "outputs": [
        {
          "name": "stdout",
          "output_type": "stream",
          "text": [
            "Popularity: precision: 13.2090, recall: 0.5100, 510.0-3861.0-100000.0\n",
            "Personalized: precision: 67.5214, recall: 2.6070, 2607.0-3861.0-100000.0\n",
            "Popularity: precision: 12.5874, recall: 0.5400, 486.0-3861.0-90000.0\n",
            "Personalized: precision: 66.5890, recall: 2.8567, 2571.0-3861.0-90000.0\n",
            "Popularity: precision: 11.5773, recall: 0.5587, 447.0-3861.0-80000.0\n",
            "Personalized: precision: 65.1645, recall: 3.1450, 2516.0-3861.0-80000.0\n",
            "Popularity: precision: 10.7226, recall: 0.5914, 414.0-3861.0-70000.0\n",
            "Personalized: precision: 63.4810, recall: 3.5014, 2451.0-3861.0-70000.0\n",
            "Popularity: precision: 9.8938, recall: 0.6367, 382.0-3861.0-60000.0\n",
            "Personalized: precision: 61.9529, recall: 3.9867, 2392.0-3861.0-60000.0\n",
            "Popularity: precision: 8.8319, recall: 0.6820, 341.0-3861.0-50000.0\n",
            "Personalized: precision: 59.5183, recall: 4.5960, 2298.0-3861.0-50000.0\n",
            "Popularity: precision: 7.6664, recall: 0.7400, 296.0-3861.0-40000.0\n",
            "Personalized: precision: 55.7369, recall: 5.3800, 2152.0-3861.0-40000.0\n",
            "Popularity: precision: 6.6822, recall: 0.8600, 258.0-3861.0-30000.0\n",
            "Personalized: precision: 50.8936, recall: 6.5500, 1965.0-3861.0-30000.0\n",
            "Popularity: precision: 5.3872, recall: 1.0400, 208.0-3861.0-20000.0\n",
            "Personalized: precision: 43.6674, recall: 8.4300, 1686.0-3861.0-20000.0\n"
          ]
        }
      ],
      "source": [
        "popularity_data, personalized_data = [], []\n",
        "def count_correct(songs, recs):\n",
        "    return sum( (1 if song in recs else 0 for song in songs) )\n",
        "    \n",
        "for num_recommend in np.arange(100, 10, -10):\n",
        "    #num_recommend = int(float(len(popularity)) * p)\n",
        "    popularity_recommendation = np.vectorize(song_lookup_dict.get)(popularity.index.values)[:num_recommend]\n",
        "    popular_fn = lambda row: (count_correct(row[\"song\"], popularity_recommendation), len(row[\"song\"]), num_recommend)\n",
        "    precision_recall_popularity = sample_test_data_frame.apply(popular_fn, axis=1, result_type='reduce')\n",
        "    correct, all_entry, all_guesses = (float(sum(x)) for x in zip(*precision_recall_popularity))\n",
        "    precision = correct / all_entry\n",
        "    recall = correct / all_guesses\n",
        "    popularity_data.append( (precision, recall) )\n",
        "    print(\"Popularity: precision: {:.4f}, recall: {:.4f}, {}-{}-{}\".format(precision * 100.0, recall * 100.0, correct, all_entry, all_guesses))\n",
        "    sample_test_data_frame[\"rec_personalized\"] = sample_test_data_frame[\"rec_personalized\"].apply(lambda row: row[:num_recommend])\n",
        "    precision_recall_personalized = sample_test_data_frame.apply(lambda row: (count_correct(row[\"song\"], row[\"rec_personalized\"]), len(row[\"song\"]), num_recommend), axis=1, result_type='reduce')\n",
        "    correct, all_entry, all_guesses = (float(sum(x)) for x in zip(*precision_recall_personalized))\n",
        "    precision = correct / all_entry\n",
        "    recall = correct / all_guesses\n",
        "    personalized_data.append( (precision, recall) )\n",
        "    print(\"Personalized: precision: {:.4f}, recall: {:.4f}, {}-{}-{}\".format(precision * 100.0, recall * 100.0, correct, all_entry, all_guesses))\n",
        "    \n",
        "popularity_data.append((0.0, 1.0))\n",
        "personalized_data.append((0.0, 1.0))"
      ]
    },
    {
      "cell_type": "code",
      "execution_count": 39,
      "metadata": {
        "id": "v2t5-ZLWxxzE",
        "outputId": "b7695196-bd98-4826-b6d9-e7b6ac3a9321"
      },
      "outputs": [
        {
          "data": {
            "image/png": "[encoded data removed]",
            "text/plain": [
              "<Figure size 432x288 with 1 Axes>"
            ]
          },
          "metadata": {
            "needs_background": "light"
          },
          "output_type": "display_data"
        }
      ],
      "source": [
        "lw=0.5\n",
        "plt.figure()\n",
        "popularity_precisions, popularity_recall = zip(*popularity_data)\n",
        "plt.plot([1.0 - r for r in popularity_recall], list(popularity_precisions), color='darkorange',\n",
        "         lw=lw, label='ROC curve (popularity)')\n",
        "personal_precisions, personal_recall= zip(*personalized_data)\n",
        "plt.plot([1.0 - r for r in personal_recall], list(personal_precisions), color='green',\n",
        "         lw=lw, label='ROC curve (personalized)')\n",
        "plt.plot([0.0, 0.5], [0.0, 0.5], color='navy', linestyle='--')\n",
        "plt.xlabel('False Positive Rate')\n",
        "plt.ylabel('True Positive Rate')\n",
        "plt.title('Receiver operating characteristic example')\n",
        "plt.legend(loc=\"lower right\")\n",
        "plt.show()"
      ]
    },
    {
      "cell_type": "markdown",
      "metadata": {
        "collapsed": true,
        "id": "eZph8Di3xxzJ"
      },
      "source": [
        "Đường cong cho thấy mô hình được cá nhân hóa cho hiệu suất tốt hơn nhiều, vì độ chính xác tăng lên không ngừng khi chúng ta gia tăng số lượng đề xuất."
      ]
    },
    {
      "cell_type": "code",
      "execution_count": null,
      "metadata": {
        "id": "ZQiWO-2XxxzK"
      },
      "outputs": [],
      "source": []
    }
  ],
  "metadata": {
    "colab": {
      "collapsed_sections": [],
      "name": "[VN]Lab 13-Song recommender.ipynb",
      "provenance": []
    },
    "kernelspec": {
      "display_name": "Python 3",
      "language": "python",
      "name": "python3"
    },
    "language_info": {
      "codemirror_mode": {
        "name": "ipython",
        "version": 3
      },
      "file_extension": ".py",
      "mimetype": "text/x-python",
      "name": "python",
      "nbconvert_exporter": "python",
      "pygments_lexer": "ipython3",
      "version": "3.7.13"
    }
  },
  "nbformat": 4,
  "nbformat_minor": 0
}
