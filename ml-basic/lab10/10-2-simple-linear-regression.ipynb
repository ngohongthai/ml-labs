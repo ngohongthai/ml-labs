{
 "cells": [
  {
   "cell_type": "markdown",
   "metadata": {},
   "source": [
    "# 10.2 Hồi quy tuyến tính đơn giản"
   ]
  },
  {
   "cell_type": "markdown",
   "metadata": {},
   "source": [
    "## Import các thư viện"
   ]
  },
  {
   "cell_type": "code",
   "execution_count": 1,
   "metadata": {},
   "outputs": [],
   "source": [
    "import numpy as np\n",
    "import pandas as pd\n",
    "import matplotlib.pyplot as plt\n",
    "%matplotlib inline"
   ]
  },
  {
   "cell_type": "markdown",
   "metadata": {},
   "source": [
    "## Import tập dữ liệu"
   ]
  },
  {
   "cell_type": "code",
   "execution_count": 2,
   "metadata": {},
   "outputs": [
    {
     "data": {
      "text/html": [
       "<div>\n",
       "<style scoped>\n",
       "    .dataframe tbody tr th:only-of-type {\n",
       "        vertical-align: middle;\n",
       "    }\n",
       "\n",
       "    .dataframe tbody tr th {\n",
       "        vertical-align: top;\n",
       "    }\n",
       "\n",
       "    .dataframe thead th {\n",
       "        text-align: right;\n",
       "    }\n",
       "</style>\n",
       "<table border=\"1\" class=\"dataframe\">\n",
       "  <thead>\n",
       "    <tr style=\"text-align: right;\">\n",
       "      <th></th>\n",
       "      <th>YearsExperience</th>\n",
       "      <th>Salary</th>\n",
       "    </tr>\n",
       "  </thead>\n",
       "  <tbody>\n",
       "    <tr>\n",
       "      <th>0</th>\n",
       "      <td>1.1</td>\n",
       "      <td>39343.0</td>\n",
       "    </tr>\n",
       "    <tr>\n",
       "      <th>1</th>\n",
       "      <td>1.3</td>\n",
       "      <td>46205.0</td>\n",
       "    </tr>\n",
       "    <tr>\n",
       "      <th>2</th>\n",
       "      <td>1.5</td>\n",
       "      <td>37731.0</td>\n",
       "    </tr>\n",
       "    <tr>\n",
       "      <th>3</th>\n",
       "      <td>2.0</td>\n",
       "      <td>43525.0</td>\n",
       "    </tr>\n",
       "    <tr>\n",
       "      <th>4</th>\n",
       "      <td>2.2</td>\n",
       "      <td>39891.0</td>\n",
       "    </tr>\n",
       "  </tbody>\n",
       "</table>\n",
       "</div>"
      ],
      "text/plain": [
       "   YearsExperience   Salary\n",
       "0              1.1  39343.0\n",
       "1              1.3  46205.0\n",
       "2              1.5  37731.0\n",
       "3              2.0  43525.0\n",
       "4              2.2  39891.0"
      ]
     },
     "execution_count": 2,
     "metadata": {},
     "output_type": "execute_result"
    }
   ],
   "source": [
    "dataset = pd.read_csv('data/Salary_Data.csv')\n",
    "dataset.head()"
   ]
  },
  {
   "cell_type": "code",
   "execution_count": 3,
   "metadata": {},
   "outputs": [],
   "source": [
    "X = dataset.iloc[:, :-1].values\n",
    "y = dataset.iloc[:, -1].values"
   ]
  },
  {
   "cell_type": "markdown",
   "metadata": {},
   "source": [
    "## Chia tập dữ liệu thành Training set và Test set"
   ]
  },
  {
   "cell_type": "code",
   "execution_count": 4,
   "metadata": {},
   "outputs": [],
   "source": [
    "from sklearn.model_selection import train_test_split\n",
    "X_train, X_test, y_train, y_test = train_test_split(X, y, test_size=1/3, random_state=42)"
   ]
  },
  {
   "cell_type": "markdown",
   "metadata": {},
   "source": [
    "## Huấn luyện mô hình Hồi quy tuyến tính đơn giản trên Training set\n",
    "\n",
    "Giờ giai đoạn xử lý dữ liệu đã kết thúc và chúng ta có thể chuyển sang bước tiếp theo, huấn luyện mô hình hồi quy tuyến tính đơn giản trên tập huấn luyện và sử dụng bài kiểm tra để đánh giá nó. Chúng ta sẽ huấn luyện mô hình hồi quy tuyến tính đơn giản của mình để hiểu mối tương quan giữa số năm kinh nghiệm của những nhân viên này trong công ty và mức lương tương ứng của họ. Sử dụng LinearRegression() để xây dựng mô hình, sau đó huấn luyện mô hình này bằng cách phương thức fit()."
   ]
  },
  {
   "cell_type": "code",
   "execution_count": 5,
   "metadata": {},
   "outputs": [
    {
     "data": {
      "text/plain": [
       "LinearRegression()"
      ]
     },
     "execution_count": 5,
     "metadata": {},
     "output_type": "execute_result"
    }
   ],
   "source": [
    "from sklearn.linear_model import LinearRegression\n",
    "regressor = LinearRegression()\n",
    "regressor.fit(X_train, y_train)"
   ]
  },
  {
   "cell_type": "markdown",
   "metadata": {},
   "source": [
    "## Dự đoán kết quả Test set\n",
    "Chúng ta sẽ dùng phương thức predict() để dự đoán kết quả của quan sát trong tập kiểm tra."
   ]
  },
  {
   "cell_type": "code",
   "execution_count": 6,
   "metadata": {},
   "outputs": [],
   "source": [
    "y_pred = regressor.predict(X_test)"
   ]
  },
  {
   "cell_type": "markdown",
   "metadata": {},
   "source": [
    "## Hiển thị kết quả Training set\n",
    "Đầu tiên, chúng ta sẽ hiển thị kết quả tập huấn luyện. Bây giờ chúng ta chỉ muốn đưa vào một biểu đồ mức lương thực so với mức lương dự đoán. Về cơ bản, chúng ta sẽ có một biểu đồ 2D với trục x là số năm kinh nghiệm, từ 1 đến 10 và trục y là mức lương trong phạm vi mức lương được cho trong tập dữ liệu này. Và vì vậy, chúng ta sẽ vẽ các điểm đỏ cho biết mức lương thực tế và đường thẳng màu xanh dương là mức lương dự đoán.\n",
    "\n",
    "Thư viện Matplotlib này cho phép chúng ta vẽ một số đồ họa đẹp gồm cả những đồ họa mà chúng ta sắp vẽ."
   ]
  },
  {
   "cell_type": "code",
   "execution_count": 7,
   "metadata": {},
   "outputs": [
    {
     "data": {
      "image/png": "[encoded data removed]",
      "text/plain": [
       "<Figure size 432x288 with 1 Axes>"
      ]
     },
     "metadata": {
      "needs_background": "light"
     },
     "output_type": "display_data"
    }
   ],
   "source": [
    "plt.scatter(X_train, y_train, color='red')\n",
    "plt.plot(X_train, regressor.predict(X_train), color='blue')\n",
    "plt.title('Salary vs Experience (Training set)')\n",
    "plt.xlabel('Years of Experience')\n",
    "plt.ylabel('Salary')\n",
    "plt.show()"
   ]
  },
  {
   "cell_type": "markdown",
   "metadata": {},
   "source": [
    "## Hiển thị kết quả Test set\n",
    "\n",
    "Chúng ta sẽ thực hiện tương tự với kết quả tập kiểm tra. Sao chép mọi thứ và dán vào code mới ở đây. Và giờ chúng ta sẽ thay thế đúng chỗ. \n",
    "\n",
    "Một lần nữa, mức lương dự đoán của chúng ta trên đường màu xanh dương thực sự rất gần với mức lương thực tế.\n",
    "\n",
    "Tuy nhiên, hãy nhớ lý do chúng ta có được một đường hồi quy tốt như vậy ở đây đơn giản là có một mối quan hệ tuyến tính trong tập dữ liệu giữa các feature và biến phụ thuộc của tập dữ liệu. Nói cách khác, chúng ta đã có một tập dữ liệu tuyến tính hoàn hảo hay một tập dữ liệu với các mối tương quan tuyến tính. Và tôi muốn đảm bảo rằng các bạn hiểu những kết quả tuyệt đẹp này sẽ không xảy ra cho bất kỳ tập dữ liệu nào bởi vì bạn sẽ phải làm việc trên tập dữ liệu với các mối quan hệ phi tuyến tính. Và với các tập dữ liệu này, bạn sẽ cần một mô hình phi tuyến."
   ]
  },
  {
   "cell_type": "code",
   "execution_count": 8,
   "metadata": {},
   "outputs": [
    {
     "data": {
      "image/png": "[encoded data removed]",
      "text/plain": [
       "<Figure size 432x288 with 1 Axes>"
      ]
     },
     "metadata": {
      "needs_background": "light"
     },
     "output_type": "display_data"
    }
   ],
   "source": [
    "plt.scatter(X_test, y_test, color='red')\n",
    "plt.plot(X_test, regressor.predict(X_test), color='blue')\n",
    "plt.title('Salary vs Experience (Test set)')\n",
    "plt.xlabel('Years of Experience')\n",
    "plt.ylabel('Salary')\n",
    "plt.show()"
   ]
  },
  {
   "cell_type": "markdown",
   "metadata": {},
   "source": [
    "## Đưa ra một dự đoán duy nhất (ví dụ: lương của một nhân viên có 12 năm kinh nghiệm)\n",
    "\n",
    "**Lưu ý quan trọng:** Giá trị của feature (12 năm) được nhập trong một cặp dấu ngoặc vuông kép. Đó là bởi vì phương thức \"predict\" luôn cần một mảng 2D làm định dạng của các input. Và đặt 12 vào một cặp dấu ngoặc vuông kép làm cho input chính xác là một mảng 2D. Chỉ cần đặt:\n",
    "\n",
    "$12 \\rightarrow \\textrm{scalar}$\n",
    "\n",
    "$[12] \\rightarrow \\textrm{1D array}$\n",
    "\n",
    "$[[12]] \\rightarrow \\textrm{2D array}$"
   ]
  },
  {
   "cell_type": "code",
   "execution_count": 9,
   "metadata": {},
   "outputs": [
    {
     "name": "stdout",
     "output_type": "stream",
     "text": [
      "[138436.80060814]\n"
     ]
    }
   ],
   "source": [
    "print(regressor.predict([[12]]))"
   ]
  },
  {
   "cell_type": "markdown",
   "metadata": {},
   "source": [
    "## Nhận phương trình hồi quy tuyến tính cuối cùng với giá trị của các hệ số\n",
    "\n",
    "Như vậy, phương trình mô hình hồi quy tuyến tính đơn giản của chúng ta là:\n",
    "\n",
    "$$\\textrm{Salary} = 9426 \\times \\textrm{YearsExperience} + 25324$$\n",
    "\n",
    "**Lưu ý quan trọng:** Để có được các hệ số này, chúng ta gọi thuộc tính \"coef_\" và \"intercept_\" từ đối tượng hồi quy. Các thuộc tính trong Python khác với các phương thức và thường trả về một giá trị đơn giản hoặc một mảng các giá trị."
   ]
  },
  {
   "cell_type": "code",
   "execution_count": 10,
   "metadata": {},
   "outputs": [
    {
     "name": "stdout",
     "output_type": "stream",
     "text": [
      "[9426.03876907]\n",
      "25324.335379244316\n"
     ]
    }
   ],
   "source": [
    "print(regressor.coef_)\n",
    "print(regressor.intercept_)"
   ]
  },
  {
   "cell_type": "code",
   "execution_count": null,
   "metadata": {},
   "outputs": [],
   "source": []
  }
 ],
 "metadata": {
  "interpreter": {
   "hash": "c1bcb329fc666a29bd647ab5f731eda18fd18511409ff8d016e109c58957a965"
  },
  "kernelspec": {
   "display_name": "Python 3.9.10 ('base')",
   "language": "python",
   "name": "python3"
  },
  "language_info": {
   "codemirror_mode": {
    "name": "ipython",
    "version": 3
   },
   "file_extension": ".py",
   "mimetype": "text/x-python",
   "name": "python",
   "nbconvert_exporter": "python",
   "pygments_lexer": "ipython3",
   "version": "3.8.13"
  },
  "orig_nbformat": 4
 },
 "nbformat": 4,
 "nbformat_minor": 2
}
