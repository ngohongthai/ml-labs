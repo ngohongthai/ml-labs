{
  "cells": [
    {
      "cell_type": "markdown",
      "metadata": {
        "id": "UcNgREvPNWw4"
      },
      "source": [
        "# Xây dựng hệ thống truy xuất hình ảnh với deep feature"
      ]
    },
    {
      "cell_type": "code",
      "execution_count": 1,
      "metadata": {
        "id": "9A7p6XdRNWw5"
      },
      "outputs": [],
      "source": [
        "import sklearn, pandas\n",
        "import numpy as np"
      ]
    },
    {
      "cell_type": "markdown",
      "metadata": {
        "id": "ltd5lBueNWw5"
      },
      "source": [
        "# Load tập dữ liệu CIFAR-10 \n",
        "\n",
        "Chúng ta sẽ sử dụng tạp dữ liệu đánh giá xếp hạng phổ biến trong thị giác máy tính là CIFAR-10.\n",
        "\n",
        "(Chúng tôi đã giảm dữ liệu xuống còn 4 hạng mục = {'cat','bird','automobile','dog'}.)\n",
        "\n",
        "Tập dữ liệu này đã được chia thành training set và test set. Trong ví dụ truy xuất đơn giản này, không có khái niệm \"testing\" nên chúng ta sẽ chỉ sử dụng dữ liệu huấn luyện (training)."
      ]
    },
    {
      "cell_type": "code",
      "execution_count": 2,
      "metadata": {
        "id": "QsGqSS1uNWw5"
      },
      "outputs": [
        {
          "data": {
            "text/html": [
              "<div>\n",
              "<style scoped>\n",
              "    .dataframe tbody tr th:only-of-type {\n",
              "        vertical-align: middle;\n",
              "    }\n",
              "\n",
              "    .dataframe tbody tr th {\n",
              "        vertical-align: top;\n",
              "    }\n",
              "\n",
              "    .dataframe thead th {\n",
              "        text-align: right;\n",
              "    }\n",
              "</style>\n",
              "<table border=\"1\" class=\"dataframe\">\n",
              "  <thead>\n",
              "    <tr style=\"text-align: right;\">\n",
              "      <th></th>\n",
              "      <th>id</th>\n",
              "      <th>image</th>\n",
              "      <th>label</th>\n",
              "      <th>deep_features</th>\n",
              "      <th>image_array</th>\n",
              "    </tr>\n",
              "  </thead>\n",
              "  <tbody>\n",
              "    <tr>\n",
              "      <th>0</th>\n",
              "      <td>24</td>\n",
              "      <td>Height: 32 Width: 32</td>\n",
              "      <td>bird</td>\n",
              "      <td>[0.242872 1.09545 0 0.39363 0 0 11.8949 0 0 0 ...</td>\n",
              "      <td>[73 77 58 71 68 50 77 69 44 120 116 83 125 120...</td>\n",
              "    </tr>\n",
              "    <tr>\n",
              "      <th>1</th>\n",
              "      <td>33</td>\n",
              "      <td>Height: 32 Width: 32</td>\n",
              "      <td>cat</td>\n",
              "      <td>[0.525088 0 0 0 0 0 9.94829 0 0 0 0 0 1.01264 ...</td>\n",
              "      <td>[7 5 8 7 5 8 5 4 6 7 4 7 11 5 9 11 5 9 17 11 1...</td>\n",
              "    </tr>\n",
              "    <tr>\n",
              "      <th>2</th>\n",
              "      <td>36</td>\n",
              "      <td>Height: 32 Width: 32</td>\n",
              "      <td>cat</td>\n",
              "      <td>[0.566016 0 0 0 0 0 9.9972 0 0 0 1.38345 0 0.7...</td>\n",
              "      <td>[169 122 65 131 108 75 193 196 192 218 221 222...</td>\n",
              "    </tr>\n",
              "    <tr>\n",
              "      <th>3</th>\n",
              "      <td>70</td>\n",
              "      <td>Height: 32 Width: 32</td>\n",
              "      <td>dog</td>\n",
              "      <td>[1.1298 0 0 0.778194 0 0.758051 9.83053 0 0 0....</td>\n",
              "      <td>[154 179 152 159 183 157 165 189 162 174 199 1...</td>\n",
              "    </tr>\n",
              "    <tr>\n",
              "      <th>4</th>\n",
              "      <td>90</td>\n",
              "      <td>Height: 32 Width: 32</td>\n",
              "      <td>bird</td>\n",
              "      <td>[1.71787 0 0 0 0 0 9.33936 0 0 0 0 0 0.412137 ...</td>\n",
              "      <td>[216 195 180 201 178 160 210 184 164 212 188 1...</td>\n",
              "    </tr>\n",
              "  </tbody>\n",
              "</table>\n",
              "</div>"
            ],
            "text/plain": [
              "   id                 image label  \\\n",
              "0  24  Height: 32 Width: 32  bird   \n",
              "1  33  Height: 32 Width: 32   cat   \n",
              "2  36  Height: 32 Width: 32   cat   \n",
              "3  70  Height: 32 Width: 32   dog   \n",
              "4  90  Height: 32 Width: 32  bird   \n",
              "\n",
              "                                       deep_features  \\\n",
              "0  [0.242872 1.09545 0 0.39363 0 0 11.8949 0 0 0 ...   \n",
              "1  [0.525088 0 0 0 0 0 9.94829 0 0 0 0 0 1.01264 ...   \n",
              "2  [0.566016 0 0 0 0 0 9.9972 0 0 0 1.38345 0 0.7...   \n",
              "3  [1.1298 0 0 0.778194 0 0.758051 9.83053 0 0 0....   \n",
              "4  [1.71787 0 0 0 0 0 9.33936 0 0 0 0 0 0.412137 ...   \n",
              "\n",
              "                                         image_array  \n",
              "0  [73 77 58 71 68 50 77 69 44 120 116 83 125 120...  \n",
              "1  [7 5 8 7 5 8 5 4 6 7 4 7 11 5 9 11 5 9 17 11 1...  \n",
              "2  [169 122 65 131 108 75 193 196 192 218 221 222...  \n",
              "3  [154 179 152 159 183 157 165 189 162 174 199 1...  \n",
              "4  [216 195 180 201 178 160 210 184 164 212 188 1...  "
            ]
          },
          "execution_count": 2,
          "metadata": {},
          "output_type": "execute_result"
        }
      ],
      "source": [
        "# image_train_data.csv : https://1drv.ms/u/s!AibrDR5609kdj2XIpDzPklgt_l4M?e=aNi5In\n",
        "# image_test_data.csv: https://1drv.ms/u/s!AibrDR5609kdj2bvyGnMmQvKEpuX?e=BQ6faL\n",
        "image_train = pandas.read_csv('image_train_data.csv')\n",
        "#image_test = pandas.read_csv('image_test_data.csv')\n",
        "image_train.head()"
      ]
    },
    {
      "cell_type": "code",
      "execution_count": 3,
      "metadata": {
        "id": "oBva2XNwNWw6"
      },
      "outputs": [
        {
          "data": {
            "text/html": [
              "<div>\n",
              "<style scoped>\n",
              "    .dataframe tbody tr th:only-of-type {\n",
              "        vertical-align: middle;\n",
              "    }\n",
              "\n",
              "    .dataframe tbody tr th {\n",
              "        vertical-align: top;\n",
              "    }\n",
              "\n",
              "    .dataframe thead th {\n",
              "        text-align: right;\n",
              "    }\n",
              "</style>\n",
              "<table border=\"1\" class=\"dataframe\">\n",
              "  <thead>\n",
              "    <tr style=\"text-align: right;\">\n",
              "      <th></th>\n",
              "      <th>id</th>\n",
              "      <th>image</th>\n",
              "      <th>label</th>\n",
              "      <th>deep_features</th>\n",
              "      <th>image_array</th>\n",
              "      <th>deep_np</th>\n",
              "    </tr>\n",
              "  </thead>\n",
              "  <tbody>\n",
              "    <tr>\n",
              "      <th>0</th>\n",
              "      <td>24</td>\n",
              "      <td>Height: 32 Width: 32</td>\n",
              "      <td>bird</td>\n",
              "      <td>[0.242872 1.09545 0 0.39363 0 0 11.8949 0 0 0 ...</td>\n",
              "      <td>[73 77 58 71 68 50 77 69 44 120 116 83 125 120...</td>\n",
              "      <td>[0.2429, 1.096, 0.0, 0.3936, 0.0, 0.0, 11.9, 0...</td>\n",
              "    </tr>\n",
              "    <tr>\n",
              "      <th>1</th>\n",
              "      <td>33</td>\n",
              "      <td>Height: 32 Width: 32</td>\n",
              "      <td>cat</td>\n",
              "      <td>[0.525088 0 0 0 0 0 9.94829 0 0 0 0 0 1.01264 ...</td>\n",
              "      <td>[7 5 8 7 5 8 5 4 6 7 4 7 11 5 9 11 5 9 17 11 1...</td>\n",
              "      <td>[0.525, 0.0, 0.0, 0.0, 0.0, 0.0, 9.945, 0.0, 0...</td>\n",
              "    </tr>\n",
              "    <tr>\n",
              "      <th>2</th>\n",
              "      <td>36</td>\n",
              "      <td>Height: 32 Width: 32</td>\n",
              "      <td>cat</td>\n",
              "      <td>[0.566016 0 0 0 0 0 9.9972 0 0 0 1.38345 0 0.7...</td>\n",
              "      <td>[169 122 65 131 108 75 193 196 192 218 221 222...</td>\n",
              "      <td>[0.566, 0.0, 0.0, 0.0, 0.0, 0.0, 10.0, 0.0, 0....</td>\n",
              "    </tr>\n",
              "    <tr>\n",
              "      <th>3</th>\n",
              "      <td>70</td>\n",
              "      <td>Height: 32 Width: 32</td>\n",
              "      <td>dog</td>\n",
              "      <td>[1.1298 0 0 0.778194 0 0.758051 9.83053 0 0 0....</td>\n",
              "      <td>[154 179 152 159 183 157 165 189 162 174 199 1...</td>\n",
              "      <td>[1.13, 0.0, 0.0, 0.7783, 0.0, 0.758, 9.83, 0.0...</td>\n",
              "    </tr>\n",
              "    <tr>\n",
              "      <th>4</th>\n",
              "      <td>90</td>\n",
              "      <td>Height: 32 Width: 32</td>\n",
              "      <td>bird</td>\n",
              "      <td>[1.71787 0 0 0 0 0 9.33936 0 0 0 0 0 0.412137 ...</td>\n",
              "      <td>[216 195 180 201 178 160 210 184 164 212 188 1...</td>\n",
              "      <td>[1.718, 0.0, 0.0, 0.0, 0.0, 0.0, 9.336, 0.0, 0...</td>\n",
              "    </tr>\n",
              "  </tbody>\n",
              "</table>\n",
              "</div>"
            ],
            "text/plain": [
              "   id                 image label  \\\n",
              "0  24  Height: 32 Width: 32  bird   \n",
              "1  33  Height: 32 Width: 32   cat   \n",
              "2  36  Height: 32 Width: 32   cat   \n",
              "3  70  Height: 32 Width: 32   dog   \n",
              "4  90  Height: 32 Width: 32  bird   \n",
              "\n",
              "                                       deep_features  \\\n",
              "0  [0.242872 1.09545 0 0.39363 0 0 11.8949 0 0 0 ...   \n",
              "1  [0.525088 0 0 0 0 0 9.94829 0 0 0 0 0 1.01264 ...   \n",
              "2  [0.566016 0 0 0 0 0 9.9972 0 0 0 1.38345 0 0.7...   \n",
              "3  [1.1298 0 0 0.778194 0 0.758051 9.83053 0 0 0....   \n",
              "4  [1.71787 0 0 0 0 0 9.33936 0 0 0 0 0 0.412137 ...   \n",
              "\n",
              "                                         image_array  \\\n",
              "0  [73 77 58 71 68 50 77 69 44 120 116 83 125 120...   \n",
              "1  [7 5 8 7 5 8 5 4 6 7 4 7 11 5 9 11 5 9 17 11 1...   \n",
              "2  [169 122 65 131 108 75 193 196 192 218 221 222...   \n",
              "3  [154 179 152 159 183 157 165 189 162 174 199 1...   \n",
              "4  [216 195 180 201 178 160 210 184 164 212 188 1...   \n",
              "\n",
              "                                             deep_np  \n",
              "0  [0.2429, 1.096, 0.0, 0.3936, 0.0, 0.0, 11.9, 0...  \n",
              "1  [0.525, 0.0, 0.0, 0.0, 0.0, 0.0, 9.945, 0.0, 0...  \n",
              "2  [0.566, 0.0, 0.0, 0.0, 0.0, 0.0, 10.0, 0.0, 0....  \n",
              "3  [1.13, 0.0, 0.0, 0.7783, 0.0, 0.758, 9.83, 0.0...  \n",
              "4  [1.718, 0.0, 0.0, 0.0, 0.0, 0.0, 9.336, 0.0, 0...  "
            ]
          },
          "execution_count": 3,
          "metadata": {},
          "output_type": "execute_result"
        }
      ],
      "source": [
        "import itertools, io\n",
        "def convert_features(img):\n",
        "    stringbuf = io.StringIO(img[1:-1]) # remove '[' and ']'\n",
        "    array = np.loadtxt(stringbuf, dtype=np.float16)\n",
        "    stringbuf.close()\n",
        "    return array\n",
        "def variable_length_to_2d(series):\n",
        "    return np.array(list(itertools.zip_longest(*series.values, fillvalue=0))).T # Convert to 2D array\n",
        "image_train['deep_np'] = image_train['deep_features'].map(convert_features)\n",
        "train_data = variable_length_to_2d(image_train['deep_np'])\n",
        "image_train.head()"
      ]
    },
    {
      "cell_type": "code",
      "execution_count": 5,
      "metadata": {},
      "outputs": [
        {
          "data": {
            "text/plain": [
              "array([[0.2429 , 1.096  , 0.     , ..., 0.     , 0.     , 0.     ],\n",
              "       [0.525  , 0.     , 0.     , ..., 0.     , 0.     , 0.5083 ],\n",
              "       [0.566  , 0.     , 0.     , ..., 0.     , 0.     , 0.     ],\n",
              "       ...,\n",
              "       [0.558  , 0.     , 1.051  , ..., 0.03375, 0.     , 0.     ],\n",
              "       [0.675  , 0.     , 0.     , ..., 0.     , 0.     , 0.     ],\n",
              "       [1.075  , 0.     , 0.     , ..., 0.     , 0.     , 0.     ]],\n",
              "      dtype=float16)"
            ]
          },
          "execution_count": 5,
          "metadata": {},
          "output_type": "execute_result"
        }
      ],
      "source": [
        "train_data"
      ]
    },
    {
      "cell_type": "code",
      "execution_count": 6,
      "metadata": {
        "id": "EsonLe3ZNWw6"
      },
      "outputs": [
        {
          "data": {
            "text/html": [
              "<div>\n",
              "<style scoped>\n",
              "    .dataframe tbody tr th:only-of-type {\n",
              "        vertical-align: middle;\n",
              "    }\n",
              "\n",
              "    .dataframe tbody tr th {\n",
              "        vertical-align: top;\n",
              "    }\n",
              "\n",
              "    .dataframe thead th {\n",
              "        text-align: right;\n",
              "    }\n",
              "</style>\n",
              "<table border=\"1\" class=\"dataframe\">\n",
              "  <thead>\n",
              "    <tr style=\"text-align: right;\">\n",
              "      <th></th>\n",
              "      <th>id</th>\n",
              "      <th>image</th>\n",
              "      <th>label</th>\n",
              "      <th>deep_features</th>\n",
              "      <th>image_array</th>\n",
              "      <th>deep_np</th>\n",
              "      <th>image_np</th>\n",
              "    </tr>\n",
              "  </thead>\n",
              "  <tbody>\n",
              "    <tr>\n",
              "      <th>0</th>\n",
              "      <td>24</td>\n",
              "      <td>Height: 32 Width: 32</td>\n",
              "      <td>bird</td>\n",
              "      <td>[0.242872 1.09545 0 0.39363 0 0 11.8949 0 0 0 ...</td>\n",
              "      <td>[73 77 58 71 68 50 77 69 44 120 116 83 125 120...</td>\n",
              "      <td>[0.2429, 1.096, 0.0, 0.3936, 0.0, 0.0, 11.9, 0...</td>\n",
              "      <td>[73, 77, 58, 71, 68, 50, 77, 69, 44, 120, 116,...</td>\n",
              "    </tr>\n",
              "    <tr>\n",
              "      <th>1</th>\n",
              "      <td>33</td>\n",
              "      <td>Height: 32 Width: 32</td>\n",
              "      <td>cat</td>\n",
              "      <td>[0.525088 0 0 0 0 0 9.94829 0 0 0 0 0 1.01264 ...</td>\n",
              "      <td>[7 5 8 7 5 8 5 4 6 7 4 7 11 5 9 11 5 9 17 11 1...</td>\n",
              "      <td>[0.525, 0.0, 0.0, 0.0, 0.0, 0.0, 9.945, 0.0, 0...</td>\n",
              "      <td>[7, 5, 8, 7, 5, 8, 5, 4, 6, 7, 4, 7, 11, 5, 9,...</td>\n",
              "    </tr>\n",
              "    <tr>\n",
              "      <th>2</th>\n",
              "      <td>36</td>\n",
              "      <td>Height: 32 Width: 32</td>\n",
              "      <td>cat</td>\n",
              "      <td>[0.566016 0 0 0 0 0 9.9972 0 0 0 1.38345 0 0.7...</td>\n",
              "      <td>[169 122 65 131 108 75 193 196 192 218 221 222...</td>\n",
              "      <td>[0.566, 0.0, 0.0, 0.0, 0.0, 0.0, 10.0, 0.0, 0....</td>\n",
              "      <td>[169, 122, 65, 131, 108, 75, 193, 196, 192, 21...</td>\n",
              "    </tr>\n",
              "    <tr>\n",
              "      <th>3</th>\n",
              "      <td>70</td>\n",
              "      <td>Height: 32 Width: 32</td>\n",
              "      <td>dog</td>\n",
              "      <td>[1.1298 0 0 0.778194 0 0.758051 9.83053 0 0 0....</td>\n",
              "      <td>[154 179 152 159 183 157 165 189 162 174 199 1...</td>\n",
              "      <td>[1.13, 0.0, 0.0, 0.7783, 0.0, 0.758, 9.83, 0.0...</td>\n",
              "      <td>[154, 179, 152, 159, 183, 157, 165, 189, 162, ...</td>\n",
              "    </tr>\n",
              "    <tr>\n",
              "      <th>4</th>\n",
              "      <td>90</td>\n",
              "      <td>Height: 32 Width: 32</td>\n",
              "      <td>bird</td>\n",
              "      <td>[1.71787 0 0 0 0 0 9.33936 0 0 0 0 0 0.412137 ...</td>\n",
              "      <td>[216 195 180 201 178 160 210 184 164 212 188 1...</td>\n",
              "      <td>[1.718, 0.0, 0.0, 0.0, 0.0, 0.0, 9.336, 0.0, 0...</td>\n",
              "      <td>[216, 195, 180, 201, 178, 160, 210, 184, 164, ...</td>\n",
              "    </tr>\n",
              "  </tbody>\n",
              "</table>\n",
              "</div>"
            ],
            "text/plain": [
              "   id                 image label  \\\n",
              "0  24  Height: 32 Width: 32  bird   \n",
              "1  33  Height: 32 Width: 32   cat   \n",
              "2  36  Height: 32 Width: 32   cat   \n",
              "3  70  Height: 32 Width: 32   dog   \n",
              "4  90  Height: 32 Width: 32  bird   \n",
              "\n",
              "                                       deep_features  \\\n",
              "0  [0.242872 1.09545 0 0.39363 0 0 11.8949 0 0 0 ...   \n",
              "1  [0.525088 0 0 0 0 0 9.94829 0 0 0 0 0 1.01264 ...   \n",
              "2  [0.566016 0 0 0 0 0 9.9972 0 0 0 1.38345 0 0.7...   \n",
              "3  [1.1298 0 0 0.778194 0 0.758051 9.83053 0 0 0....   \n",
              "4  [1.71787 0 0 0 0 0 9.33936 0 0 0 0 0 0.412137 ...   \n",
              "\n",
              "                                         image_array  \\\n",
              "0  [73 77 58 71 68 50 77 69 44 120 116 83 125 120...   \n",
              "1  [7 5 8 7 5 8 5 4 6 7 4 7 11 5 9 11 5 9 17 11 1...   \n",
              "2  [169 122 65 131 108 75 193 196 192 218 221 222...   \n",
              "3  [154 179 152 159 183 157 165 189 162 174 199 1...   \n",
              "4  [216 195 180 201 178 160 210 184 164 212 188 1...   \n",
              "\n",
              "                                             deep_np  \\\n",
              "0  [0.2429, 1.096, 0.0, 0.3936, 0.0, 0.0, 11.9, 0...   \n",
              "1  [0.525, 0.0, 0.0, 0.0, 0.0, 0.0, 9.945, 0.0, 0...   \n",
              "2  [0.566, 0.0, 0.0, 0.0, 0.0, 0.0, 10.0, 0.0, 0....   \n",
              "3  [1.13, 0.0, 0.0, 0.7783, 0.0, 0.758, 9.83, 0.0...   \n",
              "4  [1.718, 0.0, 0.0, 0.0, 0.0, 0.0, 9.336, 0.0, 0...   \n",
              "\n",
              "                                            image_np  \n",
              "0  [73, 77, 58, 71, 68, 50, 77, 69, 44, 120, 116,...  \n",
              "1  [7, 5, 8, 7, 5, 8, 5, 4, 6, 7, 4, 7, 11, 5, 9,...  \n",
              "2  [169, 122, 65, 131, 108, 75, 193, 196, 192, 21...  \n",
              "3  [154, 179, 152, 159, 183, 157, 165, 189, 162, ...  \n",
              "4  [216, 195, 180, 201, 178, 160, 210, 184, 164, ...  "
            ]
          },
          "execution_count": 6,
          "metadata": {},
          "output_type": "execute_result"
        }
      ],
      "source": [
        "def convert_img(img): \n",
        "    stringbuf = io.StringIO(img[1:-1]) # remove '[' and ']'\n",
        "    array = np.loadtxt(stringbuf, dtype=np.uint8)\n",
        "    stringbuf.close()\n",
        "    return array\n",
        "image_train['image_np'] = image_train['image_array'].map(convert_img)\n",
        "image_train.head()"
      ]
    },
    {
      "cell_type": "markdown",
      "metadata": {
        "id": "344Yxg8PNWw6"
      },
      "source": [
        "# Tính deep feature cho các hình ảnh\n",
        "\n",
        "2 dòng dưới đây cho phép tính các deep feature. Việc tính toán này sẽ tốn một chút thời gian nên chúng tôi đã tính và lưu kết quả như ở cột trong dữ liệu mà bạn load.\n",
        "\n",
        "(Lưu ý: nếu bạn muốn tính các deep feature như vậy và có GPU trên máy, bạn nên dùng GPU cho phép Graphlab Create, sẽ giúp tác vụ này nhanh hơn đáng kể)."
      ]
    },
    {
      "cell_type": "code",
      "execution_count": null,
      "metadata": {
        "id": "v614myHvNWw7"
      },
      "outputs": [],
      "source": [
        "#deep_learning_model = graphlab.load_model('http://s3.amazonaws.com/GraphLab-Datasets/deeplearning/imagenet_model_iter45')\n",
        "#image_train['deep_features'] = deep_learning_model.extract_features(image_train)"
      ]
    },
    {
      "cell_type": "code",
      "execution_count": 7,
      "metadata": {
        "id": "jIgEHjU3NWw7",
        "outputId": "c1457c2a-64a1-4382-a083-1a9439eee769"
      },
      "outputs": [
        {
          "data": {
            "text/html": [
              "<div>\n",
              "<style scoped>\n",
              "    .dataframe tbody tr th:only-of-type {\n",
              "        vertical-align: middle;\n",
              "    }\n",
              "\n",
              "    .dataframe tbody tr th {\n",
              "        vertical-align: top;\n",
              "    }\n",
              "\n",
              "    .dataframe thead th {\n",
              "        text-align: right;\n",
              "    }\n",
              "</style>\n",
              "<table border=\"1\" class=\"dataframe\">\n",
              "  <thead>\n",
              "    <tr style=\"text-align: right;\">\n",
              "      <th></th>\n",
              "      <th>id</th>\n",
              "      <th>image</th>\n",
              "      <th>label</th>\n",
              "      <th>deep_features</th>\n",
              "      <th>image_array</th>\n",
              "      <th>deep_np</th>\n",
              "      <th>image_np</th>\n",
              "    </tr>\n",
              "  </thead>\n",
              "  <tbody>\n",
              "    <tr>\n",
              "      <th>0</th>\n",
              "      <td>24</td>\n",
              "      <td>Height: 32 Width: 32</td>\n",
              "      <td>bird</td>\n",
              "      <td>[0.242872 1.09545 0 0.39363 0 0 11.8949 0 0 0 ...</td>\n",
              "      <td>[73 77 58 71 68 50 77 69 44 120 116 83 125 120...</td>\n",
              "      <td>[0.2429, 1.096, 0.0, 0.3936, 0.0, 0.0, 11.9, 0...</td>\n",
              "      <td>[73, 77, 58, 71, 68, 50, 77, 69, 44, 120, 116,...</td>\n",
              "    </tr>\n",
              "    <tr>\n",
              "      <th>1</th>\n",
              "      <td>33</td>\n",
              "      <td>Height: 32 Width: 32</td>\n",
              "      <td>cat</td>\n",
              "      <td>[0.525088 0 0 0 0 0 9.94829 0 0 0 0 0 1.01264 ...</td>\n",
              "      <td>[7 5 8 7 5 8 5 4 6 7 4 7 11 5 9 11 5 9 17 11 1...</td>\n",
              "      <td>[0.525, 0.0, 0.0, 0.0, 0.0, 0.0, 9.945, 0.0, 0...</td>\n",
              "      <td>[7, 5, 8, 7, 5, 8, 5, 4, 6, 7, 4, 7, 11, 5, 9,...</td>\n",
              "    </tr>\n",
              "    <tr>\n",
              "      <th>2</th>\n",
              "      <td>36</td>\n",
              "      <td>Height: 32 Width: 32</td>\n",
              "      <td>cat</td>\n",
              "      <td>[0.566016 0 0 0 0 0 9.9972 0 0 0 1.38345 0 0.7...</td>\n",
              "      <td>[169 122 65 131 108 75 193 196 192 218 221 222...</td>\n",
              "      <td>[0.566, 0.0, 0.0, 0.0, 0.0, 0.0, 10.0, 0.0, 0....</td>\n",
              "      <td>[169, 122, 65, 131, 108, 75, 193, 196, 192, 21...</td>\n",
              "    </tr>\n",
              "    <tr>\n",
              "      <th>3</th>\n",
              "      <td>70</td>\n",
              "      <td>Height: 32 Width: 32</td>\n",
              "      <td>dog</td>\n",
              "      <td>[1.1298 0 0 0.778194 0 0.758051 9.83053 0 0 0....</td>\n",
              "      <td>[154 179 152 159 183 157 165 189 162 174 199 1...</td>\n",
              "      <td>[1.13, 0.0, 0.0, 0.7783, 0.0, 0.758, 9.83, 0.0...</td>\n",
              "      <td>[154, 179, 152, 159, 183, 157, 165, 189, 162, ...</td>\n",
              "    </tr>\n",
              "    <tr>\n",
              "      <th>4</th>\n",
              "      <td>90</td>\n",
              "      <td>Height: 32 Width: 32</td>\n",
              "      <td>bird</td>\n",
              "      <td>[1.71787 0 0 0 0 0 9.33936 0 0 0 0 0 0.412137 ...</td>\n",
              "      <td>[216 195 180 201 178 160 210 184 164 212 188 1...</td>\n",
              "      <td>[1.718, 0.0, 0.0, 0.0, 0.0, 0.0, 9.336, 0.0, 0...</td>\n",
              "      <td>[216, 195, 180, 201, 178, 160, 210, 184, 164, ...</td>\n",
              "    </tr>\n",
              "  </tbody>\n",
              "</table>\n",
              "</div>"
            ],
            "text/plain": [
              "   id                 image label  \\\n",
              "0  24  Height: 32 Width: 32  bird   \n",
              "1  33  Height: 32 Width: 32   cat   \n",
              "2  36  Height: 32 Width: 32   cat   \n",
              "3  70  Height: 32 Width: 32   dog   \n",
              "4  90  Height: 32 Width: 32  bird   \n",
              "\n",
              "                                       deep_features  \\\n",
              "0  [0.242872 1.09545 0 0.39363 0 0 11.8949 0 0 0 ...   \n",
              "1  [0.525088 0 0 0 0 0 9.94829 0 0 0 0 0 1.01264 ...   \n",
              "2  [0.566016 0 0 0 0 0 9.9972 0 0 0 1.38345 0 0.7...   \n",
              "3  [1.1298 0 0 0.778194 0 0.758051 9.83053 0 0 0....   \n",
              "4  [1.71787 0 0 0 0 0 9.33936 0 0 0 0 0 0.412137 ...   \n",
              "\n",
              "                                         image_array  \\\n",
              "0  [73 77 58 71 68 50 77 69 44 120 116 83 125 120...   \n",
              "1  [7 5 8 7 5 8 5 4 6 7 4 7 11 5 9 11 5 9 17 11 1...   \n",
              "2  [169 122 65 131 108 75 193 196 192 218 221 222...   \n",
              "3  [154 179 152 159 183 157 165 189 162 174 199 1...   \n",
              "4  [216 195 180 201 178 160 210 184 164 212 188 1...   \n",
              "\n",
              "                                             deep_np  \\\n",
              "0  [0.2429, 1.096, 0.0, 0.3936, 0.0, 0.0, 11.9, 0...   \n",
              "1  [0.525, 0.0, 0.0, 0.0, 0.0, 0.0, 9.945, 0.0, 0...   \n",
              "2  [0.566, 0.0, 0.0, 0.0, 0.0, 0.0, 10.0, 0.0, 0....   \n",
              "3  [1.13, 0.0, 0.0, 0.7783, 0.0, 0.758, 9.83, 0.0...   \n",
              "4  [1.718, 0.0, 0.0, 0.0, 0.0, 0.0, 9.336, 0.0, 0...   \n",
              "\n",
              "                                            image_np  \n",
              "0  [73, 77, 58, 71, 68, 50, 77, 69, 44, 120, 116,...  \n",
              "1  [7, 5, 8, 7, 5, 8, 5, 4, 6, 7, 4, 7, 11, 5, 9,...  \n",
              "2  [169, 122, 65, 131, 108, 75, 193, 196, 192, 21...  \n",
              "3  [154, 179, 152, 159, 183, 157, 165, 189, 162, ...  \n",
              "4  [216, 195, 180, 201, 178, 160, 210, 184, 164, ...  "
            ]
          },
          "execution_count": 7,
          "metadata": {},
          "output_type": "execute_result"
        }
      ],
      "source": [
        "image_train.head()"
      ]
    },
    {
      "cell_type": "markdown",
      "metadata": {
        "id": "qyKjUpMeNWw8"
      },
      "source": [
        "# Huấn luyện mô hình nearest-neighbor cho việc truy xuất hình ảnh sử dụng các deep feature\n",
        "\n",
        "Giờ chúng ta sẽ xây dựng một hệ thống truy xuất hình ảnh đơn giản giúp tìm nearest neighbor cho bất kỳ hình nào.\n",
        "\n"
      ]
    },
    {
      "cell_type": "code",
      "execution_count": 8,
      "metadata": {
        "id": "Oh4oAERANWw8",
        "outputId": "df0ced0a-da35-4e19-d905-52fbc08a4483"
      },
      "outputs": [
        {
          "data": {
            "text/plain": [
              "NearestNeighbors()"
            ]
          },
          "execution_count": 8,
          "metadata": {},
          "output_type": "execute_result"
        }
      ],
      "source": [
        "#knn_model = graphlab.nearest_neighbors.create(image_train,features=['deep_features'],\n",
        "#                                             label='id')\n",
        "from sklearn.neighbors import NearestNeighbors\n",
        "knn_model = NearestNeighbors()\n",
        "knn_model.fit(train_data)"
      ]
    },
    {
      "cell_type": "markdown",
      "metadata": {
        "id": "sfifxqYUNWw8"
      },
      "source": [
        "# Sử dụng mô hình truy xuất hình ảnh với các deep feature để tìm các hình tương tự\n",
        "\n",
        "Hãy tìm các hình ảnh tương tự với bức ảnh con mèo này."
      ]
    },
    {
      "cell_type": "code",
      "execution_count": 9,
      "metadata": {
        "id": "N5d0HU-hNWw8"
      },
      "outputs": [],
      "source": [
        "import matplotlib.pyplot as plt\n",
        "%matplotlib inline\n",
        "def show_image(image_data, dimension=(32, 32, 3)):\n",
        "    image = np.reshape(image_data, dimension)\n",
        "    plt.axis('off')\n",
        "    plt.imshow(image)       \n",
        "    \n",
        "def show_images(images, cols=3):\n",
        "    rows = len(images) // cols + ( 0 if len(images) % cols == 0 else 1)\n",
        "    fig = plt.figure(figsize=(cols, rows))\n",
        "    for i, img_data in enumerate(images):\n",
        "        #i_row, i_col = i % cols, i // cols\n",
        "        fig.add_subplot(rows, cols, i+1)\n",
        "        show_image(img_data)"
      ]
    },
    {
      "cell_type": "code",
      "execution_count": 10,
      "metadata": {
        "id": "mnD_xPiWNWw9",
        "outputId": "d148ada7-cba0-4baa-f17f-8cf60aa6d22c"
      },
      "outputs": [
        {
          "data": {
            "image/png": "[encoded data removed]",
            "text/plain": [
              "<Figure size 432x288 with 1 Axes>"
            ]
          },
          "metadata": {
            "needs_background": "light"
          },
          "output_type": "display_data"
        }
      ],
      "source": [
        "#graphlab.canvas.set_target('ipynb')\n",
        "cat = image_train[18:19] # cat image data frame \n",
        "#print(cat['image_np'].values)\n",
        "show_image(cat['image_np'].values[0])"
      ]
    },
    {
      "cell_type": "code",
      "execution_count": 11,
      "metadata": {
        "id": "qqoHC2HKNWw9"
      },
      "outputs": [],
      "source": [
        "# we want 5 closest, so 6 and remove itself\n",
        "cat_neighbors = knn_model.kneighbors(variable_length_to_2d(cat['deep_np']), n_neighbors=6)[1][0][1:]"
      ]
    },
    {
      "cell_type": "markdown",
      "metadata": {
        "id": "4qRd13A9NWw9"
      },
      "source": [
        "Chúng ta sẽ tạo một hàm đơn giản để xem các nearest neighbor và lưu những thứ đã nhập:"
      ]
    },
    {
      "cell_type": "code",
      "execution_count": 12,
      "metadata": {
        "id": "R_bJLcfxNWw9"
      },
      "outputs": [],
      "source": [
        "def get_data_from_ids(query_result):\n",
        "    return image_train.iloc[query_result]\n",
        "    #return image_train.filter_by(query_result['reference_label'],'id')"
      ]
    },
    {
      "cell_type": "code",
      "execution_count": 13,
      "metadata": {
        "id": "cJPK1FdjNWw-",
        "outputId": "59608b6c-3a14-4818-9f4b-2f2998941249"
      },
      "outputs": [
        {
          "data": {
            "text/html": [
              "<div>\n",
              "<style scoped>\n",
              "    .dataframe tbody tr th:only-of-type {\n",
              "        vertical-align: middle;\n",
              "    }\n",
              "\n",
              "    .dataframe tbody tr th {\n",
              "        vertical-align: top;\n",
              "    }\n",
              "\n",
              "    .dataframe thead th {\n",
              "        text-align: right;\n",
              "    }\n",
              "</style>\n",
              "<table border=\"1\" class=\"dataframe\">\n",
              "  <thead>\n",
              "    <tr style=\"text-align: right;\">\n",
              "      <th></th>\n",
              "      <th>id</th>\n",
              "      <th>image</th>\n",
              "      <th>label</th>\n",
              "      <th>deep_features</th>\n",
              "      <th>image_array</th>\n",
              "      <th>deep_np</th>\n",
              "      <th>image_np</th>\n",
              "    </tr>\n",
              "  </thead>\n",
              "  <tbody>\n",
              "    <tr>\n",
              "      <th>288</th>\n",
              "      <td>6910</td>\n",
              "      <td>Height: 32 Width: 32</td>\n",
              "      <td>cat</td>\n",
              "      <td>[1.55475 0 0 0 0 0 10.1923 0 0 0 0 0 0.793507 ...</td>\n",
              "      <td>[154 133 92 134 112 75 108 87 53 98 78 45 104 ...</td>\n",
              "      <td>[1.555, 0.0, 0.0, 0.0, 0.0, 0.0, 10.195, 0.0, ...</td>\n",
              "      <td>[154, 133, 92, 134, 112, 75, 108, 87, 53, 98, ...</td>\n",
              "    </tr>\n",
              "    <tr>\n",
              "      <th>1565</th>\n",
              "      <td>39777</td>\n",
              "      <td>Height: 32 Width: 32</td>\n",
              "      <td>cat</td>\n",
              "      <td>[0 0 0 0 0 0 9.42072 0 0 0 0 0 1.15609 0 0 0.9...</td>\n",
              "      <td>[145 166 165 164 185 184 185 206 205 198 218 2...</td>\n",
              "      <td>[0.0, 0.0, 0.0, 0.0, 0.0, 0.0, 9.42, 0.0, 0.0,...</td>\n",
              "      <td>[145, 166, 165, 164, 185, 184, 185, 206, 205, ...</td>\n",
              "    </tr>\n",
              "    <tr>\n",
              "      <th>1468</th>\n",
              "      <td>36870</td>\n",
              "      <td>Height: 32 Width: 32</td>\n",
              "      <td>cat</td>\n",
              "      <td>[0.240483 0 0 0 0 0 9.52754 0 0 0 0 0 1.56046 ...</td>\n",
              "      <td>[16 20 19 14 19 17 11 15 14 9 15 13 14 21 20 2...</td>\n",
              "      <td>[0.2405, 0.0, 0.0, 0.0, 0.0, 0.0, 9.53, 0.0, 0...</td>\n",
              "      <td>[16, 20, 19, 14, 19, 17, 11, 15, 14, 9, 15, 13...</td>\n",
              "    </tr>\n",
              "    <tr>\n",
              "      <th>1633</th>\n",
              "      <td>41734</td>\n",
              "      <td>Height: 32 Width: 32</td>\n",
              "      <td>cat</td>\n",
              "      <td>[0 0 0 0 0 0 11.6715 0 0 0 0 0 1.82079 0 0 0.5...</td>\n",
              "      <td>[122 27 34 120 24 31 119 21 29 120 19 28 121 1...</td>\n",
              "      <td>[0.0, 0.0, 0.0, 0.0, 0.0, 0.0, 11.67, 0.0, 0.0...</td>\n",
              "      <td>[122, 27, 34, 120, 24, 31, 119, 21, 29, 120, 1...</td>\n",
              "    </tr>\n",
              "    <tr>\n",
              "      <th>207</th>\n",
              "      <td>5147</td>\n",
              "      <td>Height: 32 Width: 32</td>\n",
              "      <td>cat</td>\n",
              "      <td>[0 0 0.507177 0.97065 0 0 8.91446 0 0 0 0 0 1....</td>\n",
              "      <td>[167 164 153 75 63 45 84 69 49 88 76 57 90 75 ...</td>\n",
              "      <td>[0.0, 0.0, 0.5073, 0.9707, 0.0, 0.0, 8.914, 0....</td>\n",
              "      <td>[167, 164, 153, 75, 63, 45, 84, 69, 49, 88, 76...</td>\n",
              "    </tr>\n",
              "  </tbody>\n",
              "</table>\n",
              "</div>"
            ],
            "text/plain": [
              "         id                 image label  \\\n",
              "288    6910  Height: 32 Width: 32   cat   \n",
              "1565  39777  Height: 32 Width: 32   cat   \n",
              "1468  36870  Height: 32 Width: 32   cat   \n",
              "1633  41734  Height: 32 Width: 32   cat   \n",
              "207    5147  Height: 32 Width: 32   cat   \n",
              "\n",
              "                                          deep_features  \\\n",
              "288   [1.55475 0 0 0 0 0 10.1923 0 0 0 0 0 0.793507 ...   \n",
              "1565  [0 0 0 0 0 0 9.42072 0 0 0 0 0 1.15609 0 0 0.9...   \n",
              "1468  [0.240483 0 0 0 0 0 9.52754 0 0 0 0 0 1.56046 ...   \n",
              "1633  [0 0 0 0 0 0 11.6715 0 0 0 0 0 1.82079 0 0 0.5...   \n",
              "207   [0 0 0.507177 0.97065 0 0 8.91446 0 0 0 0 0 1....   \n",
              "\n",
              "                                            image_array  \\\n",
              "288   [154 133 92 134 112 75 108 87 53 98 78 45 104 ...   \n",
              "1565  [145 166 165 164 185 184 185 206 205 198 218 2...   \n",
              "1468  [16 20 19 14 19 17 11 15 14 9 15 13 14 21 20 2...   \n",
              "1633  [122 27 34 120 24 31 119 21 29 120 19 28 121 1...   \n",
              "207   [167 164 153 75 63 45 84 69 49 88 76 57 90 75 ...   \n",
              "\n",
              "                                                deep_np  \\\n",
              "288   [1.555, 0.0, 0.0, 0.0, 0.0, 0.0, 10.195, 0.0, ...   \n",
              "1565  [0.0, 0.0, 0.0, 0.0, 0.0, 0.0, 9.42, 0.0, 0.0,...   \n",
              "1468  [0.2405, 0.0, 0.0, 0.0, 0.0, 0.0, 9.53, 0.0, 0...   \n",
              "1633  [0.0, 0.0, 0.0, 0.0, 0.0, 0.0, 11.67, 0.0, 0.0...   \n",
              "207   [0.0, 0.0, 0.5073, 0.9707, 0.0, 0.0, 8.914, 0....   \n",
              "\n",
              "                                               image_np  \n",
              "288   [154, 133, 92, 134, 112, 75, 108, 87, 53, 98, ...  \n",
              "1565  [145, 166, 165, 164, 185, 184, 185, 206, 205, ...  \n",
              "1468  [16, 20, 19, 14, 19, 17, 11, 15, 14, 9, 15, 13...  \n",
              "1633  [122, 27, 34, 120, 24, 31, 119, 21, 29, 120, 1...  \n",
              "207   [167, 164, 153, 75, 63, 45, 84, 69, 49, 88, 76...  "
            ]
          },
          "execution_count": 13,
          "metadata": {},
          "output_type": "execute_result"
        }
      ],
      "source": [
        "cat_neighbors_queried = get_data_from_ids(cat_neighbors)\n",
        "cat_neighbors_queried"
      ]
    },
    {
      "cell_type": "code",
      "execution_count": 14,
      "metadata": {
        "id": "9ZSss_tpNWw-",
        "outputId": "82050eef-b7b9-4e5f-c02e-b79b986e6270"
      },
      "outputs": [
        {
          "data": {
            "image/png": "[encoded data removed]",
            "text/plain": [
              "<Figure size 216x144 with 5 Axes>"
            ]
          },
          "metadata": {
            "needs_background": "light"
          },
          "output_type": "display_data"
        }
      ],
      "source": [
        "#cat_neighbors_queried['image']\n",
        "show_images(cat_neighbors_queried['image_np'].values)"
      ]
    },
    {
      "cell_type": "markdown",
      "metadata": {
        "id": "Lpr_GWv9NWw_"
      },
      "source": [
        "Các kết quả tuyệt vời cho ra các chú mèo tương tự.\n",
        "\n",
        "## Tìm hình ảnh ô tô tương tự"
      ]
    },
    {
      "cell_type": "code",
      "execution_count": 15,
      "metadata": {
        "id": "yOB9c0DGNWw_",
        "outputId": "3a76adcc-01b2-4bea-b58e-957a1db9e343"
      },
      "outputs": [
        {
          "data": {
            "image/png": "[encoded data removed]",
            "text/plain": [
              "<Figure size 432x288 with 1 Axes>"
            ]
          },
          "metadata": {
            "needs_background": "light"
          },
          "output_type": "display_data"
        }
      ],
      "source": [
        "car = image_train[8:9]\n",
        "show_image(car['image_np'].values[0])"
      ]
    },
    {
      "cell_type": "code",
      "execution_count": 16,
      "metadata": {
        "id": "17H51tqwNWw_",
        "outputId": "c62bc718-1a0a-4d3b-98f9-9aa0c3cd853d"
      },
      "outputs": [
        {
          "data": {
            "text/html": [
              "<div>\n",
              "<style scoped>\n",
              "    .dataframe tbody tr th:only-of-type {\n",
              "        vertical-align: middle;\n",
              "    }\n",
              "\n",
              "    .dataframe tbody tr th {\n",
              "        vertical-align: top;\n",
              "    }\n",
              "\n",
              "    .dataframe thead th {\n",
              "        text-align: right;\n",
              "    }\n",
              "</style>\n",
              "<table border=\"1\" class=\"dataframe\">\n",
              "  <thead>\n",
              "    <tr style=\"text-align: right;\">\n",
              "      <th></th>\n",
              "      <th>id</th>\n",
              "      <th>image</th>\n",
              "      <th>label</th>\n",
              "      <th>deep_features</th>\n",
              "      <th>image_array</th>\n",
              "      <th>deep_np</th>\n",
              "      <th>image_np</th>\n",
              "    </tr>\n",
              "  </thead>\n",
              "  <tbody>\n",
              "    <tr>\n",
              "      <th>372</th>\n",
              "      <td>8977</td>\n",
              "      <td>Height: 32 Width: 32</td>\n",
              "      <td>automobile</td>\n",
              "      <td>[0 0 0 0.136156 0 0 6.81498 0 0 0 0 0 0.437228...</td>\n",
              "      <td>[186 195 199 182 192 198 184 196 203 178 190 1...</td>\n",
              "      <td>[0.0, 0.0, 0.0, 0.1361, 0.0, 0.0, 6.816, 0.0, ...</td>\n",
              "      <td>[186, 195, 199, 182, 192, 198, 184, 196, 203, ...</td>\n",
              "    </tr>\n",
              "    <tr>\n",
              "      <th>1757</th>\n",
              "      <td>44395</td>\n",
              "      <td>Height: 32 Width: 32</td>\n",
              "      <td>automobile</td>\n",
              "      <td>[0 0 0 1.34758 0 0 7.38394 0 0 0 0 0 0.860271 ...</td>\n",
              "      <td>[89 95 50 83 84 43 69 70 42 64 69 39 55 63 29 ...</td>\n",
              "      <td>[0.0, 0.0, 0.0, 1.348, 0.0, 0.0, 7.383, 0.0, 0...</td>\n",
              "      <td>[89, 95, 50, 83, 84, 43, 69, 70, 42, 64, 69, 3...</td>\n",
              "    </tr>\n",
              "    <tr>\n",
              "      <th>1343</th>\n",
              "      <td>33261</td>\n",
              "      <td>Height: 32 Width: 32</td>\n",
              "      <td>automobile</td>\n",
              "      <td>[0 0 0 0 0 0.157148 6.90395 0 0 0 1.25121 0 0....</td>\n",
              "      <td>[110 118 104 98 104 80 92 100 68 95 110 60 112...</td>\n",
              "      <td>[0.0, 0.0, 0.0, 0.0, 0.0, 0.1571, 6.902, 0.0, ...</td>\n",
              "      <td>[110, 118, 104, 98, 104, 80, 92, 100, 68, 95, ...</td>\n",
              "    </tr>\n",
              "    <tr>\n",
              "      <th>1009</th>\n",
              "      <td>24146</td>\n",
              "      <td>Height: 32 Width: 32</td>\n",
              "      <td>automobile</td>\n",
              "      <td>[0 0 0 0 0 0 9.21664 0 0 0 0 0 0.291935 0 0 0....</td>\n",
              "      <td>[229 231 227 232 235 231 231 235 230 233 237 2...</td>\n",
              "      <td>[0.0, 0.0, 0.0, 0.0, 0.0, 0.0, 9.22, 0.0, 0.0,...</td>\n",
              "      <td>[229, 231, 227, 232, 235, 231, 231, 235, 230, ...</td>\n",
              "    </tr>\n",
              "    <tr>\n",
              "      <th>1840</th>\n",
              "      <td>46240</td>\n",
              "      <td>Height: 32 Width: 32</td>\n",
              "      <td>automobile</td>\n",
              "      <td>[0 0.643995 0 0 0 0 6.92689 0 0 0 2.34283 0 1....</td>\n",
              "      <td>[161 186 232 155 174 211 142 165 206 153 179 2...</td>\n",
              "      <td>[0.0, 0.644, 0.0, 0.0, 0.0, 0.0, 6.926, 0.0, 0...</td>\n",
              "      <td>[161, 186, 232, 155, 174, 211, 142, 165, 206, ...</td>\n",
              "    </tr>\n",
              "  </tbody>\n",
              "</table>\n",
              "</div>"
            ],
            "text/plain": [
              "         id                 image       label  \\\n",
              "372    8977  Height: 32 Width: 32  automobile   \n",
              "1757  44395  Height: 32 Width: 32  automobile   \n",
              "1343  33261  Height: 32 Width: 32  automobile   \n",
              "1009  24146  Height: 32 Width: 32  automobile   \n",
              "1840  46240  Height: 32 Width: 32  automobile   \n",
              "\n",
              "                                          deep_features  \\\n",
              "372   [0 0 0 0.136156 0 0 6.81498 0 0 0 0 0 0.437228...   \n",
              "1757  [0 0 0 1.34758 0 0 7.38394 0 0 0 0 0 0.860271 ...   \n",
              "1343  [0 0 0 0 0 0.157148 6.90395 0 0 0 1.25121 0 0....   \n",
              "1009  [0 0 0 0 0 0 9.21664 0 0 0 0 0 0.291935 0 0 0....   \n",
              "1840  [0 0.643995 0 0 0 0 6.92689 0 0 0 2.34283 0 1....   \n",
              "\n",
              "                                            image_array  \\\n",
              "372   [186 195 199 182 192 198 184 196 203 178 190 1...   \n",
              "1757  [89 95 50 83 84 43 69 70 42 64 69 39 55 63 29 ...   \n",
              "1343  [110 118 104 98 104 80 92 100 68 95 110 60 112...   \n",
              "1009  [229 231 227 232 235 231 231 235 230 233 237 2...   \n",
              "1840  [161 186 232 155 174 211 142 165 206 153 179 2...   \n",
              "\n",
              "                                                deep_np  \\\n",
              "372   [0.0, 0.0, 0.0, 0.1361, 0.0, 0.0, 6.816, 0.0, ...   \n",
              "1757  [0.0, 0.0, 0.0, 1.348, 0.0, 0.0, 7.383, 0.0, 0...   \n",
              "1343  [0.0, 0.0, 0.0, 0.0, 0.0, 0.1571, 6.902, 0.0, ...   \n",
              "1009  [0.0, 0.0, 0.0, 0.0, 0.0, 0.0, 9.22, 0.0, 0.0,...   \n",
              "1840  [0.0, 0.644, 0.0, 0.0, 0.0, 0.0, 6.926, 0.0, 0...   \n",
              "\n",
              "                                               image_np  \n",
              "372   [186, 195, 199, 182, 192, 198, 184, 196, 203, ...  \n",
              "1757  [89, 95, 50, 83, 84, 43, 69, 70, 42, 64, 69, 3...  \n",
              "1343  [110, 118, 104, 98, 104, 80, 92, 100, 68, 95, ...  \n",
              "1009  [229, 231, 227, 232, 235, 231, 231, 235, 230, ...  \n",
              "1840  [161, 186, 232, 155, 174, 211, 142, 165, 206, ...  "
            ]
          },
          "execution_count": 16,
          "metadata": {},
          "output_type": "execute_result"
        }
      ],
      "source": [
        "car_neighbors = knn_model.kneighbors(variable_length_to_2d(car['deep_np']), n_neighbors=6)[1][0][1:]\n",
        "#get_images_from_ids(car_neighbors)['image'].show()\n",
        "get_data_from_ids(car_neighbors)"
      ]
    },
    {
      "cell_type": "markdown",
      "metadata": {
        "id": "lWfXeJ1XNWw_"
      },
      "source": [
        "#Đùa chút thôi, hãy tạo một lambda để tìm và chỉ ra các hình tương tự nhất"
      ]
    },
    {
      "cell_type": "code",
      "execution_count": 17,
      "metadata": {
        "id": "ElD_WXR_NWxA"
      },
      "outputs": [],
      "source": [
        "def show_neighbors(idx, n_neighbors=5):\n",
        "    neighbors = knn_model.kneighbors(train_data[idx:idx+1], n_neighbors=n_neighbors+1)[1][0][1:]\n",
        "    neighbors_queried = get_data_from_ids(neighbors)\n",
        "    return neighbors_queried"
      ]
    },
    {
      "cell_type": "code",
      "execution_count": 18,
      "metadata": {
        "id": "aXi-5uhCNWxA",
        "outputId": "cafdd1da-e98d-47dc-9a84-315d451da0d7"
      },
      "outputs": [
        {
          "data": {
            "text/html": [
              "<div>\n",
              "<style scoped>\n",
              "    .dataframe tbody tr th:only-of-type {\n",
              "        vertical-align: middle;\n",
              "    }\n",
              "\n",
              "    .dataframe tbody tr th {\n",
              "        vertical-align: top;\n",
              "    }\n",
              "\n",
              "    .dataframe thead th {\n",
              "        text-align: right;\n",
              "    }\n",
              "</style>\n",
              "<table border=\"1\" class=\"dataframe\">\n",
              "  <thead>\n",
              "    <tr style=\"text-align: right;\">\n",
              "      <th></th>\n",
              "      <th>id</th>\n",
              "      <th>image</th>\n",
              "      <th>label</th>\n",
              "      <th>deep_features</th>\n",
              "      <th>image_array</th>\n",
              "      <th>deep_np</th>\n",
              "      <th>image_np</th>\n",
              "    </tr>\n",
              "  </thead>\n",
              "  <tbody>\n",
              "    <tr>\n",
              "      <th>372</th>\n",
              "      <td>8977</td>\n",
              "      <td>Height: 32 Width: 32</td>\n",
              "      <td>automobile</td>\n",
              "      <td>[0 0 0 0.136156 0 0 6.81498 0 0 0 0 0 0.437228...</td>\n",
              "      <td>[186 195 199 182 192 198 184 196 203 178 190 1...</td>\n",
              "      <td>[0.0, 0.0, 0.0, 0.1361, 0.0, 0.0, 6.816, 0.0, ...</td>\n",
              "      <td>[186, 195, 199, 182, 192, 198, 184, 196, 203, ...</td>\n",
              "    </tr>\n",
              "    <tr>\n",
              "      <th>1757</th>\n",
              "      <td>44395</td>\n",
              "      <td>Height: 32 Width: 32</td>\n",
              "      <td>automobile</td>\n",
              "      <td>[0 0 0 1.34758 0 0 7.38394 0 0 0 0 0 0.860271 ...</td>\n",
              "      <td>[89 95 50 83 84 43 69 70 42 64 69 39 55 63 29 ...</td>\n",
              "      <td>[0.0, 0.0, 0.0, 1.348, 0.0, 0.0, 7.383, 0.0, 0...</td>\n",
              "      <td>[89, 95, 50, 83, 84, 43, 69, 70, 42, 64, 69, 3...</td>\n",
              "    </tr>\n",
              "    <tr>\n",
              "      <th>1343</th>\n",
              "      <td>33261</td>\n",
              "      <td>Height: 32 Width: 32</td>\n",
              "      <td>automobile</td>\n",
              "      <td>[0 0 0 0 0 0.157148 6.90395 0 0 0 1.25121 0 0....</td>\n",
              "      <td>[110 118 104 98 104 80 92 100 68 95 110 60 112...</td>\n",
              "      <td>[0.0, 0.0, 0.0, 0.0, 0.0, 0.1571, 6.902, 0.0, ...</td>\n",
              "      <td>[110, 118, 104, 98, 104, 80, 92, 100, 68, 95, ...</td>\n",
              "    </tr>\n",
              "    <tr>\n",
              "      <th>1009</th>\n",
              "      <td>24146</td>\n",
              "      <td>Height: 32 Width: 32</td>\n",
              "      <td>automobile</td>\n",
              "      <td>[0 0 0 0 0 0 9.21664 0 0 0 0 0 0.291935 0 0 0....</td>\n",
              "      <td>[229 231 227 232 235 231 231 235 230 233 237 2...</td>\n",
              "      <td>[0.0, 0.0, 0.0, 0.0, 0.0, 0.0, 9.22, 0.0, 0.0,...</td>\n",
              "      <td>[229, 231, 227, 232, 235, 231, 231, 235, 230, ...</td>\n",
              "    </tr>\n",
              "    <tr>\n",
              "      <th>1840</th>\n",
              "      <td>46240</td>\n",
              "      <td>Height: 32 Width: 32</td>\n",
              "      <td>automobile</td>\n",
              "      <td>[0 0.643995 0 0 0 0 6.92689 0 0 0 2.34283 0 1....</td>\n",
              "      <td>[161 186 232 155 174 211 142 165 206 153 179 2...</td>\n",
              "      <td>[0.0, 0.644, 0.0, 0.0, 0.0, 0.0, 6.926, 0.0, 0...</td>\n",
              "      <td>[161, 186, 232, 155, 174, 211, 142, 165, 206, ...</td>\n",
              "    </tr>\n",
              "  </tbody>\n",
              "</table>\n",
              "</div>"
            ],
            "text/plain": [
              "         id                 image       label  \\\n",
              "372    8977  Height: 32 Width: 32  automobile   \n",
              "1757  44395  Height: 32 Width: 32  automobile   \n",
              "1343  33261  Height: 32 Width: 32  automobile   \n",
              "1009  24146  Height: 32 Width: 32  automobile   \n",
              "1840  46240  Height: 32 Width: 32  automobile   \n",
              "\n",
              "                                          deep_features  \\\n",
              "372   [0 0 0 0.136156 0 0 6.81498 0 0 0 0 0 0.437228...   \n",
              "1757  [0 0 0 1.34758 0 0 7.38394 0 0 0 0 0 0.860271 ...   \n",
              "1343  [0 0 0 0 0 0.157148 6.90395 0 0 0 1.25121 0 0....   \n",
              "1009  [0 0 0 0 0 0 9.21664 0 0 0 0 0 0.291935 0 0 0....   \n",
              "1840  [0 0.643995 0 0 0 0 6.92689 0 0 0 2.34283 0 1....   \n",
              "\n",
              "                                            image_array  \\\n",
              "372   [186 195 199 182 192 198 184 196 203 178 190 1...   \n",
              "1757  [89 95 50 83 84 43 69 70 42 64 69 39 55 63 29 ...   \n",
              "1343  [110 118 104 98 104 80 92 100 68 95 110 60 112...   \n",
              "1009  [229 231 227 232 235 231 231 235 230 233 237 2...   \n",
              "1840  [161 186 232 155 174 211 142 165 206 153 179 2...   \n",
              "\n",
              "                                                deep_np  \\\n",
              "372   [0.0, 0.0, 0.0, 0.1361, 0.0, 0.0, 6.816, 0.0, ...   \n",
              "1757  [0.0, 0.0, 0.0, 1.348, 0.0, 0.0, 7.383, 0.0, 0...   \n",
              "1343  [0.0, 0.0, 0.0, 0.0, 0.0, 0.1571, 6.902, 0.0, ...   \n",
              "1009  [0.0, 0.0, 0.0, 0.0, 0.0, 0.0, 9.22, 0.0, 0.0,...   \n",
              "1840  [0.0, 0.644, 0.0, 0.0, 0.0, 0.0, 6.926, 0.0, 0...   \n",
              "\n",
              "                                               image_np  \n",
              "372   [186, 195, 199, 182, 192, 198, 184, 196, 203, ...  \n",
              "1757  [89, 95, 50, 83, 84, 43, 69, 70, 42, 64, 69, 3...  \n",
              "1343  [110, 118, 104, 98, 104, 80, 92, 100, 68, 95, ...  \n",
              "1009  [229, 231, 227, 232, 235, 231, 231, 235, 230, ...  \n",
              "1840  [161, 186, 232, 155, 174, 211, 142, 165, 206, ...  "
            ]
          },
          "execution_count": 18,
          "metadata": {},
          "output_type": "execute_result"
        }
      ],
      "source": [
        "test_8 = show_neighbors(8)\n",
        "test_8"
      ]
    },
    {
      "cell_type": "code",
      "execution_count": null,
      "metadata": {
        "id": "sZcMg6BBNWxA",
        "outputId": "c77181c2-603a-4347-b2be-baac956ae8bc"
      },
      "outputs": [
        {
          "data": {
            "image/png": "[encoded data removed]",
            "text/plain": [
              "<Figure size 216x144 with 5 Axes>"
            ]
          },
          "metadata": {
            "needs_background": "light",
            "tags": []
          },
          "output_type": "display_data"
        }
      ],
      "source": [
        "show_images(test_8['image_np'].values)"
      ]
    },
    {
      "cell_type": "code",
      "execution_count": 19,
      "metadata": {
        "id": "h6_RMHnTNWxA",
        "outputId": "3c63a057-6654-4137-b3dc-1fe21c9c500d"
      },
      "outputs": [
        {
          "data": {
            "text/html": [
              "<div>\n",
              "<style scoped>\n",
              "    .dataframe tbody tr th:only-of-type {\n",
              "        vertical-align: middle;\n",
              "    }\n",
              "\n",
              "    .dataframe tbody tr th {\n",
              "        vertical-align: top;\n",
              "    }\n",
              "\n",
              "    .dataframe thead th {\n",
              "        text-align: right;\n",
              "    }\n",
              "</style>\n",
              "<table border=\"1\" class=\"dataframe\">\n",
              "  <thead>\n",
              "    <tr style=\"text-align: right;\">\n",
              "      <th></th>\n",
              "      <th>id</th>\n",
              "      <th>image</th>\n",
              "      <th>label</th>\n",
              "      <th>deep_features</th>\n",
              "      <th>image_array</th>\n",
              "      <th>deep_np</th>\n",
              "      <th>image_np</th>\n",
              "    </tr>\n",
              "  </thead>\n",
              "  <tbody>\n",
              "    <tr>\n",
              "      <th>457</th>\n",
              "      <td>11000</td>\n",
              "      <td>Height: 32 Width: 32</td>\n",
              "      <td>automobile</td>\n",
              "      <td>[0 0.26031 0 0 0 0.23388 10.0011 0 0 0 0.18946...</td>\n",
              "      <td>[255 255 255 219 222 229 167 171 185 170 174 1...</td>\n",
              "      <td>[0.0, 0.2603, 0.0, 0.0, 0.0, 0.2339, 10.0, 0.0...</td>\n",
              "      <td>[255, 255, 255, 219, 222, 229, 167, 171, 185, ...</td>\n",
              "    </tr>\n",
              "    <tr>\n",
              "      <th>377</th>\n",
              "      <td>9118</td>\n",
              "      <td>Height: 32 Width: 32</td>\n",
              "      <td>automobile</td>\n",
              "      <td>[0.914692 0 0 0 0 0 9.96389 0 0 0 0.127803 0 2...</td>\n",
              "      <td>[107 117 133 98 107 114 113 121 120 124 128 12...</td>\n",
              "      <td>[0.9146, 0.0, 0.0, 0.0, 0.0, 0.0, 9.96, 0.0, 0...</td>\n",
              "      <td>[107, 117, 133, 98, 107, 114, 113, 121, 120, 1...</td>\n",
              "    </tr>\n",
              "    <tr>\n",
              "      <th>1576</th>\n",
              "      <td>40118</td>\n",
              "      <td>Height: 32 Width: 32</td>\n",
              "      <td>automobile</td>\n",
              "      <td>[0.3851 0.0709699 0 0 0 0 8.91591 0 0 0 0 0 0....</td>\n",
              "      <td>[157 145 124 154 143 121 163 147 123 163 144 1...</td>\n",
              "      <td>[0.385, 0.071, 0.0, 0.0, 0.0, 0.0, 8.914, 0.0,...</td>\n",
              "      <td>[157, 145, 124, 154, 143, 121, 163, 147, 123, ...</td>\n",
              "    </tr>\n",
              "    <tr>\n",
              "      <th>1280</th>\n",
              "      <td>31776</td>\n",
              "      <td>Height: 32 Width: 32</td>\n",
              "      <td>automobile</td>\n",
              "      <td>[0.767597 0.517459 0 0 0 0 9.75294 0 0 0 0.525...</td>\n",
              "      <td>[139 149 118 140 148 119 156 166 128 113 119 9...</td>\n",
              "      <td>[0.7676, 0.5176, 0.0, 0.0, 0.0, 0.0, 9.75, 0.0...</td>\n",
              "      <td>[139, 149, 118, 140, 148, 119, 156, 166, 128, ...</td>\n",
              "    </tr>\n",
              "    <tr>\n",
              "      <th>990</th>\n",
              "      <td>23662</td>\n",
              "      <td>Height: 32 Width: 32</td>\n",
              "      <td>automobile</td>\n",
              "      <td>[0.104303 0 0 0 0 0.804265 9.38957 0 0 0 0.052...</td>\n",
              "      <td>[176 175 172 174 174 169 179 179 175 165 166 1...</td>\n",
              "      <td>[0.1043, 0.0, 0.0, 0.0, 0.0, 0.804, 9.39, 0.0,...</td>\n",
              "      <td>[176, 175, 172, 174, 174, 169, 179, 179, 175, ...</td>\n",
              "    </tr>\n",
              "  </tbody>\n",
              "</table>\n",
              "</div>"
            ],
            "text/plain": [
              "         id                 image       label  \\\n",
              "457   11000  Height: 32 Width: 32  automobile   \n",
              "377    9118  Height: 32 Width: 32  automobile   \n",
              "1576  40118  Height: 32 Width: 32  automobile   \n",
              "1280  31776  Height: 32 Width: 32  automobile   \n",
              "990   23662  Height: 32 Width: 32  automobile   \n",
              "\n",
              "                                          deep_features  \\\n",
              "457   [0 0.26031 0 0 0 0.23388 10.0011 0 0 0 0.18946...   \n",
              "377   [0.914692 0 0 0 0 0 9.96389 0 0 0 0.127803 0 2...   \n",
              "1576  [0.3851 0.0709699 0 0 0 0 8.91591 0 0 0 0 0 0....   \n",
              "1280  [0.767597 0.517459 0 0 0 0 9.75294 0 0 0 0.525...   \n",
              "990   [0.104303 0 0 0 0 0.804265 9.38957 0 0 0 0.052...   \n",
              "\n",
              "                                            image_array  \\\n",
              "457   [255 255 255 219 222 229 167 171 185 170 174 1...   \n",
              "377   [107 117 133 98 107 114 113 121 120 124 128 12...   \n",
              "1576  [157 145 124 154 143 121 163 147 123 163 144 1...   \n",
              "1280  [139 149 118 140 148 119 156 166 128 113 119 9...   \n",
              "990   [176 175 172 174 174 169 179 179 175 165 166 1...   \n",
              "\n",
              "                                                deep_np  \\\n",
              "457   [0.0, 0.2603, 0.0, 0.0, 0.0, 0.2339, 10.0, 0.0...   \n",
              "377   [0.9146, 0.0, 0.0, 0.0, 0.0, 0.0, 9.96, 0.0, 0...   \n",
              "1576  [0.385, 0.071, 0.0, 0.0, 0.0, 0.0, 8.914, 0.0,...   \n",
              "1280  [0.7676, 0.5176, 0.0, 0.0, 0.0, 0.0, 9.75, 0.0...   \n",
              "990   [0.1043, 0.0, 0.0, 0.0, 0.0, 0.804, 9.39, 0.0,...   \n",
              "\n",
              "                                               image_np  \n",
              "457   [255, 255, 255, 219, 222, 229, 167, 171, 185, ...  \n",
              "377   [107, 117, 133, 98, 107, 114, 113, 121, 120, 1...  \n",
              "1576  [157, 145, 124, 154, 143, 121, 163, 147, 123, ...  \n",
              "1280  [139, 149, 118, 140, 148, 119, 156, 166, 128, ...  \n",
              "990   [176, 175, 172, 174, 174, 169, 179, 179, 175, ...  "
            ]
          },
          "execution_count": 19,
          "metadata": {},
          "output_type": "execute_result"
        }
      ],
      "source": [
        "test_26 = show_neighbors(26)\n",
        "test_26"
      ]
    },
    {
      "cell_type": "code",
      "execution_count": 20,
      "metadata": {
        "id": "DUh-CBhtNWxA",
        "outputId": "bf4d2f28-b991-4cfd-a28a-057205906b2e"
      },
      "outputs": [
        {
          "data": {
            "image/png": "[encoded data removed]",
            "text/plain": [
              "<Figure size 216x144 with 5 Axes>"
            ]
          },
          "metadata": {
            "needs_background": "light"
          },
          "output_type": "display_data"
        }
      ],
      "source": [
        "show_images(test_26['image_np'].values)"
      ]
    },
    {
      "cell_type": "code",
      "execution_count": null,
      "metadata": {
        "id": "s9ddlDHxNWxB"
      },
      "outputs": [],
      "source": []
    }
  ],
  "metadata": {
    "colab": {
      "collapsed_sections": [],
      "name": "[VN] Lab 14.1-Deep Features for Image Retrieval.ipynb",
      "provenance": [],
      "toc_visible": true
    },
    "kernelspec": {
      "display_name": "Python 3",
      "language": "python",
      "name": "python3"
    },
    "language_info": {
      "codemirror_mode": {
        "name": "ipython",
        "version": 3
      },
      "file_extension": ".py",
      "mimetype": "text/x-python",
      "name": "python",
      "nbconvert_exporter": "python",
      "pygments_lexer": "ipython3",
      "version": "3.9.10"
    }
  },
  "nbformat": 4,
  "nbformat_minor": 0
}
