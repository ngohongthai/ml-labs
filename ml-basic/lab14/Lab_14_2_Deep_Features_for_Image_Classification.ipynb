{
  "cells": [
    {
      "cell_type": "markdown",
      "metadata": {
        "id": "5JISVQ4vNVzi"
      },
      "source": [
        "# Sử dụng deep feature để xây dựng một bộ phân loại hình ảnh"
      ]
    },
    {
      "cell_type": "code",
      "execution_count": 1,
      "metadata": {
        "id": "N-q-U7aDNVzl"
      },
      "outputs": [],
      "source": [
        "import sklearn, pandas\n",
        "import numpy as np"
      ]
    },
    {
      "cell_type": "markdown",
      "metadata": {
        "id": "X00mFFxMNVzl"
      },
      "source": [
        "# Load tập dữ liệu phân tích hình ảnh phổ biến\n",
        "\n",
        "Chúng ta sẽ sử dụng một tập dữ liệu đánh giá xếp hạng phổ biến là CIFAR-10.\n",
        "\n",
        "(Chúng tôi đã giảm dữ liệu xuống còn 4 hạng mục = {'cat','bird','automobile','dog'}.)\n",
        "\n",
        "Tập dữ liệu này đã được chia thành training set và test set. "
      ]
    },
    {
      "cell_type": "code",
      "execution_count": 2,
      "metadata": {
        "id": "NebK-BVqNVzm"
      },
      "outputs": [],
      "source": [
        "# image_train_data.csv: https://1drv.ms/u/s!AibrDR5609kdj2XIpDzPklgt_l4M?e=aNi5In\n",
        "# image_test_data.csv: https://1drv.ms/u/s!AibrDR5609kdj2bvyGnMmQvKEpuX?e=BQ6faL\n",
        "image_train = pandas.read_csv('image_train_data.csv')\n",
        "image_test = pandas.read_csv('image_test_data.csv')"
      ]
    },
    {
      "cell_type": "markdown",
      "metadata": {
        "id": "kmpm6SdbNVzm"
      },
      "source": [
        "# Khám phá dữ liệu hình ảnh"
      ]
    },
    {
      "cell_type": "code",
      "execution_count": 4,
      "metadata": {
        "id": "7gmzyh1sNVzm"
      },
      "outputs": [],
      "source": [
        "#graphlab.canvas.set_target('ipynb')\n",
        "import matplotlib.pyplot as plt\n",
        "%matplotlib inline\n",
        "def show_image(image_data, dimension=(32, 32, 3)):\n",
        "    image = np.reshape(image_data, dimension)\n",
        "    plt.axis('off')\n",
        "    plt.imshow(image)       \n",
        "    \n",
        "def show_images(images, cols=3):\n",
        "    rows = len(images) // cols + ( 0 if len(images) % cols == 0 else 1)\n",
        "    fig = plt.figure(figsize=(cols, rows))\n",
        "    for i, img_data in enumerate(images):\n",
        "        #i_row, i_col = i % cols, i // cols\n",
        "        fig.add_subplot(rows, cols, i+1)\n",
        "        show_image(img_data)"
      ]
    },
    {
      "cell_type": "code",
      "execution_count": 5,
      "metadata": {
        "id": "rTlFMTssNVzm",
        "outputId": "e83d1032-8529-4bb9-960b-d5115ba6f310"
      },
      "outputs": [
        {
          "name": "stdout",
          "output_type": "stream",
          "text": [
            "(3072,) (3072,)\n"
          ]
        }
      ],
      "source": [
        "#[it for it in image_train['image_array'][:10].values]\n",
        "import itertools, io\n",
        "def convert_img(img): \n",
        "    stringbuf = io.StringIO(img[1:-1])\n",
        "    array = np.loadtxt(stringbuf, dtype=np.uint8)\n",
        "    stringbuf.close()\n",
        "    #print(np.shape(array))\n",
        "    return array\n",
        "def variable_length_to_2d(series):\n",
        "    return np.array(list(itertools.zip_longest(*series.values, fillvalue=0))).T\n",
        "image_train['image_np'] = image_train['image_array'].map(convert_img)\n",
        "image_test['image_np'] = image_test['image_array'].map(convert_img)\n",
        "#image_train['image_np'] = image_np.tolist()\n",
        "print(np.shape(image_train['image_np'][0]), np.shape(image_test['image_np'][0]))"
      ]
    },
    {
      "cell_type": "markdown",
      "metadata": {
        "id": "Y85IcN5VNVzn"
      },
      "source": [
        "# Huấn luyện một bộ phân loại trên các điểm ảnh thô (raw image pixel)\n",
        "\n",
        "Trước tiên chúng ta sẽ bắt đầu bằng việc huấn luyện một bộ phân loại chỉ dựa trên các điểm ảnh thô."
      ]
    },
    {
      "cell_type": "code",
      "execution_count": null,
      "metadata": {
        "id": "TRSURqCgNVzo",
        "outputId": "6e3df394-54ea-47a7-b0a2-0423f27dfbef"
      },
      "outputs": [
        {
          "name": "stdout",
          "output_type": "stream",
          "text": [
            "bird\n"
          ]
        },
        {
          "data": {
            "image/png": "[encoded data removed]",
            "text/plain": [
              "<Figure size 432x288 with 1 Axes>"
            ]
          },
          "metadata": {
            "needs_background": "light",
            "tags": []
          },
          "output_type": "display_data"
        }
      ],
      "source": [
        "show_image(image_train['image_np'].values[0])\n",
        "print(image_train['label'][0])"
      ]
    },
    {
      "cell_type": "code",
      "execution_count": 6,
      "metadata": {
        "id": "dvJX8peCNVzo",
        "outputId": "748e4dab-35dc-4364-d857-6f389ea2dde6"
      },
      "outputs": [
        {
          "name": "stdout",
          "output_type": "stream",
          "text": [
            "(2005, 3072) (2005,)\n"
          ]
        },
        {
          "name": "stderr",
          "output_type": "stream",
          "text": [
            "/Users/ngohongthai/miniforge3/lib/python3.9/site-packages/sklearn/linear_model/_logistic.py:814: ConvergenceWarning: lbfgs failed to converge (status=1):\n",
            "STOP: TOTAL NO. of ITERATIONS REACHED LIMIT.\n",
            "\n",
            "Increase the number of iterations (max_iter) or scale the data as shown in:\n",
            "    https://scikit-learn.org/stable/modules/preprocessing.html\n",
            "Please also refer to the documentation for alternative solver options:\n",
            "    https://scikit-learn.org/stable/modules/linear_model.html#logistic-regression\n",
            "  n_iter_i = _check_optimize_result(\n"
          ]
        },
        {
          "data": {
            "text/plain": [
              "LogisticRegression()"
            ]
          },
          "execution_count": 6,
          "metadata": {},
          "output_type": "execute_result"
        }
      ],
      "source": [
        "#raw_pixel_model = graphlab.logistic_classifier.create(image_train,target='label',\n",
        "#                                              features=['image_array'])\n",
        "from sklearn.linear_model import LogisticRegression\n",
        "from sklearn.preprocessing import LabelEncoder\n",
        "\n",
        "raw_pixel_model = LogisticRegression()\n",
        "label_encoder = LabelEncoder()\n",
        "\n",
        "train_labels = label_encoder.fit_transform(image_train['label'])\n",
        "train_data = variable_length_to_2d(image_train['image_np'])\n",
        "print(np.shape(train_data), np.shape(train_labels))\n",
        "raw_pixel_model.fit(train_data, train_labels)"
      ]
    },
    {
      "cell_type": "markdown",
      "metadata": {
        "id": "wqRINNxkNVzo"
      },
      "source": [
        "# Đưa ra dự đoán với mô hình đơn giản dựa trên các điểm ảnh thô"
      ]
    },
    {
      "cell_type": "code",
      "execution_count": 7,
      "metadata": {
        "id": "isRS3jj8NVzp",
        "outputId": "fe45fba0-3bf7-4277-a598-1756df392e60"
      },
      "outputs": [
        {
          "data": {
            "image/png": "[encoded data removed]",
            "text/plain": [
              "<Figure size 216x72 with 3 Axes>"
            ]
          },
          "metadata": {
            "needs_background": "light"
          },
          "output_type": "display_data"
        }
      ],
      "source": [
        "show_images(image_test[0:3]['image_np'].values)"
      ]
    },
    {
      "cell_type": "code",
      "execution_count": 8,
      "metadata": {
        "id": "vXCIW0rvNVzp",
        "outputId": "ae2d9aea-cd6e-414c-e2bb-fa6b21fcfa1f"
      },
      "outputs": [
        {
          "data": {
            "text/plain": [
              "0           cat\n",
              "1    automobile\n",
              "2           cat\n",
              "Name: label, dtype: object"
            ]
          },
          "execution_count": 8,
          "metadata": {},
          "output_type": "execute_result"
        }
      ],
      "source": [
        "image_test[0:3]['label']"
      ]
    },
    {
      "cell_type": "code",
      "execution_count": 9,
      "metadata": {
        "id": "9nq5nz8pNVzp",
        "outputId": "5c1cbeb8-85ab-4bc6-d985-f9d3a2f6b30c"
      },
      "outputs": [
        {
          "data": {
            "text/plain": [
              "array(['bird', 'dog', 'dog'], dtype=object)"
            ]
          },
          "execution_count": 9,
          "metadata": {},
          "output_type": "execute_result"
        }
      ],
      "source": [
        "test_data = variable_length_to_2d(image_test['image_np'])\n",
        "# force the test_data to the features size of train_data\n",
        "#features_size = np.shape(train_data)[1]\n",
        "#test_size = np.shape(test_data)[1]\n",
        "#test_data = np.pad(test_data, ((0, 0), (0, features_size-test_size)), mode='constant', constant_values=0)[:, :features_size]\n",
        "test_preds = raw_pixel_model.predict(test_data[0:3])\n",
        "label_encoder.inverse_transform(test_preds)"
      ]
    },
    {
      "cell_type": "markdown",
      "metadata": {
        "id": "6LliSSy8NVzq"
      },
      "source": [
        "Mô hình đưa ra các dự đoán sai cho cả 3 hình."
      ]
    },
    {
      "cell_type": "markdown",
      "metadata": {
        "id": "mMd76L8YNVzq"
      },
      "source": [
        "# Đánh giá mô hình điểm ảnh thô trên dữ liệu kiểm tra"
      ]
    },
    {
      "cell_type": "code",
      "execution_count": 10,
      "metadata": {
        "id": "phirGVDYNVzq",
        "outputId": "57d0ee94-9bf1-44a8-c8e4-add0e1766f7f"
      },
      "outputs": [
        {
          "name": "stdout",
          "output_type": "stream",
          "text": [
            "['automobile' 'bird' 'cat' 'dog']\n",
            "[[629 131 104 136]\n",
            " [104 492 180 224]\n",
            " [127 216 341 316]\n",
            " [ 86 255 264 395]]\n",
            "0.46425\n"
          ]
        }
      ],
      "source": [
        "#raw_pixel_model.evaluate(image_test)\n",
        "from sklearn.metrics import confusion_matrix, precision_score\n",
        "test_preds = raw_pixel_model.predict(test_data)\n",
        "test_labels = label_encoder.transform(image_test['label'])\n",
        "print(label_encoder.classes_)\n",
        "print(confusion_matrix(test_labels, test_preds))\n",
        "print(precision_score(test_labels, test_preds, average=\"micro\"))"
      ]
    },
    {
      "cell_type": "markdown",
      "metadata": {
        "id": "RA0FXQcNNVzq"
      },
      "source": [
        "Độ chính xác của mô hình này khá thấp, chỉ khoảng 46%."
      ]
    },
    {
      "cell_type": "markdown",
      "metadata": {
        "id": "0QIam_BQNVzq"
      },
      "source": [
        "# Cải thiện mô hình với các deep feature\n",
        "\n",
        "Chúng ta chỉ có 2005 điểm dữ liệu nên không thể huấn luyện một mạng nơ-ron sâu hiệu quả với ít dữ liệu. Thay vào đó, hãy sử dụng transfer learning (học truyền tải): bằng cách dùng các deep feature đã huấn luyện trong tập dữ liệu ImageNet đầy đủ, chúng ta có thể huấn luyện một mô hình đơn giản trên tập dữ liệu nhỏ này."
      ]
    },
    {
      "cell_type": "code",
      "execution_count": 11,
      "metadata": {
        "id": "DBkuIrxzNVzr",
        "outputId": "d8e5b923-3615-4022-92a4-bb55f44e7e87"
      },
      "outputs": [
        {
          "data": {
            "text/plain": [
              "2005"
            ]
          },
          "execution_count": 11,
          "metadata": {},
          "output_type": "execute_result"
        }
      ],
      "source": [
        "len(image_train)"
      ]
    },
    {
      "cell_type": "markdown",
      "metadata": {
        "id": "pjq36EOwNVzr"
      },
      "source": [
        "## Tính các deep feature cho hình ảnh\n",
        "\n",
        "2 dòng dưới đây cho phép tính các deep feature. Việc tính toán này sẽ tốn một chút thời gian nên chúng tôi đã tính và lưu kết quả như ở cột trong dữ liệu mà bạn load.\n",
        "\n",
        "(Lưu ý: nếu bạn muốn tính các deep feature như vậy và có GPU trên máy, bạn nên dùng GPU cho phép Graphlab Create, sẽ giúp tác vụ này nhanh hơn đáng kể)."
      ]
    },
    {
      "cell_type": "code",
      "execution_count": 12,
      "metadata": {
        "id": "Bzou40d-NVzr"
      },
      "outputs": [],
      "source": [
        "#deep_learning_model = graphlab.load_model('http://s3.amazonaws.com/GraphLab-Datasets/deeplearning/imagenet_model_iter45')\n",
        "#image_train['deep_features'] = deep_learning_model.extract_features(image_train)"
      ]
    },
    {
      "cell_type": "markdown",
      "metadata": {
        "id": "mbXqKxA1NVzr"
      },
      "source": [
        "Như bạn thấy, cột deep_features chứa các deep feature đã tính trước cho dữ liệu này."
      ]
    },
    {
      "cell_type": "code",
      "execution_count": 13,
      "metadata": {
        "id": "EhzeueIRNVzs",
        "outputId": "60edb047-f6a5-4a92-cb8f-159f76b6101d"
      },
      "outputs": [
        {
          "data": {
            "text/html": [
              "<div>\n",
              "<style scoped>\n",
              "    .dataframe tbody tr th:only-of-type {\n",
              "        vertical-align: middle;\n",
              "    }\n",
              "\n",
              "    .dataframe tbody tr th {\n",
              "        vertical-align: top;\n",
              "    }\n",
              "\n",
              "    .dataframe thead th {\n",
              "        text-align: right;\n",
              "    }\n",
              "</style>\n",
              "<table border=\"1\" class=\"dataframe\">\n",
              "  <thead>\n",
              "    <tr style=\"text-align: right;\">\n",
              "      <th></th>\n",
              "      <th>id</th>\n",
              "      <th>image</th>\n",
              "      <th>label</th>\n",
              "      <th>deep_features</th>\n",
              "      <th>image_array</th>\n",
              "      <th>image_np</th>\n",
              "    </tr>\n",
              "  </thead>\n",
              "  <tbody>\n",
              "    <tr>\n",
              "      <th>0</th>\n",
              "      <td>24</td>\n",
              "      <td>Height: 32 Width: 32</td>\n",
              "      <td>bird</td>\n",
              "      <td>[0.242872 1.09545 0 0.39363 0 0 11.8949 0 0 0 ...</td>\n",
              "      <td>[73 77 58 71 68 50 77 69 44 120 116 83 125 120...</td>\n",
              "      <td>[73, 77, 58, 71, 68, 50, 77, 69, 44, 120, 116,...</td>\n",
              "    </tr>\n",
              "    <tr>\n",
              "      <th>1</th>\n",
              "      <td>33</td>\n",
              "      <td>Height: 32 Width: 32</td>\n",
              "      <td>cat</td>\n",
              "      <td>[0.525088 0 0 0 0 0 9.94829 0 0 0 0 0 1.01264 ...</td>\n",
              "      <td>[7 5 8 7 5 8 5 4 6 7 4 7 11 5 9 11 5 9 17 11 1...</td>\n",
              "      <td>[7, 5, 8, 7, 5, 8, 5, 4, 6, 7, 4, 7, 11, 5, 9,...</td>\n",
              "    </tr>\n",
              "    <tr>\n",
              "      <th>2</th>\n",
              "      <td>36</td>\n",
              "      <td>Height: 32 Width: 32</td>\n",
              "      <td>cat</td>\n",
              "      <td>[0.566016 0 0 0 0 0 9.9972 0 0 0 1.38345 0 0.7...</td>\n",
              "      <td>[169 122 65 131 108 75 193 196 192 218 221 222...</td>\n",
              "      <td>[169, 122, 65, 131, 108, 75, 193, 196, 192, 21...</td>\n",
              "    </tr>\n",
              "    <tr>\n",
              "      <th>3</th>\n",
              "      <td>70</td>\n",
              "      <td>Height: 32 Width: 32</td>\n",
              "      <td>dog</td>\n",
              "      <td>[1.1298 0 0 0.778194 0 0.758051 9.83053 0 0 0....</td>\n",
              "      <td>[154 179 152 159 183 157 165 189 162 174 199 1...</td>\n",
              "      <td>[154, 179, 152, 159, 183, 157, 165, 189, 162, ...</td>\n",
              "    </tr>\n",
              "    <tr>\n",
              "      <th>4</th>\n",
              "      <td>90</td>\n",
              "      <td>Height: 32 Width: 32</td>\n",
              "      <td>bird</td>\n",
              "      <td>[1.71787 0 0 0 0 0 9.33936 0 0 0 0 0 0.412137 ...</td>\n",
              "      <td>[216 195 180 201 178 160 210 184 164 212 188 1...</td>\n",
              "      <td>[216, 195, 180, 201, 178, 160, 210, 184, 164, ...</td>\n",
              "    </tr>\n",
              "  </tbody>\n",
              "</table>\n",
              "</div>"
            ],
            "text/plain": [
              "   id                 image label  \\\n",
              "0  24  Height: 32 Width: 32  bird   \n",
              "1  33  Height: 32 Width: 32   cat   \n",
              "2  36  Height: 32 Width: 32   cat   \n",
              "3  70  Height: 32 Width: 32   dog   \n",
              "4  90  Height: 32 Width: 32  bird   \n",
              "\n",
              "                                       deep_features  \\\n",
              "0  [0.242872 1.09545 0 0.39363 0 0 11.8949 0 0 0 ...   \n",
              "1  [0.525088 0 0 0 0 0 9.94829 0 0 0 0 0 1.01264 ...   \n",
              "2  [0.566016 0 0 0 0 0 9.9972 0 0 0 1.38345 0 0.7...   \n",
              "3  [1.1298 0 0 0.778194 0 0.758051 9.83053 0 0 0....   \n",
              "4  [1.71787 0 0 0 0 0 9.33936 0 0 0 0 0 0.412137 ...   \n",
              "\n",
              "                                         image_array  \\\n",
              "0  [73 77 58 71 68 50 77 69 44 120 116 83 125 120...   \n",
              "1  [7 5 8 7 5 8 5 4 6 7 4 7 11 5 9 11 5 9 17 11 1...   \n",
              "2  [169 122 65 131 108 75 193 196 192 218 221 222...   \n",
              "3  [154 179 152 159 183 157 165 189 162 174 199 1...   \n",
              "4  [216 195 180 201 178 160 210 184 164 212 188 1...   \n",
              "\n",
              "                                            image_np  \n",
              "0  [73, 77, 58, 71, 68, 50, 77, 69, 44, 120, 116,...  \n",
              "1  [7, 5, 8, 7, 5, 8, 5, 4, 6, 7, 4, 7, 11, 5, 9,...  \n",
              "2  [169, 122, 65, 131, 108, 75, 193, 196, 192, 21...  \n",
              "3  [154, 179, 152, 159, 183, 157, 165, 189, 162, ...  \n",
              "4  [216, 195, 180, 201, 178, 160, 210, 184, 164, ...  "
            ]
          },
          "execution_count": 13,
          "metadata": {},
          "output_type": "execute_result"
        }
      ],
      "source": [
        "image_train.head()"
      ]
    },
    {
      "cell_type": "markdown",
      "metadata": {
        "id": "fN6Xfg0sNVzs"
      },
      "source": [
        "#Với các deep feature cho trước, hãy huấn luyện một bộ phân loạ"
      ]
    },
    {
      "cell_type": "code",
      "execution_count": 14,
      "metadata": {
        "id": "5ZTREQYrNVzs",
        "outputId": "3457a447-27ed-4f57-e7ca-d51229a2233c"
      },
      "outputs": [
        {
          "data": {
            "text/plain": [
              "'[0.242872 1.09545 0 0.39363 0 0 11.8949 0 0 0 0 0 0 0 0 0 0 0.57885 0.495467 2.51413 0 1.51801 0 0 0 0 0 0 0 0 0 0 0 0 0 1.5814 0 0 2.59561 2.70796 0 0 0 0.85099 0 0.720349 0 0 0 0 0 0.270036 0 0 0 0 0.085928 0 0.701023 0 0 0 0 0.0248057 0 0 0.17549 0 0 0 0 0 2.39278 0 0 4.47187 0 1.63583 0 4.41748 0 0 0 0 0 0 0 0 0 0 0 1.41179 0 0 0 0 0 0 0 0 0 0 0.124768 0 0 0.895716 0 0 0.333499 0 0 0.207873 2.54354 0 0 0.184338 0 1.42003 0 0 0 0 0 0 0 0 0 0 0 1.43542 0 0 0 0 0 1.93689 0 0 0 0 0 0.885218 0 0 1.42506 0 0 1.30532 1.31116 0 0 0 0 0 0 2.8661 0 0 0 0 0 0.841856 0 0 0 0 2.39469 0 0 0 2.17862 0 1.20806 0 1.02115 0 0 0 0 1.0027 1.00278 2.88097 0 0 0 0 0 0 0.0444847 11.2869 0 0 0 0 0 0 0 0 0 0 0 0 0 1.25519 0 1.01393 1.10103 0 2.65495 0.0743851 3.38323 0 0 1.33688 0.480166 0.935999 0.130775 0 0 0 2.55289 0 0 1.98796 0 1.81481 0 0.688944 0 0.318657 2.12182 0 0.5624 1.13918 1.94655 3.15611 0 0 1.68452 0 1.21483 1.07752 0.345013 1.23942 0 0 0 0 0 0 0 0 0 0.77367 0 2.06167 0 0 0 0 2.8326 2.53398 3.29232 0 0 0 0.381851 0 0.220372 0.0190638 1.3762 0 0 2.717 0.660198 0 0.736805 0 0 0 0 0 0.029701 0 0.573202 0 2.61552 0.545876 0.299958 0.146721 0 0 0 1.21728 0 1.06188 1.1734 0 0.888056 0 0 0 0 0 0 0 0 0 0 0 0 0 0 0 0 3.20208 0.700991 1.21886 0.757381 0 0.732475 0 2.66239 0 0 0 0 0 1.7222 0 0 0 1.09555 0 0 0 1.26461 0 0.328664 0 0 0 1.8158 0 2.37036 0 0.431871 0 0 0 0 0 0 0.705562 0.437511 0 0 0 0 1.78404 0 0 0.692204 3.19893 1.21149 0 0 0 3.74646 0 1.02585 0 1.51811 0 0.805615 0 0 0 0 0.509106 0 0.401106 0 0 0 0 0 0 0 0.301225 0 0.352044 0 1.74135 0 0 0 0.594861 0 0 0 0 0.830462 0 0.206427 0 2.1885 0 0 0 2.03546 0 0 0 0.377796 0 0 2.58093 0 0 0 0 0 0 0 0 0 0 0 0 0 0 0 0 0 0 1.04465 0 0 0 0 0 0 2.57952 0 0 0 0 0 0 1.32244 2.12229 0 0 0 1.20433 0.491931 0 0 0 1.00865 2.13557 0 0 0.119556 0 0 0 0 0.149333 0 1.29485 0 0 0 0 0 0 0 0 6.22637 0 0 0 0 0 0 0 0 0 0 0.806476 0 0 0.133826 0 0.166554 0 0 0 0 0 0 0.321232 0.844738 0 0 0.256271 2.56382 0 0 1.09602 0 0 0 0 0 0 0.644339 0 0 0 0 5.56765 0 0 0 0 5.63699 0.558504 0 3.44577 0 1.9344 0.375886 0 0.168793 0 0 0.579681 0 0 0 0 0 0 0 0 0.854463 0 0.325664 0 0 0 0 0.287175 1.08915 4.56219 1.17816 0 0 0 0 0.683528 0 0 0 3.15054 0 0 0 0 0 0 0 0.831201 0.483025 0.0943688 0.690954 0 0 0 0 1.59646 0 0 0 0 0 0 0 0.0185714 0.0823029 0 0.237235 0 0 0 1.92826 3.09528 0 0 0 0 0 0 0 0 0 0 0.240432 0 0 0 0 0 0 0 0 0 0 0 0 0 0.243179 0 0 0.75185 0 0 0 0 0 0 0 0 0 0 0.166691 0.550981 0 2.87774 1.30638 0 0.227364 0 0.374579 0 0 0 0.874538 0 0 0 0 0 0 0 0 0 0 0 0 0 0 0 0 0.979739 0.962959 0 0 0 0 0 0.775354 0 7.57275 0 0 2.14231 0 0.696697 0 0.458473 0.0168808 0 0 0 0.86862 0 1.15217 1.9282 0 0 0 0 0.443691 0 2.74836 0 0 0.52477 0 0 1.81213 3.51356 0.214854 1.07922 0 0 0 0 0 0 0.963662 0 0 0 0.0433163 0 0.806558 0 2.14965 0.139655 0 2.20465 0 0 0 0 0 0 0.672345 0 0.606142 0 0 0 0 0 0.709503 0 0 0 0 0.0213939 0.343902 0.451077 0 0 0 0 1.00151 0 0 0.547287 0 0 0 0 0 0.423191 2.26032 0 0 0.206687 0 0 0.232833 0 0 0 1.30068 0 0.343188 0 1.27579 0.0095942 0 0 0 0.323083 0 0.358389 3.04912 0 1.40701 0.19272 0 0 11.0059 2.15949 0 0 0 0 0 0 0 0 0 0 0 0 0 0 0 0 0 0 0 0.984402 0 0 0 1.96977 0 0 0 0.532147 0 0 0 0 0 1.01452 0 0.446406 0 0 2.29392 0 0.658131 0 0 0.164909 0 0 0 0 0 3.19084 0.649453 0 0 0 0 0 1.01677 0.500879 0 0 0.169414 1.23386 0 0 0 0 0 1.92067 0 0 0 0.713667 0 0 0 0 0 0 0 0.930982 2.13111 0 0 0 0 0 0 0 0.254471 0 0 0 0 0 0 2.41373 0 0 0 0 3.11829 0.0652292 0.271563 0 0 4.21588 0 0 0 0 0 1.25133 0.679716 1.46501 0 1.15671 0 0 0 0 0 3.22543 0 0 0 0 0 0 0 1.64939 0 0 0 0.492069 0.729597 0 0 0 7.51011 0 0.649297 0 0 0 0 0 0 0 0 0 0 0 0 0 0 0 0 0 0 0 0 0 1.22939 0.338357 0 0 0 0 0 0 0 0 0 0 0 0 0 0 0 0 0 0 0 0.542272 0.386488 0 0 0 0 1.10756 0 0 0 0 0 0.933639 0 0.723811 0.0505485 0 0 0 0 0 0 0 0 0 0 0 0 0 1.07257 1.5247 0 0 0 0.734148 0 0 0 1.37889 0 0 0 0 0.986306 1.63045 1.97019 0 0 0 0 1.73477 0 0 0 0 0.701505 0 0 0 2.63238 0 0 0.284286 0 0 0.660596 0 0.0626717 0 0 0.450618 0 0 0 0 0 0 0.8327 0.844003 0 0 0 0.395282 0.864955 0.438426 0 0 0.206386 0.40409 0 0 0 0 0 1.702 0 0 0 0.100893 0.313616 0 0 0 0.97703 0 0.5888 0 0.188718 0 0 0 0 0 0 0 0.607649 0 0 0 0 0 0 0 0 0.712305 2.50606 0 1.5296 0 0.856871 0 0 0 0.173889 0 0 0 1.77502 2.69964 0 0 0 1.74122 0 0 0 1.58517 0 0 0.810189 2.09797 0 0 0 0 0 0.0390959 0 0 0 0 0 1.43592 0 0 0 2.33826 0 0 0 0 1.20279 0 1.23295 0 0 0 0 0 0 0 0.129372 0 0.512938 0 0 0 2.65762 0 0.244359 0 0 0 0 0 0.973557 0 0 0 0 0 0 1.21227 0 0.492226 0 0.321557 0 2.09981 0 0 0 0 0 0 0 0 0 0 0 0 0 0 1.94798 0 2.03544 0 0 0 0 0 0 0 0 0 0 0 0 0 0.246197 0 0.493412 0.278967 0.48865 0 1.06581 5.3047 0 0 0 0 0 0 0 0 4.28417 0.46524 0 0 0.316576 0 0 0 0 0 0 4.69148 0 0 0 0 0 0 0 0 0 2.8389 0 0 1.72069 0 0.909527 0.0687155 0.496822 0 0.926308 0 0 0 0.35655 0 0 0 0 0 2.01895 0 0 0 0.960221 0 0 0 0 0.090708 0 0 0 0 0 0.395812 0.188596 0 0 0 0 0 0 0.0863726 0 0 0 0 1.73065 0 0 0 0 0 1.74283 0 1.404 0 0 0 0 0 3.88384 2.92778 0 1.57035 0 0 0 0 0 1.91534 0 0 1.1043 0 1.87392 0 0 0 0 0 0.183383 0 0 0 0.663833 0 0.185193 0 0 0 0 0 0 0.354934 0 0 0 0 0 0 0.362536 0 0 0 0 0 1.37523 0 0 0 0 0 3.20863 0 0 0 0 0.834829 0 0.922839 1.58863 0 0 0 0 0 0 0.722347 0 0.935856 0 0 1.42947 0.506006 0 0 0 0.511354 0 0 0.903996 0.984093 1.00205 0 0 0 0.370532 0 0 0 0 0.0872349 0 0 0 0 0 0 0 1.91344 0 0 0 0 0 0 0 0 0 0 0 0 0 0 0 0 0 0 0 0 0 1.52205 0 0 0 0 0 0.324583 0 0 0 0 0 0.625099 0 0 0 3.47535 1.86287 1.67693 0.225554 0.655946 0 0 0 0 0 0 1.4519 0 0.470711 0 0.0547772 0.314179 0 0 0 0 0.625271 0 0 0 0 4.70846 0 0 0 0 0 0 0 0 0 0 0 0.849511 0 0 0.0629722 0 0 0 0 0 0 1.73185 0.140047 0 0 1.35583 0 0 0 0 0 0 1.87923 0 0 1.79311 3.60843 0.864533 0 0.758703 0 0 0.511678 0 0 0 0 0.34661 0.214806 0 0 0 0 0 0.582121 1.5363 0 0 0 0 0.755858 0 0 0 0 0 0.693107 0 0 0.28712 0 0 0 4.35 0 0 0.379012 0 0 0 1.69088 0 0 0 0 0 0 0 0 0 0 0 1.37405 0 0.996516 0 0 0 0.548166 0 0 0 2.96878 0 0 0 0 0 0 7.07317 0 0 0 0 0.375488 0 0 0 0 0.435066 0.736063 3.77759 0 0 0 0.908454 0 0 0 2.69344 0 0 0 3.0434 0 0 0.321507 0 0.0513182 0 0.417068 0 0 0 0 0 0 1.95163 0.480295 0 3.31971 0 0 0 0 0.788499 0 0.852848 0 0 2.73733 0 0 0 0 0 0 0 0 0 0 0 0 0 0 0 0 0 0.960868 1.82002 0 0 0 0 0 0 1.38911 0 2.5044 0 0 0 0 0 0 0 0 0 0 0.36285 1.74711 1.84394 0 0 0 0 0.657447 0 0 0 0 0 0 0 0 0 0.761581 0 0.377709 0 0 0 0 0 0.130122 0 0 0 1.86581 0 0 0 0 0.19602 0 0 0 0 1.21545 0 0 0 0 0.747707 0 0 0 0 0 0 0 0 0 0.763522 0 0 0 0 0 0 0 0 0 1.23436 2.50199 0 0 0 1.42203 0 0 0 0.0710616 0 0 0 0 1.40469 0 0 0.894855 0 0 0 0 0.926142 0 0 0 0 0 0 0 0.595306 0.84791 0 0 0.344096 0 0 0 2.36084 0 1.49482 0 0 0 0 0 0 0 0 1.12269 0 2.69351 0.836871 0 0 0 0 0 0 0.452812 0 1.93659 1.78554 0 0 0.728243 0 0.670966 0.524067 1.20415 0 0 0 0 1.68428 0 2.82452 0 0 0 0 0 0 3.44628 0 0 0 0.697094 1.02169 0 0 0 3.25756 0 0 0 3.80477 0 0 0 0 0 0 0 1.76658 0 0 0 0 1.20736 3.47723 0 0 0 2.17183 0 0 0 0.0762399 0 0 1.07086 0 0 0 0 0 0.623582 0 1.52575 0 0 0 0 0.246507 0 0 0 1.53245 2.72211 0 0 0 0 0.00297117 1.08865 0 0 0 0 0.250735 0.655359 3.80056 0 0 0 0 0 0 0 0 0 0 0 0.648958 0 0 1.37307 0.748891 0 0 0.664172 0 0 0 0 0 0 3.94608 0.366373 0 0 0 0 0.681023 0 0 0 0 0 2.52103 0 0 1.8976 0 1.20009 0 0 0 0 0.386977 3.24 0 0 0 0 2.23497 0 0 0 0 0 3.51514 0.113397 0 0 0.280406 0 0.935007 0 1.25412 0 0 0 0 0 0 0 1.31728 0 0 0 0 0 2.44006 0.729178 2.79577 2.06403 0 0 0 0.737498 0.659228 1.0161 0 0 0 0 0 0 1.74479 0 2.01047 0 0.403918 1.53177 0 0 2.11192 1.55259 0 0 0 0 0 0 0 1.78401 0.631112 0 0 0 1.70567 0 0 0 2.47192 1.03073 0 0 0.659252 0 0 0 0 0 0 2.14936 0 0 0 0 0 0.608674 0 0 0 0 0 0 3.20549 0 0.954967 0 0 0 0 0 0 0.484176 0 0.502578 0.381826 0 1.10667 0 0 0 0 0 0.10523 0 0 0 0 0 0 0 0 9.45163 2.44797 0.13164 0 0 0 0 1.94507 0 0 0 0 0 0 2.96589 0.0415011 0 0 1.94717 1.83547 0 0 0 0.901671 1.53421 0 0 0.42206 0.26531 0 0 0 0 0 0 0 0 3.6665 1.27972 0 0 0 0 0 1.95453 0.137775 1.89126 0.286429 0 0.703922 0.322735 0 0 0 0 0 0.441143 0 0 0 1.74068 0 0 0 0 0 0 0 0 0 0 0 0 0 0 0 0 0 0 0.873593 0 0 0 0 0 0 0 0.415171 0 1.98815 0.499982 1.57084 0.529215 0 0 0 0 1.41139 0.475346 0 0 2.10636 0 0.265675 0 0 1.96278 0 0.976422 1.95924 0 1.00719 0 0 0 0 0 0 0 0 0 0 0.751408 2.09432 0 0 0 0 0 0 0 0.37722 0 0 2.4959 0 0.147251 0 0.0822954 0 0.199104 0 0 0.621907 0 0 0.299595 0 0 0 0 0.791505 0 0 0 1.38519 2.27405 0 0 0 0 0 1.1059 0 0 0.401862 0 1.73535 0.742783 3.11732 0 0 1.07123 0 0 0 0 0 0 0 0 3.59522 0.983603 0 0 0 4.78293 0 0 0 0 0 0 0 0 0.17005 0 0 0 1.00315 0 0 0 0 0 2.53208 0 0.741541 0.616364 0 2.04505 0 0 0 0.294442 0 1.97545 1.41158 0.466105 0 0 0 0 0 0 0.830415 0 2.82191 0 0 0 0 0 6.07593 0 2.9849 0 0 0.313286 0.389222 0.994025 1.1933 1.61269 0 0 0 0 0 0 0 0 0 0 3.32336 0 0 0 0 3.3526 0 0 0.341915 0 0 0 0 1.06866 0 0 11.726 0.685848 0 0 0 0 0 0 0 0.592783 0 0.936812 0 0 0 1.22526 0 0 0 0 0 0 0.122652 0 0 0 0.241729 0 0 0 0 0.763402 0 0 0 0.636267 1.24342 0 0 0 0 0 0 0 1.42926 0 0 1.30148 0 0 1.48169 2.19986 0.856341 1.3811 0.12749 0.946087 0 0.71382 0 0 0 1.49053 0 0 0 0 0 0 0 0 0 0 0 0 0 0 0 0 0 0 0.633167 0 0 0 0.925962 1.13888 0 0 0 0 0 0.375423 3.33876 0 0 0 1.32353 0 1.74779 0 0 0.0618644 0 1.49874 0 0 2.79789 0 0 0 0 0 0 0.150586 5.26244 0 0 0.191895 0 0 0 0 0.339688 0.751684 0 0 1.46451 0 0.537887 0 0 0 3.84659 9.47753 11.2054 0.354899 0 0 0 0 0 0.874651 1.02039 2.13483 0 0 0 0 0 0 1.09905 0 0 0 0 0 0 3.63358 0 0.171778 0 0.952586 0 0 0 0 0 0 0 0 2.40803 0 0 0.277453 0 2.87943 0.455653 0 1.63413 0 0 0 0.429579 0 0 0 0 0 0 0 2.70116 0 0 0 0 0 0 0.965608 0.736983 0 0 0 0 0 0 0 0 0.428932 6.99645 0 0 0 2.37196 0 0 0 1.47938 0 1.16422 0 0 0 1.26741 0 0 0 0 1.24557 0.707686 0 0 0.633098 0 0 1.04867 1.87729 0 0 1.74024 0 0.963716 0 0 0 1.63482 0 0 0 0 1.91253 0 0 0.976088 0 0.975768 1.51776 0 2.05525 0 1.29591 0 1.15454 0 2.74904 0 0.221599 0 0 0 0 0 0 3.63066 0 0 0.235029 0 3.6231 0 0 1.7164 1.43355 0 0 0 0 1.32988 0 0 0 0 0 0 0.607805 0 0 0 0.294073 0 0 0 0.24463 0 0 0 0 0 0.102558 0 0 0 0 0 0.883094 0 0 0.526681 0 0 0.597197 0.243228 0 1.46314 0.148302 0 0.420703 0 0 0 0 0 0 0 0 0.27261 0 0 0 0.244661 2.31445 0 0.534689 2.11324 0 0 0 0 0 0 0 0 2.61537 0 0 0 0.73286 0 0.391342 0 1.75066 0.251257 0 0 0.198611 2.01012 0 0 1.26418 0 0 0 0 0 1.52952 0 0.0725439 0 0 0 0 0 0 0 0 2.3736 2.20583 0 0 0 0 0 0 0.206995 0 0 0 2.55448 0.479375 0 4.73851 0 0 0 0 0 0 1.33829 0 0 0 0.884652 0 0 0 0 1.0092 0.938468 0.429511 0.296616 1.21202 0 0.967896 0 0 0 0 0.195972 0 0 0 0 5.40359 0 0 1.76603 0 0 0 0 0 0 0 0.123184 0 0.221494 0 1.65036 0 1.27931 0 0.447524 0.755831 2.92769 0 0 0 0 0 0.539259 1.11946 0 0 0 0 0 0 0 0 0 0 0 0 0 0 0 1.74093 0 0.497556 0 0 0 0 0 0 0 2.19896 2.88501 0 0 0 0 0 2.16467 0 0 0 0.636566 0.272254 0 0 0 0 0 0 0 0.644282 0.75207 0 0 0 1.57452 0.957854 0.758402 0 0.0291058 0 0 0 0 0 1.20555 1.23032 0 0 0 0 0.181634 0.951185 3.93004 0 0 0 0 2.29434 0.60829 0 0.684768 0 0 4.17976 0.571549 0 0.0748957 0 0 0 0 0.517978 0.498935 0 0 0 0 1.03179 0.775185 0 0 0 0.338833 0 0.363193 0 0 0 0 1.84211 0 0 0 0.525039 0 0 0 0 0 1.05459 0 0.0326463 2.48535 0 0 0 0.14548 0.743779 0 0 0.820806 0 0 0 0 0 0 0 0 0.63717 0 0 0 0 0 0 0 6.18495 2.03253 0 0 0 0 0 3.50152 0 0.136547 0 0 0 0 0.490269 6.24631 0 0 0 0 0 0.315254 0 2.69975 0 0 0 0 0 0 0 0 0 0 0 1.45557 0 0.873305 7.78547 0 2.57037 0 1.03845 1.83566 0 0 0.456414 0 0 0 1.7711 0 0.702056 0 0 0 0 0.774709 0.310813 0 8.29247 0 1.13358 0.0823689 0 0 1.19709 0 0 0.405218 0 0 0 0 0 0 0 0 0.165686 0 0 0 0 0 5.15994 0.474715 0.182655 1.22569 0 0.555267 0 2.75026 0 0 0 0 1.57832 0.566916 0 0 0 0 0 0 0 3.43198 0 3.73701 0 1.94385 0.078499 0 2.39583 0 5.04523 0.264231 1.21417 0 0.399975 0 0.20887 0 0 0.814703 0 0 0 0.117667 0 0.272 0.771986 0 0 0 0 0 0 0 0 0.0971078 0 0 0 0 0 4.1336 0.234885 0 1.07307 0 0 0 0 0 0 0 0 0 0 0.887796 0 0 0 0 0 0 0 1.161 0 0 0 0 0.238484 0.796287 0 0 0 0 0 0 0.824993 0 2.67227 0 0 0 1.46508 0 0 0 0 0 0 0.655563 0 0 0 0 0 1.18171 0 0 0 0 0 1.90256 0 0 0 1.21604 0.238693 0 0 0 0 0 0 0 0 0 1.75227 0.554876 1.16072 3.11627 1.34818 0 2.27246 1.85824 0 0 0.497087 0 0 0 0 0.733908 0 0 0 0 0.122213 0.138179 0 0 0 0 0.371935 0 0 0 1.35861 0 0.372193 0.622307 0 2.19023 1.67928 0 0 0 0.0990261 0 0 3.40351 0 0.656296 0 2.80527 0 0 0 0 0.0656152 0 0 0 0 0 0.902138 1.37989 0 0 0 0 0 0.199963 0 0 0 0 1.47123 0 2.51576 0 0 0.135147 0 0 0 0 1.66633 0 0 0 0 0 0 0 0 0 2.06147 0 1.28282 0 1.11964 0.273574 0 0.0526817 2.68583 1.41143 0 0.0906888 0 0 0 0 0 0 0 0 2.66723 0 1.36762 0.922512 1.1283 0 0 0.829885 0.123833 0.765688 0 0 0.724873 0 0 0.354408 0 0 0 0 0 0 0 0 0 2.59414 0 0 0 0 0 1.40545 0 0 0 0 0 0 0 0.763574 1.35911 0 0.269249 0 0 0.327448 1.8802 0 0 3.20757 0 2.5535 0 0 0 5.59939 1.97416 0 0.314242 0 0 0 1.18039 1.76279 0.957732 1.33813 0 1.76355 0 0.342288 0 0 0 0 0 0 0.45518 0.299623 0 0.876325 0.0952888 0 0 1.73751 0 3.24871 1.84455 0.201534 0 0 0 1.83675 0 3.46695 0 0 0 0 0 0 0 0.734753 0.938645 0.0698674 0 0 0 0 0 0 0 0 5.23495 0 0 0 0 0 0 0.339945 0 0 0 0 0 0 0 0 0 0 0 0 0 0 0 0.503072 0 0.153373 0 4.3553 0 0 8.98538 1.00129 0 0 0 0 0 0 0 0 0 0 0 0 0 0.265363 0 0 0 0 4.95354 0 2.18942 0 0 0.458767 2.26708 0 2.17897 0 0 0 0 0 0 0.717907 0 0 0.189681 0 0 0 5.70198 0.80992 2.16745 0 0 0.655132 0 1.38858 0.682813 0 0 0 0 0 1.37193 0 4.2566 0 0.197601 0 0 0 0 0 0.300667 0 1.47331 0 0.676269 0 0 0 0.519759 0.461573 3.12341 0 0 0.196332 0 0 1.18382 0 0 0.717831 0 3.64562 0 0 0 0 0 0 0 0 0.41295 0 0 1.79957 0 0 0 0 0 0 0 0 0 0 1.2225 0 0 0 0 0 0.748796 0.992134 1.83114 1.87243 0 0 0 0 0 0 0 0 0 0 0 0 0 2.39803 0 0 0 1.29259 0 0 0.037102 0.381631 0.819966 0 0 0 0 0 0 0 0 0 0 0 1.20106 3.59249 0 0 2.04957 0.830208 0.0759876 0 0 0 0.211357 0 0 0 0.899589 0 0 0 0 0 1.17344 0 0 4.18261 0.943207 0 1.07928 0.761056 0 0.776979 0 0 0 3.20185 0 0 2.60557 0.753952 0 0 0 0.533713 0 0 0.319013 0 0 0 0 0 0 0 1.76433 0 0.338177 0 0 0 0.192568 2.64552 0 0 0 0 0 0.37863 0 0 0 1.40479 0 0 0 1.95611 0 1.74673 0 0 0.524547 0 0 0.307329 0.639972 0 0 0 0 0.493442 0 0 0 0 0 0 0.374396 0 0 0 0 0 0 0.947475 0 0 0 0 0 0 0 0 0.806033 0 0 1.29803 0 0 0.797865 0 0 0 0 0.813686 0 0 0 0.653104 0 0 0 0 1.57721 0 0 0.132006 0 0 0 0 2.90998 0 0 0 2.30776 0.633115 0 1.90849 0 0.424485 0 0 0 0.536965 0 1.24533 0 0.233399 0 0 0.614154 0 2.03156 0.437488 0 1.14838 0 0 0 0 0 0 0.923708 0 0.939048 0 0 0.979765 0 1.50918 1.51624 0 0.256371 0 0.995601 0 0 1.25962 0 0 0 0 0 0 1.16249 0 0 0 0 0.0305935 0 0 1.2702 0.709926 0 0 0 0 0 0 0 2.431 2.19188 0 0 0 0 0 0 0 2.13838 0 1.62421 0.203603 0 0 1.89281 0 0 0 0 0.356953 0 0 0 0 3.08571 0 0 0 0 0 0 0 5.3628 0 0 0 0 0 0 0 0 4.22581 0 0 0 0 0 0.453599 0 0 1.16059 0 0 0 0 0 0 0 0.873658 0.414761 0 0 0 0 0.892518 0 0 0 1.12012 0 0 0 0 0 0.0388516 0 0 0 0 0 0 0 0 0.307003 0 0 0 1.69712 0 3.66293 0 0 0 0.85505 0 0 0 2.29001 0 1.6032 2.04611 0 0 0 1.94067 0.97945 0 0 0 0 0 0 0 0 0 0 0 0 0 0 2.48573 0 3.40188 1.4248 1.37428 0 0 0 0 1.52936 0 0 0 11.6311 0.543332 0 2.91386 0 0.368379 0 3.88652 0 0 0 0 0 0 2.7655 0 1.62437 0 0 0 0 0 0 0 0 0 3.03073 0 0 0.263244 0 0 0 0.379337 0 0 0 0 0 7.88002 0 0 2.38987 0 0.916978 0 0 0 0 1.24847 0.779364 0 0 0 0 0 0 0 2.37352 1.15821 3.08535 1.9623 0.0798865 0 0 1.65125 0 0 1.771 0.849841 3.95397 0 0 0 2.20347 0 0 0 0 0 2.35383 0 0.786718 0 1.77164 0 0 0 3.14054 0.613806 3.08095 0 0 6.38874 0 0 4.49095 1.47662 0 0 0 0.0365177 0 1.25281 0 0 0 0 0 0 4.70775 1.5479 0.755272 0.137909 1.32881 0 0 0 1.10957 0 3.40146 0 0 0.388018 0 0 1.07033 0 0.601692 0 0 0 2.44833 0 0.944454 0 0 4.14457 0 0 0.46447 0 0 0 2.51552 0 0 0 0 0 0 0 0 0 0.462352 0 0 0.411603 0.595375 0 0 0 0 0 0 0 0 0 0 0 0 1.05642 0.293701 0.241797 0 0 0 0 0 0.421911 0.90445 1.10052 0 1.31538 0 0 0]'"
            ]
          },
          "execution_count": 14,
          "metadata": {},
          "output_type": "execute_result"
        }
      ],
      "source": [
        "image_train['deep_features'].values[0]"
      ]
    },
    {
      "cell_type": "code",
      "execution_count": 15,
      "metadata": {
        "id": "2QWPjem7NVzs",
        "outputId": "ca8846d2-c34b-4fef-ad5f-3c7149fc7fa4"
      },
      "outputs": [
        {
          "name": "stdout",
          "output_type": "stream",
          "text": [
            "(2005, 4096) (2005,)\n"
          ]
        },
        {
          "name": "stderr",
          "output_type": "stream",
          "text": [
            "/Users/ngohongthai/miniforge3/lib/python3.9/site-packages/sklearn/linear_model/_logistic.py:814: ConvergenceWarning: lbfgs failed to converge (status=1):\n",
            "STOP: TOTAL NO. of ITERATIONS REACHED LIMIT.\n",
            "\n",
            "Increase the number of iterations (max_iter) or scale the data as shown in:\n",
            "    https://scikit-learn.org/stable/modules/preprocessing.html\n",
            "Please also refer to the documentation for alternative solver options:\n",
            "    https://scikit-learn.org/stable/modules/linear_model.html#logistic-regression\n",
            "  n_iter_i = _check_optimize_result(\n"
          ]
        },
        {
          "data": {
            "text/plain": [
              "LogisticRegression()"
            ]
          },
          "execution_count": 15,
          "metadata": {},
          "output_type": "execute_result"
        }
      ],
      "source": [
        "def convert_features(img):\n",
        "    stringbuf = io.StringIO(img[1:-1])\n",
        "    array = np.loadtxt(stringbuf, dtype=np.float16)\n",
        "    stringbuf.close()\n",
        "    return array\n",
        "image_train['deep_np'] = image_train['deep_features'].map(convert_features)\n",
        "image_test['deep_np'] = image_test['deep_features'].map(convert_features)\n",
        "deep_features_model = LogisticRegression()\n",
        "\n",
        "train_data = variable_length_to_2d(image_train['deep_np'])\n",
        "print(np.shape(train_data), np.shape(train_labels))\n",
        "deep_features_model.fit(train_data, train_labels)\n",
        "#deep_features_model = graphlab.logistic_classifier.create(image_train,\n",
        "#                                                         features=['deep_features'],\n",
        "#                                                         target='label')"
      ]
    },
    {
      "cell_type": "markdown",
      "metadata": {
        "id": "2H2dYVnMNVzt"
      },
      "source": [
        "# Áp dụng mô hình deep feature cho một vài hình đầu tiên của test set"
      ]
    },
    {
      "cell_type": "code",
      "execution_count": 16,
      "metadata": {
        "id": "M5z0Mq1YNVzt",
        "outputId": "b60ff119-2c9a-41d6-9d0a-d01c2f8c28ed"
      },
      "outputs": [
        {
          "data": {
            "image/png": "[encoded data removed]",
            "text/plain": [
              "<Figure size 216x72 with 3 Axes>"
            ]
          },
          "metadata": {
            "needs_background": "light"
          },
          "output_type": "display_data"
        }
      ],
      "source": [
        "show_images(image_test[0:3]['image_np'].values)"
      ]
    },
    {
      "cell_type": "code",
      "execution_count": 17,
      "metadata": {
        "id": "GCfUkgO_NVzt",
        "outputId": "23f6d89a-6316-4e8b-d50a-1b1007834dbf"
      },
      "outputs": [
        {
          "data": {
            "text/plain": [
              "array(['cat', 'automobile', 'cat'], dtype=object)"
            ]
          },
          "execution_count": 17,
          "metadata": {},
          "output_type": "execute_result"
        }
      ],
      "source": [
        "test_data = variable_length_to_2d(image_test['deep_np'])\n",
        "label_encoder.inverse_transform(deep_features_model.predict(test_data[0:3]))"
      ]
    },
    {
      "cell_type": "markdown",
      "metadata": {
        "id": "miG3F8t4NVzt"
      },
      "source": [
        "Bộ phân loại với các deep feature nhận được tất cả các hình đúng!"
      ]
    },
    {
      "cell_type": "markdown",
      "metadata": {
        "id": "RVCTvSFkNVzt"
      },
      "source": [
        "# Tính độ chính xác test_data của deep_features_model\n",
        "\n",
        "Như bạn thấy, deep feature cho chúng ta độ chính xác cao hơn đáng kể (khoảng 78%)."
      ]
    },
    {
      "cell_type": "code",
      "execution_count": 18,
      "metadata": {
        "id": "dBrtdKYYNVzt",
        "outputId": "601c6df4-dd6c-4098-bdec-49501e981379"
      },
      "outputs": [
        {
          "name": "stdout",
          "output_type": "stream",
          "text": [
            "['automobile' 'bird' 'cat' 'dog']\n",
            "[[971  14   9   6]\n",
            " [  9 808 130  53]\n",
            " [ 17  80 681 222]\n",
            " [  3  60 213 724]]\n",
            "0.796\n"
          ]
        }
      ],
      "source": [
        "test_preds = deep_features_model.predict(test_data)\n",
        "test_labels = label_encoder.transform(image_test['label'])\n",
        "print(label_encoder.classes_)\n",
        "print(confusion_matrix(test_labels, test_preds))\n",
        "print(precision_score(test_labels, test_preds, average=\"micro\"))"
      ]
    },
    {
      "cell_type": "code",
      "execution_count": null,
      "metadata": {
        "id": "MJL1GTFaNVzu"
      },
      "outputs": [],
      "source": []
    }
  ],
  "metadata": {
    "colab": {
      "collapsed_sections": [],
      "name": "[VN]Lab 14.2-Deep Features for Image Classification.ipynb",
      "provenance": [],
      "toc_visible": true
    },
    "kernelspec": {
      "display_name": "Python 3",
      "language": "python",
      "name": "python3"
    },
    "language_info": {
      "codemirror_mode": {
        "name": "ipython",
        "version": 3
      },
      "file_extension": ".py",
      "mimetype": "text/x-python",
      "name": "python",
      "nbconvert_exporter": "python",
      "pygments_lexer": "ipython3",
      "version": "3.9.10"
    }
  },
  "nbformat": 4,
  "nbformat_minor": 0
}
