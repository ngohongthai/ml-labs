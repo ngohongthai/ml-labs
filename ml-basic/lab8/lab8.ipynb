{
 "cells": [
  {
   "cell_type": "markdown",
   "metadata": {},
   "source": [
    "# Lab 8: Thống kê cơ bản"
   ]
  },
  {
   "cell_type": "markdown",
   "metadata": {},
   "source": [
    "##  Mean, Median, and Mode"
   ]
  },
  {
   "cell_type": "code",
   "execution_count": 1,
   "metadata": {},
   "outputs": [],
   "source": [
    "'''Mean of X with rounding to 1 decimal places'''\n",
    "def mean(X):\n",
    "    return round(sum(X)/len(X), 1)\n",
    "\n",
    "'''Median of X '''\n",
    "def median(X):\n",
    "    X.sort()\n",
    "    if len(X) % 2 == 0:\n",
    "        return (X[len(X)//2] + X[len(X)//2 - 1])/2\n",
    "    else:\n",
    "        return X[len(X)//2]\n",
    "    \n",
    "'''List to Dictionary with count of each element'''\n",
    "def list_to_dict(X):\n",
    "    d = {}\n",
    "    for x in X:\n",
    "        if x in d:\n",
    "            d[x] += 1\n",
    "        else:\n",
    "            d[x] = 1\n",
    "    return d\n",
    "\n",
    "def mode(X):\n",
    "    count_dict = list_to_dict(X)\n",
    "    # get largest count\n",
    "    largest_count = max(count_dict.values())\n",
    "    modes = [k for k, v in count_dict.items() if v == largest_count]\n",
    "    modes.sort()\n",
    "    return modes[0]"
   ]
  },
  {
   "cell_type": "markdown",
   "metadata": {},
   "source": [
    "## Weighted Mean"
   ]
  },
  {
   "cell_type": "code",
   "execution_count": 2,
   "metadata": {},
   "outputs": [],
   "source": [
    "#\n",
    "# Complete the 'weightedMean' function below.\n",
    "#\n",
    "# The function accepts following parameters:\n",
    "#  1. INTEGER_ARRAY X\n",
    "#  2. INTEGER_ARRAY W\n",
    "#\n",
    "\n",
    "def weightedMean(X, W):\n",
    "    # Write your code here\n",
    "    sum_x = 0\n",
    "    sum_w = 0\n",
    "    for i in range(len(X)):\n",
    "        sum_x += X[i] * W[i]\n",
    "        sum_w += W[i]\n",
    "    return round(sum_x / sum_w, 1)"
   ]
  },
  {
   "cell_type": "markdown",
   "metadata": {},
   "source": [
    "## Quartiles"
   ]
  },
  {
   "cell_type": "code",
   "execution_count": 3,
   "metadata": {},
   "outputs": [],
   "source": [
    "def quartiles(arr):\n",
    "    arr.sort()\n",
    "    q1_arr = []\n",
    "    q3_arr = []\n",
    "    if len(arr) % 2 == 0:\n",
    "        q2 = (arr[len(arr)//2] + arr[len(arr)//2 - 1])/2\n",
    "        q1_arr = arr[:len(arr)//2]\n",
    "        q3_arr = arr[len(arr)//2:]\n",
    "    else:\n",
    "        q2 = arr[len(arr)//2]\n",
    "        q1_arr = arr[:len(arr)//2]\n",
    "        q3_arr = arr[len(arr)//2 + 1:]\n",
    "    q1 = median(q1_arr)\n",
    "    q3 = median(q3_arr)\n",
    "    \n",
    "    return [int(q1),int(q2),int(q3)]"
   ]
  },
  {
   "cell_type": "markdown",
   "metadata": {},
   "source": [
    "## Interquartile Range"
   ]
  },
  {
   "cell_type": "code",
   "execution_count": 4,
   "metadata": {},
   "outputs": [],
   "source": [
    "def interQuartile(values, freqs):\n",
    "    arr = []\n",
    "    for index, value in enumerate(values):\n",
    "        arr.extend([value]*freqs[index])\n",
    "    q1 = quartiles(arr)[0]\n",
    "    q3 = quartiles(arr)[2]\n",
    "    return round(float(q3 - q1), 1)"
   ]
  },
  {
   "cell_type": "markdown",
   "metadata": {},
   "source": [
    "## Standard Deviation"
   ]
  },
  {
   "cell_type": "code",
   "execution_count": 6,
   "metadata": {},
   "outputs": [],
   "source": [
    "import math\n",
    "#\n",
    "# Complete the 'stdDev' function below.\n",
    "#\n",
    "# The function accepts INTEGER_ARRAY arr as parameter.\n",
    "#\n",
    "\n",
    "def stdDev(arr):\n",
    "    # find mean\n",
    "    mean = sum(arr)/len(arr)\n",
    "    for i in range(len(arr)):\n",
    "        arr[i] = (arr[i] - mean)**2\n",
    "    # find standard deviation\n",
    "    return math.sqrt(sum(arr)/len(arr))"
   ]
  },
  {
   "cell_type": "code",
   "execution_count": null,
   "metadata": {},
   "outputs": [],
   "source": []
  }
 ],
 "metadata": {
  "interpreter": {
   "hash": "d4769b5f4808649e9f6efc2edf9fbe2018aef5c0a679de8e6bc3eb348403e35b"
  },
  "kernelspec": {
   "display_name": "Python 3.7.11 ('tf')",
   "language": "python",
   "name": "python3"
  },
  "language_info": {
   "codemirror_mode": {
    "name": "ipython",
    "version": 3
   },
   "file_extension": ".py",
   "mimetype": "text/x-python",
   "name": "python",
   "nbconvert_exporter": "python",
   "pygments_lexer": "ipython3",
   "version": "3.7.11"
  },
  "orig_nbformat": 4
 },
 "nbformat": 4,
 "nbformat_minor": 2
}
