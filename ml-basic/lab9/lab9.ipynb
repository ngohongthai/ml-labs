{
 "cells": [
  {
   "cell_type": "markdown",
   "metadata": {},
   "source": [
    "# Lab 9: Xác suất cơ bản"
   ]
  },
  {
   "cell_type": "markdown",
   "metadata": {},
   "source": [
    "## Binomial Distribution I\n",
    "\n",
    "- Thực hiện $n$ phép thử độc lập\n",
    "- Mỗi lần thử có 2 khả năng *Thành công* với xác suất $p$, *Thất bại* với xác suất $1-p$\n",
    "  \n",
    "$$\n",
    "\\begin{equation}\n",
    "    f(k;p) =\n",
    "    \\left\\{\n",
    "        \\begin{array}{cc}\n",
    "                p & \\mathrm{if\\ } k=1 \\\\\n",
    "                1-p & \\mathrm{if\\ } k=0 \\\\\n",
    "        \\end{array} \n",
    "    \\right.\n",
    "\\end{equation}\n",
    "$$\n",
    "\n",
    "<br>\n",
    "\n",
    "$$\n",
    "P(X=k) = \\binom{n}{k}p^k(1-p)^{n-k}\n",
    "$$\n",
    "\n",
    "($X$: Số lần thành công)\n",
    "\n",
    "$\\mu = n*p$\n",
    "\n",
    "$\\sigma^2 = n*p*(1-p)$\n",
    "\n",
    "$\\binom{n}{k} = \\frac{n!}{k!(n-k)!}$\n",
    "\n",
    "\n"
   ]
  },
  {
   "cell_type": "markdown",
   "metadata": {},
   "source": [
    "### **Task 1**\n",
    "\n",
    "The ratio of boys to girls for babies born in Russia is `1.09:1`. If there is `1` child born per birth, what proportion of Russian families with exactly `6` children will have at least `3` boys?\n",
    "\n",
    "Write a program to compute the answer using the above parameters. Then print your result, rounded to a scale of 3 decimal places (i.e., 1.234 format)."
   ]
  },
  {
   "cell_type": "code",
   "execution_count": 5,
   "metadata": {},
   "outputs": [
    {
     "name": "stdout",
     "output_type": "stream",
     "text": [
      "boys: 3, girls: 3, prob: 0.3107647656395735\n",
      "boys: 4, girls: 2, prob: 0.25405019591035144\n",
      "boys: 5, girls: 1, prob: 0.11076588541691323\n",
      "boys: 6, girls: 0, prob: 0.020122469184072577\n",
      "Result:  0.696\n"
     ]
    }
   ],
   "source": [
    "boyP = 1.09/(1+1.09)\n",
    "girlP = 1-boyP\n",
    "\n",
    "def factorial(n):\n",
    "    return 1 if n == 0 else n*factorial(n-1)\n",
    "\n",
    "def combination(n,r):\n",
    "    return factorial(n)/(factorial(r)*factorial(n-r))\n",
    "\n",
    "\n",
    "def bernoulli(x, n, p):\n",
    "    '''\n",
    "    x: Số lần thành công\n",
    "    n: Tổng số lần thử\n",
    "    p: xác suất thành công\n",
    "    '''\n",
    "    return combination(n, x) * p**x * (1-p)**(n-x)\n",
    "\n",
    "totalProb = 0\n",
    "for numBoy in range(3, 7):\n",
    "    prob = bernoulli(numBoy, 6, boyP)\n",
    "    print('boys: {}, girls: {}, prob: {}'.format(numBoy, 6 - numBoy, prob))\n",
    "    totalProb += prob\n",
    "print(\"Result: \", round(totalProb, 3))"
   ]
  },
  {
   "cell_type": "markdown",
   "metadata": {},
   "source": [
    "### **Task 2**\n",
    "\n",
    "A blindfolded marksman finds that on the average he hits the target 4 times out of 5. If he fires 4 shots,<br> what is the probability of\n",
    "\n",
    "(a) more than 2 hits?\n",
    "\n",
    "(b) at least 3 misses?"
   ]
  },
  {
   "cell_type": "code",
   "execution_count": 8,
   "metadata": {},
   "outputs": [
    {
     "name": "stdout",
     "output_type": "stream",
     "text": [
      "(a) more than 2 hits:  0.819\n",
      "(b) at least 3 misses:  0.027\n"
     ]
    }
   ],
   "source": [
    "successProb = 4/5\n",
    "n = 4\n",
    "\n",
    "# (a) more than 2 hits?\n",
    "totalProA = 0\n",
    "for i in range(3,5):\n",
    "    totalProA += bernoulli(i, n, successProb)\n",
    "print(\"(a) more than 2 hits: \", round(totalProA, 3))\n",
    "\n",
    "# (b) at least 3 misses?\n",
    "totalProB = 0\n",
    "for i in range(3,5):\n",
    "    totalProB += bernoulli(i, n, 1-successProb)\n",
    "print(\"(b) at least 3 misses: \", round(totalProB, 3))\n"
   ]
  },
  {
   "cell_type": "markdown",
   "metadata": {},
   "source": [
    "## Normal Distribution I\n",
    "\n",
    "$X$ is normally distributed with mean $\\mu$ and standard deviation $\\sigma$:\n",
    "$$X \\sim \\mathcal{N}(\\mu,\\,\\sigma^{2})$$\n",
    "\n",
    "**PDF:**\n",
    "\n",
    "$${\\displaystyle f(x)={\\frac {1}{\\sigma {\\sqrt {2\\pi }}}}e^{-{\\frac {1}{2}}\\left({\\frac {x-\\mu }{\\sigma }}\\right)^{2}}}$$\n",
    "\n",
    "<br>\n",
    "<br>\n",
    "\n",
    "$$E(X) = \\mu $$\n",
    "\n",
    "<br>\n",
    "<br>\n",
    "\n",
    "$$\\sigma^{2} = Var(X) = E((X - \\mu)^{2}) = \\sum (x_{i} - \\mu)^{2} * P_{i}(x_{i})$$\n",
    "\n"
   ]
  },
  {
   "cell_type": "markdown",
   "metadata": {},
   "source": [
    "### **Task 1**\n",
    "\n",
    "In a certain plant, the time taken to assemble a car is a random variable, $X$ , having a normal distribution with a mean of $20$ hours and a standard deviation of $2$ hours. What is the probability that a car can be assembled at this plant in:\n",
    "\n",
    "Less than $19.5$ hours?<br>\n",
    "Between $20$ and $22$ hours?"
   ]
  },
  {
   "cell_type": "markdown",
   "metadata": {},
   "source": [
    "Dựa vào công thức tính hàm phân phối tích luỹ: [Hacker Rank](https://www.hackerrank.com/challenges/s10-normal-distribution-1/tutorial)\n",
    "\n",
    "Viết hàm tính $erf$ and $\\phi$:"
   ]
  },
  {
   "cell_type": "code",
   "execution_count": 18,
   "metadata": {},
   "outputs": [],
   "source": [
    "import math\n",
    "def integrate(f, b, n=1000):\n",
    "    '''\n",
    "    f: function\n",
    "    b: end\n",
    "    n: number of points\n",
    "    '''\n",
    "    step=1/n\n",
    "    if(b<0):step=-step\n",
    "    n=int(abs(b)*n)\n",
    "    a=0.0\n",
    "    sq=0.0\n",
    "    for _ in range(0,n):\n",
    "        sq+=step*f(a)\n",
    "        a+=step\n",
    "    return abs(sq)\n",
    "\n",
    "def erf(b):\n",
    "    '''\n",
    "    b: end\n",
    "    '''\n",
    "    return (2*math.pi**(-0.5)) * integrate(lambda x: math.exp(-x**2),b)\n",
    "\n",
    "def phi(b, mean, std):\n",
    "    '''\n",
    "    b: end\n",
    "    '''\n",
    "    return (1 + erf( (b-mean) / (std * 2**0.5) ))/2"
   ]
  },
  {
   "cell_type": "code",
   "execution_count": 20,
   "metadata": {},
   "outputs": [
    {
     "name": "stdout",
     "output_type": "stream",
     "text": [
      "Less than $19.5$ hours:  0.402\n",
      "Between $20$ and $22$ hours:  0.341\n"
     ]
    }
   ],
   "source": [
    "mean = 20.0\n",
    "std = 2.0\n",
    "print(\"Less than $19.5$ hours: \", round(phi(0, mean, std) - phi(19.5, mean, std), 3))\n",
    "print(\"Between $20$ and $22$ hours: \", round(phi(22, mean, std) - phi(20, mean, std), 3))"
   ]
  },
  {
   "cell_type": "markdown",
   "metadata": {},
   "source": [
    "### **Task 2**\n",
    "\n",
    "$X$ is a normally distributed variable with a mean of $\\mu = 30$ and a standard deviation of $\\sigma = 4$ . Find:"
   ]
  },
  {
   "cell_type": "markdown",
   "metadata": {},
   "source": [
    "$P(X<40)$"
   ]
  },
  {
   "cell_type": "code",
   "execution_count": 28,
   "metadata": {},
   "outputs": [
    {
     "data": {
      "text/plain": [
       "0.994"
      ]
     },
     "execution_count": 28,
     "metadata": {},
     "output_type": "execute_result"
    }
   ],
   "source": [
    "mean = 30\n",
    "std = 4\n",
    "\n",
    "1-(round(phi(0, mean, std) - phi(40, mean, std), 3))"
   ]
  },
  {
   "cell_type": "markdown",
   "metadata": {},
   "source": [
    "$P(X>21)$"
   ]
  },
  {
   "cell_type": "code",
   "execution_count": 26,
   "metadata": {},
   "outputs": [
    {
     "data": {
      "text/plain": [
       "0.988"
      ]
     },
     "execution_count": 26,
     "metadata": {},
     "output_type": "execute_result"
    }
   ],
   "source": [
    "1 - (round(phi(0, mean, std) - phi(21, mean, std), 3))"
   ]
  },
  {
   "cell_type": "markdown",
   "metadata": {},
   "source": [
    "$P(30<X<35)$"
   ]
  },
  {
   "cell_type": "code",
   "execution_count": 23,
   "metadata": {},
   "outputs": [
    {
     "data": {
      "text/plain": [
       "0.394"
      ]
     },
     "execution_count": 23,
     "metadata": {},
     "output_type": "execute_result"
    }
   ],
   "source": [
    "round(phi(35, mean, std) - phi(30, mean, std), 3)"
   ]
  },
  {
   "cell_type": "code",
   "execution_count": null,
   "metadata": {},
   "outputs": [],
   "source": []
  }
 ],
 "metadata": {
  "interpreter": {
   "hash": "d4769b5f4808649e9f6efc2edf9fbe2018aef5c0a679de8e6bc3eb348403e35b"
  },
  "kernelspec": {
   "display_name": "Python 3.7.11 ('tf')",
   "language": "python",
   "name": "python3"
  },
  "language_info": {
   "codemirror_mode": {
    "name": "ipython",
    "version": 3
   },
   "file_extension": ".py",
   "mimetype": "text/x-python",
   "name": "python",
   "nbconvert_exporter": "python",
   "pygments_lexer": "ipython3",
   "version": "3.7.11"
  },
  "orig_nbformat": 4
 },
 "nbformat": 4,
 "nbformat_minor": 2
}
