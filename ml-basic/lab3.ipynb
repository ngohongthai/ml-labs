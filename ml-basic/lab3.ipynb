{
 "cells": [
  {
   "cell_type": "markdown",
   "metadata": {},
   "source": [
    "# Lab 3: OOP với Python"
   ]
  },
  {
   "cell_type": "markdown",
   "metadata": {},
   "source": [
    "## Class and Object"
   ]
  },
  {
   "cell_type": "markdown",
   "metadata": {},
   "source": [
    "### **Exercise**\n",
    "\n",
    "Bạn đã được bạn của mình, một người đam mê ngôn ngữ học, tuyển dụng để tạo ra một công cụ tiện ích có thể thực hiện phân tích trên một đoạn văn bản nhất định. Hoàn thành lớp \n",
    "'analysedText' với các phương thức sau -\n",
    "\n",
    "<ul>\n",
    "    <li> Hàm khởi tạo - Lấy đối số là 'text', đặt nó thành chữ thường và xóa tất cả các dấu câu. Giả sử chỉ sử dụng các dấu câu sau - dấu chấm (.), dấu chấm than (!), dấu phẩy (,) và dấu hỏi (?). Lưu trữ đối số trong \"fmtText\"    \n",
    "    <li> freqAll - trả về một dictionary của tất cả các từ duy nhất trong văn bản cùng với số lần xuất hiện của chúng.\n",
    "    <li> freqOf - trả về tần suất của từ được truyền trong đối số.\n",
    "</ul>\n",
    "Bạn đã biết khung code. Docstrings có thể được bỏ qua cho mục đích của bài tập. <br>\n",
    " <i> Gợi ý: Một số hàm hữu ích như <code>replace()</code>, <code>lower()</code>, <code>split()</code>, <code>count()</code> </i><br>"
   ]
  },
  {
   "cell_type": "code",
   "execution_count": 1,
   "metadata": {},
   "outputs": [],
   "source": [
    "class analysedText(object):\n",
    "    \n",
    "    def __init__ (self, text):\n",
    "        self.fmtText = text.lower().replace('.','').replace(',','').replace('!','').replace('?','')\n",
    "    \n",
    "    def freqAll(self):        \n",
    "        listWords = self.fmtText.split()\n",
    "        dictWords = {}\n",
    "        for word in listWords:\n",
    "            if word in dictWords:\n",
    "                dictWords[word] += 1\n",
    "            else:\n",
    "                dictWords[word] = 1\n",
    "        return dictWords\n",
    "    \n",
    "    def freqOf(self,word):\n",
    "        dictWords = self.freqAll()\n",
    "        if word in dictWords:\n",
    "            return dictWords[word]\n",
    "        else:\n",
    "            return 0"
   ]
  },
  {
   "cell_type": "code",
   "execution_count": 2,
   "metadata": {},
   "outputs": [
    {
     "name": "stdout",
     "output_type": "stream",
     "text": [
      "Constructor: \n",
      "Test Passed\n",
      "freqAll: \n",
      "Test Passed\n",
      "freqOf: \n",
      "Test Passed\n"
     ]
    }
   ],
   "source": [
    "import sys\n",
    "\n",
    "sampleMap = {'eirmod': 1,'sed': 1, 'amet': 2, 'diam': 5, 'consetetur': 1, 'labore': 1, 'tempor': 1, 'dolor': 1, 'magna': 2, 'et': 3, 'nonumy': 1, 'ipsum': 1, 'lorem': 2}\n",
    "\n",
    "def testMsg(passed):\n",
    "    if passed:\n",
    "       return 'Test Passed'\n",
    "    else :\n",
    "       return 'Test Failed'\n",
    "\n",
    "print(\"Constructor: \")\n",
    "try:\n",
    "    samplePassage = analysedText(\"Lorem ipsum dolor! diam amet, consetetur Lorem magna. sed diam nonumy eirmod tempor. diam et labore? et diam magna. et diam amet.\")\n",
    "    print(testMsg(samplePassage.fmtText == \"lorem ipsum dolor diam amet consetetur lorem magna sed diam nonumy eirmod tempor diam et labore et diam magna et diam amet\"))\n",
    "except:\n",
    "    print(\"Error detected. Recheck your function \" )\n",
    "print(\"freqAll: \")\n",
    "try:\n",
    "    wordMap = samplePassage.freqAll()\n",
    "    print(testMsg(wordMap==sampleMap))\n",
    "except:\n",
    "    print(\"Error detected. Recheck your function \" )\n",
    "print(\"freqOf: \")\n",
    "try:\n",
    "    passed = True\n",
    "    for word in sampleMap:\n",
    "        if samplePassage.freqOf(word) != sampleMap[word]:\n",
    "            passed = False\n",
    "            break\n",
    "    print(testMsg(passed))\n",
    "    \n",
    "except:\n",
    "    print(\"Error detected. Recheck your function  \" )"
   ]
  },
  {
   "cell_type": "code",
   "execution_count": null,
   "metadata": {},
   "outputs": [],
   "source": []
  }
 ],
 "metadata": {
  "interpreter": {
   "hash": "7636056f1e4d8fdf67bea993a39219552fd16254f6bf1d4cfd5ce8af047e9af1"
  },
  "kernelspec": {
   "display_name": "Python 3.8.13",
   "language": "python",
   "name": "python3"
  },
  "language_info": {
   "codemirror_mode": {
    "name": "ipython",
    "version": 3
   },
   "file_extension": ".py",
   "mimetype": "text/x-python",
   "name": "python",
   "nbconvert_exporter": "python",
   "pygments_lexer": "ipython3",
   "version": "3.7.11"
  },
  "orig_nbformat": 4
 },
 "nbformat": 4,
 "nbformat_minor": 2
}
